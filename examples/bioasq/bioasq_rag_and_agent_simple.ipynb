{
 "cells": [
  {
   "cell_type": "code",
   "execution_count": 1,
   "metadata": {},
   "outputs": [
    {
     "name": "stderr",
     "output_type": "stream",
     "text": [
      "/Users/anishshah/Documents/GitHub/snowflake-arctic-weave-demo/.venv/lib/python3.10/site-packages/sentence_transformers/cross_encoder/CrossEncoder.py:11: TqdmWarning: IProgress not found. Please update jupyter and ipywidgets. See https://ipywidgets.readthedocs.io/en/stable/user_install.html\n",
      "  from tqdm.autonotebook import tqdm, trange\n"
     ]
    }
   ],
   "source": [
    "from weave_example_demo.llm_types.prompts import PromptTemplate\n",
    "from weave_example_demo.llm_types.rag.vector_store import VectorStore\n",
    "from weave_example_demo.scorers.llm_guard_scorer import LLMGuardScorer\n",
    "from weave_example_demo.scorers.tonic_validate_scorer import TonicValidateScorer\n",
    "from weave_example_demo.llm_types.rag.rag import RAGModel\n"
   ]
  },
  {
   "cell_type": "code",
   "execution_count": 2,
   "metadata": {},
   "outputs": [],
   "source": [
    "import weave"
   ]
  },
  {
   "cell_type": "code",
   "execution_count": 3,
   "metadata": {},
   "outputs": [
    {
     "name": "stdout",
     "output_type": "stream",
     "text": [
      "Logged in as Weights & Biases user: a-sh0ts.\n",
      "View Weave data at https://wandb.ai/a-sh0ts/bioasq-rag-data/weave\n"
     ]
    }
   ],
   "source": [
    "weave.init('bioasq-rag-data')\n",
    "vector_store = weave.ref('VectorStore:latest').get()\n",
    "embedding_model = weave.ref('SentenceTransformersModel:latest').get()"
   ]
  },
  {
   "cell_type": "code",
   "execution_count": 5,
   "metadata": {},
   "outputs": [
    {
     "data": {
      "text/plain": [
       "\"SentenceTransformer(\\n  (0): Transformer({'max_seq_length': 256, 'do_lower_case': False}) with Transformer model: BertModel \\n  (1): Pooling({'word_embedding_dimension': 384, 'pooling_mode_cls_token': False, 'pooling_mode_mean_tokens': True, 'pooling_mode_max_tokens': False, 'pooling_mode_mean_sqrt_len_tokens': False, 'pooling_mode_weightedmean_tokens': False, 'pooling_mode_lasttoken': False, 'include_prompt': True})\\n  (2): Normalize()\\n)\""
      ]
     },
     "execution_count": 5,
     "metadata": {},
     "output_type": "execute_result"
    }
   ],
   "source": [
    "embedding_model.model\n"
   ]
  },
  {
   "cell_type": "code",
   "execution_count": 6,
   "metadata": {},
   "outputs": [
    {
     "name": "stdout",
     "output_type": "stream",
     "text": [
      "🍩 https://wandb.ai/a-sh0ts/bioasq-rag-data/r/call/2d10f812-5104-4e46-921c-6104dc1c4aa0\n"
     ]
    }
   ],
   "source": [
    "vector_store.set_embedding_model(embedding_model)"
   ]
  },
  {
   "cell_type": "code",
   "execution_count": 7,
   "metadata": {},
   "outputs": [
    {
     "name": "stderr",
     "output_type": "stream",
     "text": [
      "/Users/anishshah/Documents/GitHub/snowflake-arctic-weave-demo/.venv/lib/python3.10/site-packages/huggingface_hub/file_download.py:1132: FutureWarning: `resume_download` is deprecated and will be removed in version 1.0.0. Downloads always resume when possible. If you want to force a new download, use `force_download=True`.\n",
      "  warnings.warn(\n"
     ]
    },
    {
     "name": "stdout",
     "output_type": "stream",
     "text": [
      "🍩 https://wandb.ai/a-sh0ts/bioasq-rag-data/r/call/be55fabc-264f-4292-b560-d8effb0be0ec\n"
     ]
    },
    {
     "name": "stderr",
     "output_type": "stream",
     "text": [
      "/Users/anishshah/Documents/GitHub/snowflake-arctic-weave-demo/.venv/lib/python3.10/site-packages/huggingface_hub/file_download.py:1132: FutureWarning: `resume_download` is deprecated and will be removed in version 1.0.0. Downloads always resume when possible. If you want to force a new download, use `force_download=True`.\n",
      "  warnings.warn(\n"
     ]
    },
    {
     "name": "stdout",
     "output_type": "stream",
     "text": [
      "🍩 https://wandb.ai/a-sh0ts/bioasq-rag-data/r/call/f0b9c4b1-44a1-4470-95e1-8ce2133165c9\n"
     ]
    }
   ],
   "source": [
    "_context = vector_store._get_chebyshev_distances(\"What is MSR\", n=2)\n",
    "_context = vector_store.get_most_relevant_documents(\"What is MSR\", n=2)\n"
   ]
  },
  {
   "cell_type": "code",
   "execution_count": 8,
   "metadata": {},
   "outputs": [
    {
     "data": {
      "text/plain": [
       "[{'document': TraceDict({'passage': ObjectRef(entity='a-sh0ts', project='bioasq-rag-data', name='TextCorpusFiltered', digest='77OxkEhXzsBqaN73ElmxTdZW8iWMhJAOqaG9TqmGT9E', extra=['attr', 'rows', 'id', 'hcSV0sXeRml9nrqnlNkVDwxJygi06pB5xEDF6XVF1IE', 'key', 'passage']), 'id': ObjectRef(entity='a-sh0ts', project='bioasq-rag-data', name='TextCorpusFiltered', digest='77OxkEhXzsBqaN73ElmxTdZW8iWMhJAOqaG9TqmGT9E', extra=['attr', 'rows', 'id', 'hcSV0sXeRml9nrqnlNkVDwxJygi06pB5xEDF6XVF1IE', 'key', 'id'])}),\n",
       "  'score': 0.24590397466713787},\n",
       " {'document': TraceDict({'passage': ObjectRef(entity='a-sh0ts', project='bioasq-rag-data', name='TextCorpusFiltered', digest='77OxkEhXzsBqaN73ElmxTdZW8iWMhJAOqaG9TqmGT9E', extra=['attr', 'rows', 'id', '3vG4sryOI0bbWxXqxGxrUpIOYkRiTxD1DHzb8Cu8dKs', 'key', 'passage']), 'id': ObjectRef(entity='a-sh0ts', project='bioasq-rag-data', name='TextCorpusFiltered', digest='77OxkEhXzsBqaN73ElmxTdZW8iWMhJAOqaG9TqmGT9E', extra=['attr', 'rows', 'id', '3vG4sryOI0bbWxXqxGxrUpIOYkRiTxD1DHzb8Cu8dKs', 'key', 'id'])}),\n",
       "  'score': 0.18339439234921254}]"
      ]
     },
     "execution_count": 8,
     "metadata": {},
     "output_type": "execute_result"
    }
   ],
   "source": [
    "_context"
   ]
  },
  {
   "cell_type": "code",
   "execution_count": 9,
   "metadata": {},
   "outputs": [],
   "source": [
    "system_prompt = \"\"\"\n",
    "### Instruction ###\n",
    "You are an expert medical assistant. Your task is to provide accurate and concise answers to medical questions based on the provided data. Ensure that your responses are clear, informative, unbiased, and avoid relying on stereotypes. Answer in a natural, human-like manner. Here are some examples:\n",
    "\n",
    "### Example ###\n",
    "1. Which enzyme deficiency can cause GM1 gangliosidoses?\n",
    "   - GM1 gangliosidoses are associated with deficiency of β-galactosidase.\n",
    "\n",
    "2. Which are the drugs utilized for the burning mouth syndrome?\n",
    "   - Dopaminergic drugs should be given in patients with BMS. Catuama reduces the symptoms of BMS and may be a novel therapeutic strategy for the treatment of this disease. Capsaicin, alpha-lipoic acid (ALA), and clonazepam were those that showed more reduction in symptoms of BMS. Treatment with placebos produced a response that was 72% as large as the response to active drugs.\n",
    "\n",
    "3. Describe a diet that reduces the chance of kidney stones.\n",
    "   - People can help prevent kidney stones by making changes in fluid intake and, depending on the type of kidney stone, changes in consumption of sodium, animal protein, calcium, and oxalate. Drinking enough fluids each day is the best way to help prevent most types of kidney stones. Health care providers recommend that a person drink 2 to 3 liters of fluid a day. People with cystine stones may need to drink even more. Though water is best, other fluids may also help prevent kidney stones, such as citrus drinks.\n",
    "\n",
    "4. Does smoking increase risk for glioblastoma?\n",
    "   - No. Smoking does not increase risk for glioblastoma.\n",
    "\n",
    "5. Inhibition of which enzyme is the mechanism of action of alisertib?\n",
    "   - Alisertib (MLN8237) is a selective Aurora kinase inhibitor that acts by interfering with spindle organization and chromosome alignment during mitosis. It has been tested in patients with gastric cancer, breast cancer, relapsed and refractory aggressive B- and T-cell non-Hodgkin lymphomas, epithelial ovarian, fallopian tube, and primary peritoneal carcinoma.\n",
    "\n",
    "### Instruction ###\n",
    "Provide your answers in a similar format. Ensure that your answer is unbiased and avoids relying on stereotypes.\n",
    "\"\"\""
   ]
  },
  {
   "cell_type": "code",
   "execution_count": 10,
   "metadata": {},
   "outputs": [],
   "source": [
    "human_prompt = \"\"\"\n",
    "### Question ###\n",
    "{question}\n",
    "\n",
    "### Contexts ###\n",
    "{context}\n",
    "\n",
    "### Answer ###\n",
    "\"\"\""
   ]
  },
  {
   "cell_type": "code",
   "execution_count": 11,
   "metadata": {},
   "outputs": [],
   "source": [
    "class BioASQRAGAgent(RAGModel):\n",
    "    def __init__(self, *args, **kwargs):\n",
    "        super().__init__(*args, **kwargs)\n",
    "\n",
    "    def post_process_result(self, answer: str, context: list) -> dict:\n",
    "        return {\"answer\": answer, \"context\": [doc[\"document\"][\"passage\"] for doc in context], \"all_context\": [doc[\"document\"][\"passage\"] for doc in context]}"
   ]
  },
  {
   "cell_type": "code",
   "execution_count": 12,
   "metadata": {},
   "outputs": [
    {
     "name": "stdout",
     "output_type": "stream",
     "text": [
      "🍩 https://wandb.ai/a-sh0ts/bioasq-rag-data/r/call/b57f0109-d28a-4af5-b6e7-f94506ba4739\n"
     ]
    }
   ],
   "source": [
    "rag_model = BioASQRAGAgent(\n",
    "    vector_store=vector_store,\n",
    "    system_prompt=system_prompt,\n",
    "    human_prompt=human_prompt\n",
    ")\n"
   ]
  },
  {
   "cell_type": "code",
   "execution_count": 13,
   "metadata": {},
   "outputs": [
    {
     "name": "stderr",
     "output_type": "stream",
     "text": [
      "/Users/anishshah/Documents/GitHub/snowflake-arctic-weave-demo/.venv/lib/python3.10/site-packages/huggingface_hub/file_download.py:1132: FutureWarning: `resume_download` is deprecated and will be removed in version 1.0.0. Downloads always resume when possible. If you want to force a new download, use `force_download=True`.\n",
      "  warnings.warn(\n",
      "huggingface/tokenizers: The current process just got forked, after parallelism has already been used. Disabling parallelism to avoid deadlocks...\n",
      "To disable this warning, you can either:\n",
      "\t- Avoid using `tokenizers` before the fork if possible\n",
      "\t- Explicitly set the environment variable TOKENIZERS_PARALLELISM=(true | false)\n"
     ]
    },
    {
     "name": "stdout",
     "output_type": "stream",
     "text": [
      "🍩 https://wandb.ai/a-sh0ts/bioasq-rag-data/r/call/89017272-fdf1-4b5e-adbe-3269fd62293d\n"
     ]
    },
    {
     "data": {
      "text/plain": [
       "{'answer': 'MSR stands for Motor Neurone Disease, which is also known as amyotrophic lateral sclerosis (ALS). It is a serious progressive neurological disorder characterized by the loss of upper motor neurons (UMN) and lower motor neurons (LMN). The exact cause of the disease is still unknown, and there is currently no effective treatment available. Various abnormalities in neurotransmitters, neuropeptides, gene expression, and glutamate metabolism have been observed in patients with ALS. Some theories suggest factors like deficits in motor neuron trophic factors, trans-synaptic degeneration, impaired detoxification abilities, and impaired DNA/RNA metabolism may contribute to the disease. Additionally, genetic factors, such as mutations in the Cu/Zn SOD gene, have been implicated in familial forms of ALS. Therapeutic trials for ALS include agents like CNTF, IGF1, glutamate antagonists, branched-chain amino acids, and TRH analogues.',\n",
       " 'context': ['Merck KGaA is developing matuzumab, a fully humanized epidermal growth factor \\nreceptor (EGFR)-specific monoclonal antibody, as a potential treatment for \\nEGFR-bearing tumors. Matuzumab is currently undergoing phase II clinical trials \\nfor gastric, cervical, pancreatic and ovarian cancers.',\n",
       "  'Motor neurone disease, or amyotrophic lateral sclerosis, is a serious \\nprogressive neurological disorder, characterized by loss of UMN and LMN. \\nPathological features include characteristic intracytoplasmic MN inclusion \\nbodies and appearances on ubiquitin staining. The aetiopathogenesis of the \\ndisease remains unknown and there is, to date, no effective treatment. Several \\nabnormalities have been demonstrated in neurotransmitter, neuropeptide and gene \\nexpression studies. Abnormalities in glutamate metabolism have led to the \\nexcitotoxin hypothesis of MN destruction. Other theories include deficits in MN \\ntrophic factors, trans-synaptic degeneration, impaired ability to detoxify \\nputative toxic agents and impaired DNA/RNA metabolism. The existence of familial \\nforms, some of which show linkage to markers in chromosome 21, allows a genetic \\napproach to the mechanisms of disease. Recent studies suggest that mutations in \\nthe Cu/Zn SOD gene may be important in some of the familial forms. The atypical \\nforms seen in the Western Pacific have stimulated a search for environmental \\nagents. Agents undergoing therapeutic trials at present include CNTF, IGF1 \\nglutamate antagonists, branched-chain amino acids and TRH analogue.'],\n",
       " 'all_context': ['Merck KGaA is developing matuzumab, a fully humanized epidermal growth factor \\nreceptor (EGFR)-specific monoclonal antibody, as a potential treatment for \\nEGFR-bearing tumors. Matuzumab is currently undergoing phase II clinical trials \\nfor gastric, cervical, pancreatic and ovarian cancers.',\n",
       "  'Motor neurone disease, or amyotrophic lateral sclerosis, is a serious \\nprogressive neurological disorder, characterized by loss of UMN and LMN. \\nPathological features include characteristic intracytoplasmic MN inclusion \\nbodies and appearances on ubiquitin staining. The aetiopathogenesis of the \\ndisease remains unknown and there is, to date, no effective treatment. Several \\nabnormalities have been demonstrated in neurotransmitter, neuropeptide and gene \\nexpression studies. Abnormalities in glutamate metabolism have led to the \\nexcitotoxin hypothesis of MN destruction. Other theories include deficits in MN \\ntrophic factors, trans-synaptic degeneration, impaired ability to detoxify \\nputative toxic agents and impaired DNA/RNA metabolism. The existence of familial \\nforms, some of which show linkage to markers in chromosome 21, allows a genetic \\napproach to the mechanisms of disease. Recent studies suggest that mutations in \\nthe Cu/Zn SOD gene may be important in some of the familial forms. The atypical \\nforms seen in the Western Pacific have stimulated a search for environmental \\nagents. Agents undergoing therapeutic trials at present include CNTF, IGF1 \\nglutamate antagonists, branched-chain amino acids and TRH analogue.']}"
      ]
     },
     "execution_count": 13,
     "metadata": {},
     "output_type": "execute_result"
    }
   ],
   "source": [
    "rag_model.predict(\"What is MSR\")\n",
    "\n"
   ]
  },
  {
   "cell_type": "code",
   "execution_count": 14,
   "metadata": {},
   "outputs": [],
   "source": [
    "qap = weave.ref('QuestionAnswerPairsTrainFiltered:latest').get()"
   ]
  },
  {
   "cell_type": "code",
   "execution_count": 15,
   "metadata": {},
   "outputs": [
    {
     "name": "stderr",
     "output_type": "stream",
     "text": [
      "huggingface/tokenizers: The current process just got forked, after parallelism has already been used. Disabling parallelism to avoid deadlocks...\n",
      "To disable this warning, you can either:\n",
      "\t- Avoid using `tokenizers` before the fork if possible\n",
      "\t- Explicitly set the environment variable TOKENIZERS_PARALLELISM=(true | false)\n"
     ]
    }
   ],
   "source": [
    "scorers = [\n",
    "    TonicValidateScorer(\n",
    "        metrics=[\n",
    "            \"AnswerSimilarityMetric\",\n",
    "            \"AugmentationPrecisionMetric\",\n",
    "            \"AnswerConsistencyMetric\",\n",
    "        ]\n",
    "    ),\n",
    "    LLMGuardScorer(\n",
    "        metrics=[\"NoRefusal\", \"Relevance\", \"Sensitive\"]),\n",
    "]\n"
   ]
  },
  {
   "cell_type": "code",
   "execution_count": 16,
   "metadata": {},
   "outputs": [],
   "source": [
    "sub_qap = qap.rows[:10]"
   ]
  },
  {
   "cell_type": "code",
   "execution_count": 17,
   "metadata": {},
   "outputs": [
    {
     "name": "stderr",
     "output_type": "stream",
     "text": [
      "Retrieving responses: 100%|██████████| 1/1 [00:00<00:00, 16980.99it/s]\n",
      "Retrieving responses: 100%|██████████| 1/1 [00:00<00:00, 14513.16it/s]\n",
      "\n",
      "Retrieving responses: 100%|██████████| 1/1 [00:00<00:00, 14979.66it/s]\n",
      "\n",
      "\u001b[A\n",
      "\n",
      "Retrieving responses: 100%|██████████| 1/1 [00:00<00:00, 16384.00it/s]\n",
      "\n",
      "\n",
      "\u001b[A\u001b[A\n",
      "\n",
      "\n",
      "Retrieving responses: 100%|██████████| 1/1 [00:00<00:00, 14716.86it/s]\n",
      "\n",
      "\n",
      "\n",
      "\u001b[A\u001b[A\u001b[A\n",
      "\n",
      "\n",
      "\n",
      "Retrieving responses: 100%|██████████| 1/1 [00:00<00:00, 11915.64it/s]\n",
      "\n",
      "\n",
      "\n",
      "\n",
      "\u001b[A\u001b[A\u001b[A\u001b[A\n",
      "\n",
      "\n",
      "\n",
      "\n",
      "Retrieving responses: 100%|██████████| 1/1 [00:00<00:00, 17189.77it/s]\n",
      "\n",
      "\n",
      "\n",
      "\n",
      "\n",
      "\u001b[A\u001b[A\u001b[A\u001b[A\u001b[A\n",
      "\n",
      "\n",
      "\n",
      "\n",
      "\n",
      "Retrieving responses: 100%|██████████| 1/1 [00:00<00:00, 19239.93it/s]\n",
      "\n",
      "\n",
      "\n",
      "\n",
      "\n",
      "\n",
      "\u001b[A\u001b[A\u001b[A\u001b[A\u001b[A\u001b[A\n",
      "\n",
      "\n",
      "\n",
      "\n",
      "\n",
      "\n",
      "Retrieving responses: 100%|██████████| 1/1 [00:00<00:00, 20460.02it/s]\n",
      "\n",
      "\n",
      "\n",
      "\n",
      "\n",
      "\n",
      "\n",
      "\u001b[A\u001b[A\u001b[A\u001b[A\u001b[A\u001b[A\u001b[A\n",
      "\n",
      "\n",
      "\n",
      "\n",
      "\n",
      "\n",
      "\n",
      "Retrieving responses: 100%|██████████| 1/1 [00:00<00:00, 16710.37it/s]\n",
      "\n",
      "\n",
      "\n",
      "\n",
      "\n",
      "\n",
      "\n",
      "\n",
      "Scoring responses: 100%|██████████| 1/1 [00:09<00:00,  9.73s/it]\n"
     ]
    },
    {
     "name": "stdout",
     "output_type": "stream",
     "text": [
      "\u001b[2m2024-06-15 03:03:43\u001b[0m [\u001b[32m\u001b[1mdebug    \u001b[0m] \u001b[1mInitialized classification model\u001b[0m \u001b[36mdevice\u001b[0m=\u001b[35mdevice(type='mps')\u001b[0m \u001b[36mmodel\u001b[0m=\u001b[35mModel(path='ProtectAI/distilroberta-base-rejection-v1', subfolder='', revision='65584967c3f22ff7723e5370c65e0e76791e6055', onnx_path='ProtectAI/distilroberta-base-rejection-v1', onnx_revision='65584967c3f22ff7723e5370c65e0e76791e6055', onnx_subfolder='onnx', onnx_filename='model.onnx', kwargs={}, pipeline_kwargs={'batch_size': 1, 'device': device(type='mps'), 'return_token_type_ids': False, 'max_length': 128, 'truncation': True}, tokenizer_kwargs={})\u001b[0m\n",
      "\u001b[2m2024-06-15 03:03:44\u001b[0m [\u001b[32m\u001b[1mdebug    \u001b[0m] \u001b[1mInitialized model             \u001b[0m \u001b[36mdevice\u001b[0m=\u001b[35mdevice(type='mps')\u001b[0m \u001b[36mmodel\u001b[0m=\u001b[35mModel(path='BAAI/bge-base-en-v1.5', subfolder='', revision='a5beb1e3e68b9ab74eb54cfd186867f64f240e1a', onnx_path='BAAI/bge-base-en-v1.5', onnx_revision='a5beb1e3e68b9ab74eb54cfd186867f64f240e1a', onnx_subfolder='onnx', onnx_filename='model.onnx', kwargs={}, pipeline_kwargs={'batch_size': 1, 'device': device(type='mps')}, tokenizer_kwargs={})\u001b[0m\n",
      "\u001b[2m2024-06-15 03:03:44\u001b[0m [\u001b[32m\u001b[1mdebug    \u001b[0m] \u001b[1mNo entity types provided, using default\u001b[0m \u001b[36mdefault_entity_types\u001b[0m=\u001b[35m['CREDIT_CARD', 'CRYPTO', 'EMAIL_ADDRESS', 'IBAN_CODE', 'IP_ADDRESS', 'PERSON', 'PHONE_NUMBER', 'US_SSN', 'US_BANK_NUMBER', 'CREDIT_CARD_RE', 'UUID', 'EMAIL_ADDRESS_RE', 'US_SSN_RE']\u001b[0m\n"
     ]
    },
    {
     "name": "stderr",
     "output_type": "stream",
     "text": [
      "\n",
      "Scoring responses: 100%|██████████| 1/1 [00:09<00:00,  9.93s/it]\n"
     ]
    },
    {
     "name": "stdout",
     "output_type": "stream",
     "text": [
      "\u001b[2m2024-06-15 03:03:45\u001b[0m [\u001b[32m\u001b[1mdebug    \u001b[0m] \u001b[1mInitialized NER model         \u001b[0m \u001b[36mdevice\u001b[0m=\u001b[35mdevice(type='mps')\u001b[0m \u001b[36mmodel\u001b[0m=\u001b[35mModel(path='Isotonic/deberta-v3-base_finetuned_ai4privacy_v2', subfolder='', revision='9ea992753ab2686be4a8f64605ccc7be197ad794', onnx_path='Isotonic/deberta-v3-base_finetuned_ai4privacy_v2', onnx_revision='9ea992753ab2686be4a8f64605ccc7be197ad794', onnx_subfolder='onnx', onnx_filename='model.onnx', kwargs={}, pipeline_kwargs={'batch_size': 1, 'device': device(type='mps'), 'aggregation_strategy': 'simple'}, tokenizer_kwargs={'model_input_names': ['input_ids', 'attention_mask']})\u001b[0m\n",
      "\u001b[2m2024-06-15 03:03:45\u001b[0m [\u001b[32m\u001b[1mdebug    \u001b[0m] \u001b[1mLoaded regex pattern          \u001b[0m \u001b[36mgroup_name\u001b[0m=\u001b[35mCREDIT_CARD_RE\u001b[0m\n",
      "\u001b[2m2024-06-15 03:03:45\u001b[0m [\u001b[32m\u001b[1mdebug    \u001b[0m] \u001b[1mLoaded regex pattern          \u001b[0m \u001b[36mgroup_name\u001b[0m=\u001b[35mUUID\u001b[0m\n",
      "\u001b[2m2024-06-15 03:03:45\u001b[0m [\u001b[32m\u001b[1mdebug    \u001b[0m] \u001b[1mLoaded regex pattern          \u001b[0m \u001b[36mgroup_name\u001b[0m=\u001b[35mEMAIL_ADDRESS_RE\u001b[0m\n",
      "\u001b[2m2024-06-15 03:03:45\u001b[0m [\u001b[32m\u001b[1mdebug    \u001b[0m] \u001b[1mLoaded regex pattern          \u001b[0m \u001b[36mgroup_name\u001b[0m=\u001b[35mUS_SSN_RE\u001b[0m\n",
      "\u001b[2m2024-06-15 03:03:45\u001b[0m [\u001b[32m\u001b[1mdebug    \u001b[0m] \u001b[1mLoaded regex pattern          \u001b[0m \u001b[36mgroup_name\u001b[0m=\u001b[35mBTC_ADDRESS\u001b[0m\n",
      "\u001b[2m2024-06-15 03:03:45\u001b[0m [\u001b[32m\u001b[1mdebug    \u001b[0m] \u001b[1mLoaded regex pattern          \u001b[0m \u001b[36mgroup_name\u001b[0m=\u001b[35mURL_RE\u001b[0m\n",
      "\u001b[2m2024-06-15 03:03:45\u001b[0m [\u001b[32m\u001b[1mdebug    \u001b[0m] \u001b[1mLoaded regex pattern          \u001b[0m \u001b[36mgroup_name\u001b[0m=\u001b[35mCREDIT_CARD\u001b[0m\n",
      "\u001b[2m2024-06-15 03:03:45\u001b[0m [\u001b[32m\u001b[1mdebug    \u001b[0m] \u001b[1mLoaded regex pattern          \u001b[0m \u001b[36mgroup_name\u001b[0m=\u001b[35mEMAIL_ADDRESS_RE\u001b[0m\n",
      "\u001b[2m2024-06-15 03:03:45\u001b[0m [\u001b[32m\u001b[1mdebug    \u001b[0m] \u001b[1mLoaded regex pattern          \u001b[0m \u001b[36mgroup_name\u001b[0m=\u001b[35mPHONE_NUMBER_ZH\u001b[0m\n",
      "\u001b[2m2024-06-15 03:03:45\u001b[0m [\u001b[32m\u001b[1mdebug    \u001b[0m] \u001b[1mLoaded regex pattern          \u001b[0m \u001b[36mgroup_name\u001b[0m=\u001b[35mPHONE_NUMBER_WITH_EXT\u001b[0m\n",
      "\u001b[2m2024-06-15 03:03:45\u001b[0m [\u001b[32m\u001b[1mdebug    \u001b[0m] \u001b[1mLoaded regex pattern          \u001b[0m \u001b[36mgroup_name\u001b[0m=\u001b[35mDATE_RE\u001b[0m\n",
      "\u001b[2m2024-06-15 03:03:45\u001b[0m [\u001b[32m\u001b[1mdebug    \u001b[0m] \u001b[1mLoaded regex pattern          \u001b[0m \u001b[36mgroup_name\u001b[0m=\u001b[35mTIME_RE\u001b[0m\n",
      "\u001b[2m2024-06-15 03:03:45\u001b[0m [\u001b[32m\u001b[1mdebug    \u001b[0m] \u001b[1mLoaded regex pattern          \u001b[0m \u001b[36mgroup_name\u001b[0m=\u001b[35mHEX_COLOR\u001b[0m\n",
      "\u001b[2m2024-06-15 03:03:45\u001b[0m [\u001b[32m\u001b[1mdebug    \u001b[0m] \u001b[1mLoaded regex pattern          \u001b[0m \u001b[36mgroup_name\u001b[0m=\u001b[35mPRICE_RE\u001b[0m\n",
      "\u001b[2m2024-06-15 03:03:45\u001b[0m [\u001b[32m\u001b[1mdebug    \u001b[0m] \u001b[1mLoaded regex pattern          \u001b[0m \u001b[36mgroup_name\u001b[0m=\u001b[35mPO_BOX_RE\u001b[0m\n",
      "\u001b[2m2024-06-15 03:03:45\u001b[0m [\u001b[32m\u001b[1mdebug    \u001b[0m] \u001b[1mNo rejection detected         \u001b[0m \u001b[36mhighest_score\u001b[0m=\u001b[35m0.0\u001b[0m\n",
      "\u001b[2m2024-06-15 03:03:45\u001b[0m [\u001b[32m\u001b[1mdebug    \u001b[0m] \u001b[1mScanner completed             \u001b[0m \u001b[36melapsed_time_seconds\u001b[0m=\u001b[35m0.132496\u001b[0m \u001b[36mis_valid\u001b[0m=\u001b[35mTrue\u001b[0m \u001b[36mscanner\u001b[0m=\u001b[35mNoRefusal\u001b[0m\n",
      "\u001b[2m2024-06-15 03:03:45\u001b[0m [\u001b[32m\u001b[1mdebug    \u001b[0m] \u001b[1mResult is similar to the prompt\u001b[0m \u001b[36msimilarity_score\u001b[0m=\u001b[35m0.84033704\u001b[0m\n",
      "\u001b[2m2024-06-15 03:03:45\u001b[0m [\u001b[32m\u001b[1mdebug    \u001b[0m] \u001b[1mScanner completed             \u001b[0m \u001b[36melapsed_time_seconds\u001b[0m=\u001b[35m0.108857\u001b[0m \u001b[36mis_valid\u001b[0m=\u001b[35mTrue\u001b[0m \u001b[36mscanner\u001b[0m=\u001b[35mRelevance\u001b[0m\n"
     ]
    },
    {
     "name": "stderr",
     "output_type": "stream",
     "text": [
      "Asking to truncate to max_length but no maximum length is provided and the model has no predefined maximum length. Default to no truncation.\n"
     ]
    },
    {
     "name": "stdout",
     "output_type": "stream",
     "text": [
      "\u001b[2m2024-06-15 03:03:45\u001b[0m [\u001b[32m\u001b[1mdebug    \u001b[0m] \u001b[1mNo sensitive data found in the output\u001b[0m\n",
      "\u001b[2m2024-06-15 03:03:45\u001b[0m [\u001b[32m\u001b[1mdebug    \u001b[0m] \u001b[1mScanner completed             \u001b[0m \u001b[36melapsed_time_seconds\u001b[0m=\u001b[35m0.225064\u001b[0m \u001b[36mis_valid\u001b[0m=\u001b[35mTrue\u001b[0m \u001b[36mscanner\u001b[0m=\u001b[35mSensitive\u001b[0m\n",
      "\u001b[2m2024-06-15 03:03:45\u001b[0m [\u001b[32m\u001b[1minfo     \u001b[0m] \u001b[1mScanned output                \u001b[0m \u001b[36melapsed_time_seconds\u001b[0m=\u001b[35m0.467175\u001b[0m \u001b[36mscores\u001b[0m=\u001b[35m{'NoRefusal': 0.0, 'Relevance': 0.0, 'Sensitive': 0.0}\u001b[0m\n"
     ]
    },
    {
     "data": {
      "text/html": [
       "<pre style=\"white-space:pre;overflow-x:auto;line-height:normal;font-family:Menlo,'DejaVu Sans Mono',consolas,'Courier New',monospace\">Evaluated <span style=\"color: #008080; text-decoration-color: #008080; font-weight: bold\">1</span> of <span style=\"color: #008080; text-decoration-color: #008080; font-weight: bold\">10</span> examples\n",
       "</pre>\n"
      ],
      "text/plain": [
       "Evaluated \u001b[1;36m1\u001b[0m of \u001b[1;36m10\u001b[0m examples\n"
      ]
     },
     "metadata": {},
     "output_type": "display_data"
    },
    {
     "name": "stdout",
     "output_type": "stream",
     "text": [
      "\u001b[2m2024-06-15 03:03:46\u001b[0m [\u001b[32m\u001b[1mdebug    \u001b[0m] \u001b[1mInitialized classification model\u001b[0m \u001b[36mdevice\u001b[0m=\u001b[35mdevice(type='mps')\u001b[0m \u001b[36mmodel\u001b[0m=\u001b[35mModel(path='ProtectAI/distilroberta-base-rejection-v1', subfolder='', revision='65584967c3f22ff7723e5370c65e0e76791e6055', onnx_path='ProtectAI/distilroberta-base-rejection-v1', onnx_revision='65584967c3f22ff7723e5370c65e0e76791e6055', onnx_subfolder='onnx', onnx_filename='model.onnx', kwargs={}, pipeline_kwargs={'batch_size': 1, 'device': device(type='mps'), 'return_token_type_ids': False, 'max_length': 128, 'truncation': True}, tokenizer_kwargs={})\u001b[0m\n",
      "\u001b[2m2024-06-15 03:03:46\u001b[0m [\u001b[32m\u001b[1mdebug    \u001b[0m] \u001b[1mInitialized model             \u001b[0m \u001b[36mdevice\u001b[0m=\u001b[35mdevice(type='mps')\u001b[0m \u001b[36mmodel\u001b[0m=\u001b[35mModel(path='BAAI/bge-base-en-v1.5', subfolder='', revision='a5beb1e3e68b9ab74eb54cfd186867f64f240e1a', onnx_path='BAAI/bge-base-en-v1.5', onnx_revision='a5beb1e3e68b9ab74eb54cfd186867f64f240e1a', onnx_subfolder='onnx', onnx_filename='model.onnx', kwargs={}, pipeline_kwargs={'batch_size': 1, 'device': device(type='mps')}, tokenizer_kwargs={})\u001b[0m\n",
      "\u001b[2m2024-06-15 03:03:46\u001b[0m [\u001b[32m\u001b[1mdebug    \u001b[0m] \u001b[1mNo entity types provided, using default\u001b[0m \u001b[36mdefault_entity_types\u001b[0m=\u001b[35m['CREDIT_CARD', 'CRYPTO', 'EMAIL_ADDRESS', 'IBAN_CODE', 'IP_ADDRESS', 'PERSON', 'PHONE_NUMBER', 'US_SSN', 'US_BANK_NUMBER', 'CREDIT_CARD_RE', 'UUID', 'EMAIL_ADDRESS_RE', 'US_SSN_RE']\u001b[0m\n",
      "\u001b[2m2024-06-15 03:03:47\u001b[0m [\u001b[32m\u001b[1mdebug    \u001b[0m] \u001b[1mInitialized NER model         \u001b[0m \u001b[36mdevice\u001b[0m=\u001b[35mdevice(type='mps')\u001b[0m \u001b[36mmodel\u001b[0m=\u001b[35mModel(path='Isotonic/deberta-v3-base_finetuned_ai4privacy_v2', subfolder='', revision='9ea992753ab2686be4a8f64605ccc7be197ad794', onnx_path='Isotonic/deberta-v3-base_finetuned_ai4privacy_v2', onnx_revision='9ea992753ab2686be4a8f64605ccc7be197ad794', onnx_subfolder='onnx', onnx_filename='model.onnx', kwargs={}, pipeline_kwargs={'batch_size': 1, 'device': device(type='mps'), 'aggregation_strategy': 'simple', 'ignore_labels': ['O', 'CARDINAL']}, tokenizer_kwargs={'model_input_names': ['input_ids', 'attention_mask']})\u001b[0m\n",
      "\u001b[2m2024-06-15 03:03:47\u001b[0m [\u001b[32m\u001b[1mdebug    \u001b[0m] \u001b[1mLoaded regex pattern          \u001b[0m \u001b[36mgroup_name\u001b[0m=\u001b[35mCREDIT_CARD_RE\u001b[0m\n",
      "\u001b[2m2024-06-15 03:03:47\u001b[0m [\u001b[32m\u001b[1mdebug    \u001b[0m] \u001b[1mLoaded regex pattern          \u001b[0m \u001b[36mgroup_name\u001b[0m=\u001b[35mUUID\u001b[0m\n",
      "\u001b[2m2024-06-15 03:03:47\u001b[0m [\u001b[32m\u001b[1mdebug    \u001b[0m] \u001b[1mLoaded regex pattern          \u001b[0m \u001b[36mgroup_name\u001b[0m=\u001b[35mEMAIL_ADDRESS_RE\u001b[0m\n",
      "\u001b[2m2024-06-15 03:03:47\u001b[0m [\u001b[32m\u001b[1mdebug    \u001b[0m] \u001b[1mLoaded regex pattern          \u001b[0m \u001b[36mgroup_name\u001b[0m=\u001b[35mUS_SSN_RE\u001b[0m\n",
      "\u001b[2m2024-06-15 03:03:47\u001b[0m [\u001b[32m\u001b[1mdebug    \u001b[0m] \u001b[1mLoaded regex pattern          \u001b[0m \u001b[36mgroup_name\u001b[0m=\u001b[35mBTC_ADDRESS\u001b[0m\n",
      "\u001b[2m2024-06-15 03:03:47\u001b[0m [\u001b[32m\u001b[1mdebug    \u001b[0m] \u001b[1mLoaded regex pattern          \u001b[0m \u001b[36mgroup_name\u001b[0m=\u001b[35mURL_RE\u001b[0m\n",
      "\u001b[2m2024-06-15 03:03:47\u001b[0m [\u001b[32m\u001b[1mdebug    \u001b[0m] \u001b[1mLoaded regex pattern          \u001b[0m \u001b[36mgroup_name\u001b[0m=\u001b[35mCREDIT_CARD\u001b[0m\n",
      "\u001b[2m2024-06-15 03:03:47\u001b[0m [\u001b[32m\u001b[1mdebug    \u001b[0m] \u001b[1mLoaded regex pattern          \u001b[0m \u001b[36mgroup_name\u001b[0m=\u001b[35mEMAIL_ADDRESS_RE\u001b[0m\n",
      "\u001b[2m2024-06-15 03:03:47\u001b[0m [\u001b[32m\u001b[1mdebug    \u001b[0m] \u001b[1mLoaded regex pattern          \u001b[0m \u001b[36mgroup_name\u001b[0m=\u001b[35mPHONE_NUMBER_ZH\u001b[0m\n",
      "\u001b[2m2024-06-15 03:03:47\u001b[0m [\u001b[32m\u001b[1mdebug    \u001b[0m] \u001b[1mLoaded regex pattern          \u001b[0m \u001b[36mgroup_name\u001b[0m=\u001b[35mPHONE_NUMBER_WITH_EXT\u001b[0m\n",
      "\u001b[2m2024-06-15 03:03:47\u001b[0m [\u001b[32m\u001b[1mdebug    \u001b[0m] \u001b[1mLoaded regex pattern          \u001b[0m \u001b[36mgroup_name\u001b[0m=\u001b[35mDATE_RE\u001b[0m\n",
      "\u001b[2m2024-06-15 03:03:47\u001b[0m [\u001b[32m\u001b[1mdebug    \u001b[0m] \u001b[1mLoaded regex pattern          \u001b[0m \u001b[36mgroup_name\u001b[0m=\u001b[35mTIME_RE\u001b[0m\n",
      "\u001b[2m2024-06-15 03:03:47\u001b[0m [\u001b[32m\u001b[1mdebug    \u001b[0m] \u001b[1mLoaded regex pattern          \u001b[0m \u001b[36mgroup_name\u001b[0m=\u001b[35mHEX_COLOR\u001b[0m\n",
      "\u001b[2m2024-06-15 03:03:47\u001b[0m [\u001b[32m\u001b[1mdebug    \u001b[0m] \u001b[1mLoaded regex pattern          \u001b[0m \u001b[36mgroup_name\u001b[0m=\u001b[35mPRICE_RE\u001b[0m\n",
      "\u001b[2m2024-06-15 03:03:47\u001b[0m [\u001b[32m\u001b[1mdebug    \u001b[0m] \u001b[1mLoaded regex pattern          \u001b[0m \u001b[36mgroup_name\u001b[0m=\u001b[35mPO_BOX_RE\u001b[0m\n",
      "\u001b[2m2024-06-15 03:03:47\u001b[0m [\u001b[32m\u001b[1mdebug    \u001b[0m] \u001b[1mNo rejection detected         \u001b[0m \u001b[36mhighest_score\u001b[0m=\u001b[35m0.0\u001b[0m\n",
      "\u001b[2m2024-06-15 03:03:47\u001b[0m [\u001b[32m\u001b[1mdebug    \u001b[0m] \u001b[1mScanner completed             \u001b[0m \u001b[36melapsed_time_seconds\u001b[0m=\u001b[35m0.0633\u001b[0m \u001b[36mis_valid\u001b[0m=\u001b[35mTrue\u001b[0m \u001b[36mscanner\u001b[0m=\u001b[35mNoRefusal\u001b[0m\n",
      "\u001b[2m2024-06-15 03:03:47\u001b[0m [\u001b[32m\u001b[1mdebug    \u001b[0m] \u001b[1mResult is similar to the prompt\u001b[0m \u001b[36msimilarity_score\u001b[0m=\u001b[35m0.90365815\u001b[0m\n",
      "\u001b[2m2024-06-15 03:03:47\u001b[0m [\u001b[32m\u001b[1mdebug    \u001b[0m] \u001b[1mScanner completed             \u001b[0m \u001b[36melapsed_time_seconds\u001b[0m=\u001b[35m0.108534\u001b[0m \u001b[36mis_valid\u001b[0m=\u001b[35mTrue\u001b[0m \u001b[36mscanner\u001b[0m=\u001b[35mRelevance\u001b[0m\n"
     ]
    },
    {
     "name": "stderr",
     "output_type": "stream",
     "text": [
      "Asking to truncate to max_length but no maximum length is provided and the model has no predefined maximum length. Default to no truncation.\n"
     ]
    },
    {
     "name": "stdout",
     "output_type": "stream",
     "text": [
      "\u001b[2m2024-06-15 03:03:47\u001b[0m [\u001b[32m\u001b[1mdebug    \u001b[0m] \u001b[1mNo sensitive data found in the output\u001b[0m\n",
      "\u001b[2m2024-06-15 03:03:47\u001b[0m [\u001b[32m\u001b[1mdebug    \u001b[0m] \u001b[1mScanner completed             \u001b[0m \u001b[36melapsed_time_seconds\u001b[0m=\u001b[35m0.126555\u001b[0m \u001b[36mis_valid\u001b[0m=\u001b[35mTrue\u001b[0m \u001b[36mscanner\u001b[0m=\u001b[35mSensitive\u001b[0m\n",
      "\u001b[2m2024-06-15 03:03:47\u001b[0m [\u001b[32m\u001b[1minfo     \u001b[0m] \u001b[1mScanned output                \u001b[0m \u001b[36melapsed_time_seconds\u001b[0m=\u001b[35m0.299177\u001b[0m \u001b[36mscores\u001b[0m=\u001b[35m{'NoRefusal': 0.0, 'Relevance': 0.0, 'Sensitive': 0.0}\u001b[0m\n"
     ]
    },
    {
     "data": {
      "text/html": [
       "<pre style=\"white-space:pre;overflow-x:auto;line-height:normal;font-family:Menlo,'DejaVu Sans Mono',consolas,'Courier New',monospace\">Evaluated <span style=\"color: #008080; text-decoration-color: #008080; font-weight: bold\">2</span> of <span style=\"color: #008080; text-decoration-color: #008080; font-weight: bold\">10</span> examples\n",
       "</pre>\n"
      ],
      "text/plain": [
       "Evaluated \u001b[1;36m2\u001b[0m of \u001b[1;36m10\u001b[0m examples\n"
      ]
     },
     "metadata": {},
     "output_type": "display_data"
    },
    {
     "name": "stderr",
     "output_type": "stream",
     "text": [
      "\n",
      "\n",
      "\n",
      "\n",
      "\n",
      "Scoring responses: 100%|██████████| 1/1 [00:11<00:00, 11.33s/it]\n",
      "\n",
      "\n",
      "\n",
      "Scoring responses: 100%|██████████| 1/1 [00:13<00:00, 13.53s/it]\n"
     ]
    },
    {
     "name": "stdout",
     "output_type": "stream",
     "text": [
      "\u001b[2m2024-06-15 03:03:50\u001b[0m [\u001b[32m\u001b[1mdebug    \u001b[0m] \u001b[1mInitialized classification model\u001b[0m \u001b[36mdevice\u001b[0m=\u001b[35mdevice(type='mps')\u001b[0m \u001b[36mmodel\u001b[0m=\u001b[35mModel(path='ProtectAI/distilroberta-base-rejection-v1', subfolder='', revision='65584967c3f22ff7723e5370c65e0e76791e6055', onnx_path='ProtectAI/distilroberta-base-rejection-v1', onnx_revision='65584967c3f22ff7723e5370c65e0e76791e6055', onnx_subfolder='onnx', onnx_filename='model.onnx', kwargs={}, pipeline_kwargs={'batch_size': 1, 'device': device(type='mps'), 'return_token_type_ids': False, 'max_length': 128, 'truncation': True}, tokenizer_kwargs={})\u001b[0m\n",
      "\u001b[2m2024-06-15 03:03:50\u001b[0m [\u001b[32m\u001b[1mdebug    \u001b[0m] \u001b[1mInitialized model             \u001b[0m \u001b[36mdevice\u001b[0m=\u001b[35mdevice(type='mps')\u001b[0m \u001b[36mmodel\u001b[0m=\u001b[35mModel(path='BAAI/bge-base-en-v1.5', subfolder='', revision='a5beb1e3e68b9ab74eb54cfd186867f64f240e1a', onnx_path='BAAI/bge-base-en-v1.5', onnx_revision='a5beb1e3e68b9ab74eb54cfd186867f64f240e1a', onnx_subfolder='onnx', onnx_filename='model.onnx', kwargs={}, pipeline_kwargs={'batch_size': 1, 'device': device(type='mps')}, tokenizer_kwargs={})\u001b[0m\n",
      "\u001b[2m2024-06-15 03:03:50\u001b[0m [\u001b[32m\u001b[1mdebug    \u001b[0m] \u001b[1mNo entity types provided, using default\u001b[0m \u001b[36mdefault_entity_types\u001b[0m=\u001b[35m['CREDIT_CARD', 'CRYPTO', 'EMAIL_ADDRESS', 'IBAN_CODE', 'IP_ADDRESS', 'PERSON', 'PHONE_NUMBER', 'US_SSN', 'US_BANK_NUMBER', 'CREDIT_CARD_RE', 'UUID', 'EMAIL_ADDRESS_RE', 'US_SSN_RE']\u001b[0m\n",
      "\u001b[2m2024-06-15 03:03:51\u001b[0m [\u001b[32m\u001b[1mdebug    \u001b[0m] \u001b[1mInitialized NER model         \u001b[0m \u001b[36mdevice\u001b[0m=\u001b[35mdevice(type='mps')\u001b[0m \u001b[36mmodel\u001b[0m=\u001b[35mModel(path='Isotonic/deberta-v3-base_finetuned_ai4privacy_v2', subfolder='', revision='9ea992753ab2686be4a8f64605ccc7be197ad794', onnx_path='Isotonic/deberta-v3-base_finetuned_ai4privacy_v2', onnx_revision='9ea992753ab2686be4a8f64605ccc7be197ad794', onnx_subfolder='onnx', onnx_filename='model.onnx', kwargs={}, pipeline_kwargs={'batch_size': 1, 'device': device(type='mps'), 'aggregation_strategy': 'simple', 'ignore_labels': ['O', 'CARDINAL']}, tokenizer_kwargs={'model_input_names': ['input_ids', 'attention_mask']})\u001b[0m\n",
      "\u001b[2m2024-06-15 03:03:51\u001b[0m [\u001b[32m\u001b[1mdebug    \u001b[0m] \u001b[1mLoaded regex pattern          \u001b[0m \u001b[36mgroup_name\u001b[0m=\u001b[35mCREDIT_CARD_RE\u001b[0m\n",
      "\u001b[2m2024-06-15 03:03:51\u001b[0m [\u001b[32m\u001b[1mdebug    \u001b[0m] \u001b[1mLoaded regex pattern          \u001b[0m \u001b[36mgroup_name\u001b[0m=\u001b[35mUUID\u001b[0m\n",
      "\u001b[2m2024-06-15 03:03:51\u001b[0m [\u001b[32m\u001b[1mdebug    \u001b[0m] \u001b[1mLoaded regex pattern          \u001b[0m \u001b[36mgroup_name\u001b[0m=\u001b[35mEMAIL_ADDRESS_RE\u001b[0m\n",
      "\u001b[2m2024-06-15 03:03:51\u001b[0m [\u001b[32m\u001b[1mdebug    \u001b[0m] \u001b[1mLoaded regex pattern          \u001b[0m \u001b[36mgroup_name\u001b[0m=\u001b[35mUS_SSN_RE\u001b[0m\n",
      "\u001b[2m2024-06-15 03:03:51\u001b[0m [\u001b[32m\u001b[1mdebug    \u001b[0m] \u001b[1mLoaded regex pattern          \u001b[0m \u001b[36mgroup_name\u001b[0m=\u001b[35mBTC_ADDRESS\u001b[0m\n",
      "\u001b[2m2024-06-15 03:03:51\u001b[0m [\u001b[32m\u001b[1mdebug    \u001b[0m] \u001b[1mLoaded regex pattern          \u001b[0m \u001b[36mgroup_name\u001b[0m=\u001b[35mURL_RE\u001b[0m\n",
      "\u001b[2m2024-06-15 03:03:51\u001b[0m [\u001b[32m\u001b[1mdebug    \u001b[0m] \u001b[1mLoaded regex pattern          \u001b[0m \u001b[36mgroup_name\u001b[0m=\u001b[35mCREDIT_CARD\u001b[0m\n",
      "\u001b[2m2024-06-15 03:03:51\u001b[0m [\u001b[32m\u001b[1mdebug    \u001b[0m] \u001b[1mLoaded regex pattern          \u001b[0m \u001b[36mgroup_name\u001b[0m=\u001b[35mEMAIL_ADDRESS_RE\u001b[0m\n",
      "\u001b[2m2024-06-15 03:03:51\u001b[0m [\u001b[32m\u001b[1mdebug    \u001b[0m] \u001b[1mLoaded regex pattern          \u001b[0m \u001b[36mgroup_name\u001b[0m=\u001b[35mPHONE_NUMBER_ZH\u001b[0m\n",
      "\u001b[2m2024-06-15 03:03:51\u001b[0m [\u001b[32m\u001b[1mdebug    \u001b[0m] \u001b[1mLoaded regex pattern          \u001b[0m \u001b[36mgroup_name\u001b[0m=\u001b[35mPHONE_NUMBER_WITH_EXT\u001b[0m\n",
      "\u001b[2m2024-06-15 03:03:51\u001b[0m [\u001b[32m\u001b[1mdebug    \u001b[0m] \u001b[1mLoaded regex pattern          \u001b[0m \u001b[36mgroup_name\u001b[0m=\u001b[35mDATE_RE\u001b[0m\n",
      "\u001b[2m2024-06-15 03:03:51\u001b[0m [\u001b[32m\u001b[1mdebug    \u001b[0m] \u001b[1mLoaded regex pattern          \u001b[0m \u001b[36mgroup_name\u001b[0m=\u001b[35mTIME_RE\u001b[0m\n",
      "\u001b[2m2024-06-15 03:03:51\u001b[0m [\u001b[32m\u001b[1mdebug    \u001b[0m] \u001b[1mLoaded regex pattern          \u001b[0m \u001b[36mgroup_name\u001b[0m=\u001b[35mHEX_COLOR\u001b[0m\n",
      "\u001b[2m2024-06-15 03:03:51\u001b[0m [\u001b[32m\u001b[1mdebug    \u001b[0m] \u001b[1mLoaded regex pattern          \u001b[0m \u001b[36mgroup_name\u001b[0m=\u001b[35mPRICE_RE\u001b[0m\n",
      "\u001b[2m2024-06-15 03:03:51\u001b[0m [\u001b[32m\u001b[1mdebug    \u001b[0m] \u001b[1mLoaded regex pattern          \u001b[0m \u001b[36mgroup_name\u001b[0m=\u001b[35mPO_BOX_RE\u001b[0m\n",
      "\u001b[2m2024-06-15 03:03:51\u001b[0m [\u001b[32m\u001b[1mdebug    \u001b[0m] \u001b[1mNo rejection detected         \u001b[0m \u001b[36mhighest_score\u001b[0m=\u001b[35m0.0\u001b[0m\n",
      "\u001b[2m2024-06-15 03:03:51\u001b[0m [\u001b[32m\u001b[1mdebug    \u001b[0m] \u001b[1mScanner completed             \u001b[0m \u001b[36melapsed_time_seconds\u001b[0m=\u001b[35m0.134838\u001b[0m \u001b[36mis_valid\u001b[0m=\u001b[35mTrue\u001b[0m \u001b[36mscanner\u001b[0m=\u001b[35mNoRefusal\u001b[0m\n",
      "\u001b[2m2024-06-15 03:03:51\u001b[0m [\u001b[32m\u001b[1mdebug    \u001b[0m] \u001b[1mInitialized classification model\u001b[0m \u001b[36mdevice\u001b[0m=\u001b[35mdevice(type='mps')\u001b[0m \u001b[36mmodel\u001b[0m=\u001b[35mModel(path='ProtectAI/distilroberta-base-rejection-v1', subfolder='', revision='65584967c3f22ff7723e5370c65e0e76791e6055', onnx_path='ProtectAI/distilroberta-base-rejection-v1', onnx_revision='65584967c3f22ff7723e5370c65e0e76791e6055', onnx_subfolder='onnx', onnx_filename='model.onnx', kwargs={}, pipeline_kwargs={'batch_size': 1, 'device': device(type='mps'), 'return_token_type_ids': False, 'max_length': 128, 'truncation': True}, tokenizer_kwargs={})\u001b[0m\n",
      "\u001b[2m2024-06-15 03:03:51\u001b[0m [\u001b[32m\u001b[1mdebug    \u001b[0m] \u001b[1mResult is similar to the prompt\u001b[0m \u001b[36msimilarity_score\u001b[0m=\u001b[35m0.9107925\u001b[0m\n",
      "\u001b[2m2024-06-15 03:03:51\u001b[0m [\u001b[32m\u001b[1mdebug    \u001b[0m] \u001b[1mScanner completed             \u001b[0m \u001b[36melapsed_time_seconds\u001b[0m=\u001b[35m0.312483\u001b[0m \u001b[36mis_valid\u001b[0m=\u001b[35mTrue\u001b[0m \u001b[36mscanner\u001b[0m=\u001b[35mRelevance\u001b[0m\n"
     ]
    },
    {
     "name": "stderr",
     "output_type": "stream",
     "text": [
      "Asking to truncate to max_length but no maximum length is provided and the model has no predefined maximum length. Default to no truncation.\n",
      "Scoring responses: 100%|██████████| 1/1 [00:19<00:00, 19.48s/it]\n"
     ]
    },
    {
     "name": "stdout",
     "output_type": "stream",
     "text": [
      "\u001b[2m2024-06-15 03:03:52\u001b[0m [\u001b[32m\u001b[1mdebug    \u001b[0m] \u001b[1mInitialized model             \u001b[0m \u001b[36mdevice\u001b[0m=\u001b[35mdevice(type='mps')\u001b[0m \u001b[36mmodel\u001b[0m=\u001b[35mModel(path='BAAI/bge-base-en-v1.5', subfolder='', revision='a5beb1e3e68b9ab74eb54cfd186867f64f240e1a', onnx_path='BAAI/bge-base-en-v1.5', onnx_revision='a5beb1e3e68b9ab74eb54cfd186867f64f240e1a', onnx_subfolder='onnx', onnx_filename='model.onnx', kwargs={}, pipeline_kwargs={'batch_size': 1, 'device': device(type='mps')}, tokenizer_kwargs={})\u001b[0m\n",
      "\u001b[2m2024-06-15 03:03:52\u001b[0m [\u001b[32m\u001b[1mdebug    \u001b[0m] \u001b[1mNo entity types provided, using default\u001b[0m \u001b[36mdefault_entity_types\u001b[0m=\u001b[35m['CREDIT_CARD', 'CRYPTO', 'EMAIL_ADDRESS', 'IBAN_CODE', 'IP_ADDRESS', 'PERSON', 'PHONE_NUMBER', 'US_SSN', 'US_BANK_NUMBER', 'CREDIT_CARD_RE', 'UUID', 'EMAIL_ADDRESS_RE', 'US_SSN_RE']\u001b[0m\n",
      "\u001b[2m2024-06-15 03:03:52\u001b[0m [\u001b[32m\u001b[1mdebug    \u001b[0m] \u001b[1mNo sensitive data found in the output\u001b[0m\n",
      "\u001b[2m2024-06-15 03:03:52\u001b[0m [\u001b[32m\u001b[1mdebug    \u001b[0m] \u001b[1mScanner completed             \u001b[0m \u001b[36melapsed_time_seconds\u001b[0m=\u001b[35m0.439633\u001b[0m \u001b[36mis_valid\u001b[0m=\u001b[35mTrue\u001b[0m \u001b[36mscanner\u001b[0m=\u001b[35mSensitive\u001b[0m\n",
      "\u001b[2m2024-06-15 03:03:52\u001b[0m [\u001b[32m\u001b[1minfo     \u001b[0m] \u001b[1mScanned output                \u001b[0m \u001b[36melapsed_time_seconds\u001b[0m=\u001b[35m0.888927\u001b[0m \u001b[36mscores\u001b[0m=\u001b[35m{'NoRefusal': 0.0, 'Relevance': 0.0, 'Sensitive': 0.0}\u001b[0m\n"
     ]
    },
    {
     "data": {
      "text/html": [
       "<pre style=\"white-space:pre;overflow-x:auto;line-height:normal;font-family:Menlo,'DejaVu Sans Mono',consolas,'Courier New',monospace\">Evaluated <span style=\"color: #008080; text-decoration-color: #008080; font-weight: bold\">3</span> of <span style=\"color: #008080; text-decoration-color: #008080; font-weight: bold\">10</span> examples\n",
       "</pre>\n"
      ],
      "text/plain": [
       "Evaluated \u001b[1;36m3\u001b[0m of \u001b[1;36m10\u001b[0m examples\n"
      ]
     },
     "metadata": {},
     "output_type": "display_data"
    },
    {
     "name": "stdout",
     "output_type": "stream",
     "text": [
      "\u001b[2m2024-06-15 03:03:52\u001b[0m [\u001b[32m\u001b[1mdebug    \u001b[0m] \u001b[1mInitialized NER model         \u001b[0m \u001b[36mdevice\u001b[0m=\u001b[35mdevice(type='mps')\u001b[0m \u001b[36mmodel\u001b[0m=\u001b[35mModel(path='Isotonic/deberta-v3-base_finetuned_ai4privacy_v2', subfolder='', revision='9ea992753ab2686be4a8f64605ccc7be197ad794', onnx_path='Isotonic/deberta-v3-base_finetuned_ai4privacy_v2', onnx_revision='9ea992753ab2686be4a8f64605ccc7be197ad794', onnx_subfolder='onnx', onnx_filename='model.onnx', kwargs={}, pipeline_kwargs={'batch_size': 1, 'device': device(type='mps'), 'aggregation_strategy': 'simple', 'ignore_labels': ['O', 'CARDINAL']}, tokenizer_kwargs={'model_input_names': ['input_ids', 'attention_mask']})\u001b[0m\n",
      "\u001b[2m2024-06-15 03:03:52\u001b[0m [\u001b[32m\u001b[1mdebug    \u001b[0m] \u001b[1mLoaded regex pattern          \u001b[0m \u001b[36mgroup_name\u001b[0m=\u001b[35mCREDIT_CARD_RE\u001b[0m\n",
      "\u001b[2m2024-06-15 03:03:52\u001b[0m [\u001b[32m\u001b[1mdebug    \u001b[0m] \u001b[1mLoaded regex pattern          \u001b[0m \u001b[36mgroup_name\u001b[0m=\u001b[35mUUID\u001b[0m\n",
      "\u001b[2m2024-06-15 03:03:52\u001b[0m [\u001b[32m\u001b[1mdebug    \u001b[0m] \u001b[1mLoaded regex pattern          \u001b[0m \u001b[36mgroup_name\u001b[0m=\u001b[35mEMAIL_ADDRESS_RE\u001b[0m\n",
      "\u001b[2m2024-06-15 03:03:52\u001b[0m [\u001b[32m\u001b[1mdebug    \u001b[0m] \u001b[1mLoaded regex pattern          \u001b[0m \u001b[36mgroup_name\u001b[0m=\u001b[35mUS_SSN_RE\u001b[0m\n",
      "\u001b[2m2024-06-15 03:03:52\u001b[0m [\u001b[32m\u001b[1mdebug    \u001b[0m] \u001b[1mLoaded regex pattern          \u001b[0m \u001b[36mgroup_name\u001b[0m=\u001b[35mBTC_ADDRESS\u001b[0m\n",
      "\u001b[2m2024-06-15 03:03:52\u001b[0m [\u001b[32m\u001b[1mdebug    \u001b[0m] \u001b[1mLoaded regex pattern          \u001b[0m \u001b[36mgroup_name\u001b[0m=\u001b[35mURL_RE\u001b[0m\n",
      "\u001b[2m2024-06-15 03:03:52\u001b[0m [\u001b[32m\u001b[1mdebug    \u001b[0m] \u001b[1mLoaded regex pattern          \u001b[0m \u001b[36mgroup_name\u001b[0m=\u001b[35mCREDIT_CARD\u001b[0m\n",
      "\u001b[2m2024-06-15 03:03:52\u001b[0m [\u001b[32m\u001b[1mdebug    \u001b[0m] \u001b[1mLoaded regex pattern          \u001b[0m \u001b[36mgroup_name\u001b[0m=\u001b[35mEMAIL_ADDRESS_RE\u001b[0m\n",
      "\u001b[2m2024-06-15 03:03:52\u001b[0m [\u001b[32m\u001b[1mdebug    \u001b[0m] \u001b[1mLoaded regex pattern          \u001b[0m \u001b[36mgroup_name\u001b[0m=\u001b[35mPHONE_NUMBER_ZH\u001b[0m\n",
      "\u001b[2m2024-06-15 03:03:52\u001b[0m [\u001b[32m\u001b[1mdebug    \u001b[0m] \u001b[1mLoaded regex pattern          \u001b[0m \u001b[36mgroup_name\u001b[0m=\u001b[35mPHONE_NUMBER_WITH_EXT\u001b[0m\n",
      "\u001b[2m2024-06-15 03:03:52\u001b[0m [\u001b[32m\u001b[1mdebug    \u001b[0m] \u001b[1mLoaded regex pattern          \u001b[0m \u001b[36mgroup_name\u001b[0m=\u001b[35mDATE_RE\u001b[0m\n",
      "\u001b[2m2024-06-15 03:03:52\u001b[0m [\u001b[32m\u001b[1mdebug    \u001b[0m] \u001b[1mLoaded regex pattern          \u001b[0m \u001b[36mgroup_name\u001b[0m=\u001b[35mTIME_RE\u001b[0m\n",
      "\u001b[2m2024-06-15 03:03:52\u001b[0m [\u001b[32m\u001b[1mdebug    \u001b[0m] \u001b[1mLoaded regex pattern          \u001b[0m \u001b[36mgroup_name\u001b[0m=\u001b[35mHEX_COLOR\u001b[0m\n",
      "\u001b[2m2024-06-15 03:03:52\u001b[0m [\u001b[32m\u001b[1mdebug    \u001b[0m] \u001b[1mLoaded regex pattern          \u001b[0m \u001b[36mgroup_name\u001b[0m=\u001b[35mPRICE_RE\u001b[0m\n",
      "\u001b[2m2024-06-15 03:03:52\u001b[0m [\u001b[32m\u001b[1mdebug    \u001b[0m] \u001b[1mLoaded regex pattern          \u001b[0m \u001b[36mgroup_name\u001b[0m=\u001b[35mPO_BOX_RE\u001b[0m\n",
      "\u001b[2m2024-06-15 03:03:52\u001b[0m [\u001b[32m\u001b[1mdebug    \u001b[0m] \u001b[1mNo rejection detected         \u001b[0m \u001b[36mhighest_score\u001b[0m=\u001b[35m0.0\u001b[0m\n",
      "\u001b[2m2024-06-15 03:03:52\u001b[0m [\u001b[32m\u001b[1mdebug    \u001b[0m] \u001b[1mScanner completed             \u001b[0m \u001b[36melapsed_time_seconds\u001b[0m=\u001b[35m0.069266\u001b[0m \u001b[36mis_valid\u001b[0m=\u001b[35mTrue\u001b[0m \u001b[36mscanner\u001b[0m=\u001b[35mNoRefusal\u001b[0m\n",
      "\u001b[2m2024-06-15 03:03:53\u001b[0m [\u001b[32m\u001b[1mdebug    \u001b[0m] \u001b[1mResult is similar to the prompt\u001b[0m \u001b[36msimilarity_score\u001b[0m=\u001b[35m0.89051414\u001b[0m\n",
      "\u001b[2m2024-06-15 03:03:53\u001b[0m [\u001b[32m\u001b[1mdebug    \u001b[0m] \u001b[1mScanner completed             \u001b[0m \u001b[36melapsed_time_seconds\u001b[0m=\u001b[35m0.10753\u001b[0m \u001b[36mis_valid\u001b[0m=\u001b[35mTrue\u001b[0m \u001b[36mscanner\u001b[0m=\u001b[35mRelevance\u001b[0m\n"
     ]
    },
    {
     "name": "stderr",
     "output_type": "stream",
     "text": [
      "Asking to truncate to max_length but no maximum length is provided and the model has no predefined maximum length. Default to no truncation.\n"
     ]
    },
    {
     "name": "stdout",
     "output_type": "stream",
     "text": [
      "\u001b[2m2024-06-15 03:03:53\u001b[0m [\u001b[32m\u001b[1mdebug    \u001b[0m] \u001b[1mNo sensitive data found in the output\u001b[0m\n",
      "\u001b[2m2024-06-15 03:03:53\u001b[0m [\u001b[32m\u001b[1mdebug    \u001b[0m] \u001b[1mScanner completed             \u001b[0m \u001b[36melapsed_time_seconds\u001b[0m=\u001b[35m0.155596\u001b[0m \u001b[36mis_valid\u001b[0m=\u001b[35mTrue\u001b[0m \u001b[36mscanner\u001b[0m=\u001b[35mSensitive\u001b[0m\n",
      "\u001b[2m2024-06-15 03:03:53\u001b[0m [\u001b[32m\u001b[1minfo     \u001b[0m] \u001b[1mScanned output                \u001b[0m \u001b[36melapsed_time_seconds\u001b[0m=\u001b[35m0.333186\u001b[0m \u001b[36mscores\u001b[0m=\u001b[35m{'NoRefusal': 0.0, 'Relevance': 0.0, 'Sensitive': 0.0}\u001b[0m\n"
     ]
    },
    {
     "data": {
      "text/html": [
       "<pre style=\"white-space:pre;overflow-x:auto;line-height:normal;font-family:Menlo,'DejaVu Sans Mono',consolas,'Courier New',monospace\">Evaluated <span style=\"color: #008080; text-decoration-color: #008080; font-weight: bold\">4</span> of <span style=\"color: #008080; text-decoration-color: #008080; font-weight: bold\">10</span> examples\n",
       "</pre>\n"
      ],
      "text/plain": [
       "Evaluated \u001b[1;36m4\u001b[0m of \u001b[1;36m10\u001b[0m examples\n"
      ]
     },
     "metadata": {},
     "output_type": "display_data"
    },
    {
     "name": "stdout",
     "output_type": "stream",
     "text": [
      "\u001b[2m2024-06-15 03:03:53\u001b[0m [\u001b[32m\u001b[1mdebug    \u001b[0m] \u001b[1mInitialized classification model\u001b[0m \u001b[36mdevice\u001b[0m=\u001b[35mdevice(type='mps')\u001b[0m \u001b[36mmodel\u001b[0m=\u001b[35mModel(path='ProtectAI/distilroberta-base-rejection-v1', subfolder='', revision='65584967c3f22ff7723e5370c65e0e76791e6055', onnx_path='ProtectAI/distilroberta-base-rejection-v1', onnx_revision='65584967c3f22ff7723e5370c65e0e76791e6055', onnx_subfolder='onnx', onnx_filename='model.onnx', kwargs={}, pipeline_kwargs={'batch_size': 1, 'device': device(type='mps'), 'return_token_type_ids': False, 'max_length': 128, 'truncation': True}, tokenizer_kwargs={})\u001b[0m\n"
     ]
    },
    {
     "name": "stderr",
     "output_type": "stream",
     "text": [
      "\n",
      "\n",
      "Scoring responses: 100%|██████████| 1/1 [00:18<00:00, 18.46s/it]\n",
      "\n",
      "\n",
      "\n",
      "\n",
      "\n",
      "\n",
      "\n",
      "Scoring responses: 100%|██████████| 1/1 [00:15<00:00, 15.92s/it]"
     ]
    },
    {
     "name": "stdout",
     "output_type": "stream",
     "text": [
      "\u001b[2m2024-06-15 03:03:53\u001b[0m [\u001b[32m\u001b[1mdebug    \u001b[0m] \u001b[1mInitialized model             \u001b[0m \u001b[36mdevice\u001b[0m=\u001b[35mdevice(type='mps')\u001b[0m \u001b[36mmodel\u001b[0m=\u001b[35mModel(path='BAAI/bge-base-en-v1.5', subfolder='', revision='a5beb1e3e68b9ab74eb54cfd186867f64f240e1a', onnx_path='BAAI/bge-base-en-v1.5', onnx_revision='a5beb1e3e68b9ab74eb54cfd186867f64f240e1a', onnx_subfolder='onnx', onnx_filename='model.onnx', kwargs={}, pipeline_kwargs={'batch_size': 1, 'device': device(type='mps')}, tokenizer_kwargs={})\u001b[0m\n",
      "\u001b[2m2024-06-15 03:03:53\u001b[0m [\u001b[32m\u001b[1mdebug    \u001b[0m] \u001b[1mNo entity types provided, using default\u001b[0m \u001b[36mdefault_entity_types\u001b[0m=\u001b[35m['CREDIT_CARD', 'CRYPTO', 'EMAIL_ADDRESS', 'IBAN_CODE', 'IP_ADDRESS', 'PERSON', 'PHONE_NUMBER', 'US_SSN', 'US_BANK_NUMBER', 'CREDIT_CARD_RE', 'UUID', 'EMAIL_ADDRESS_RE', 'US_SSN_RE']\u001b[0m\n"
     ]
    },
    {
     "name": "stderr",
     "output_type": "stream",
     "text": [
      "\n"
     ]
    },
    {
     "name": "stdout",
     "output_type": "stream",
     "text": [
      "\u001b[2m2024-06-15 03:03:54\u001b[0m [\u001b[32m\u001b[1mdebug    \u001b[0m] \u001b[1mInitialized NER model         \u001b[0m \u001b[36mdevice\u001b[0m=\u001b[35mdevice(type='mps')\u001b[0m \u001b[36mmodel\u001b[0m=\u001b[35mModel(path='Isotonic/deberta-v3-base_finetuned_ai4privacy_v2', subfolder='', revision='9ea992753ab2686be4a8f64605ccc7be197ad794', onnx_path='Isotonic/deberta-v3-base_finetuned_ai4privacy_v2', onnx_revision='9ea992753ab2686be4a8f64605ccc7be197ad794', onnx_subfolder='onnx', onnx_filename='model.onnx', kwargs={}, pipeline_kwargs={'batch_size': 1, 'device': device(type='mps'), 'aggregation_strategy': 'simple', 'ignore_labels': ['O', 'CARDINAL']}, tokenizer_kwargs={'model_input_names': ['input_ids', 'attention_mask']})\u001b[0m\n",
      "\u001b[2m2024-06-15 03:03:55\u001b[0m [\u001b[32m\u001b[1mdebug    \u001b[0m] \u001b[1mInitialized classification model\u001b[0m \u001b[36mdevice\u001b[0m=\u001b[35mdevice(type='mps')\u001b[0m \u001b[36mmodel\u001b[0m=\u001b[35mModel(path='ProtectAI/distilroberta-base-rejection-v1', subfolder='', revision='65584967c3f22ff7723e5370c65e0e76791e6055', onnx_path='ProtectAI/distilroberta-base-rejection-v1', onnx_revision='65584967c3f22ff7723e5370c65e0e76791e6055', onnx_subfolder='onnx', onnx_filename='model.onnx', kwargs={}, pipeline_kwargs={'batch_size': 1, 'device': device(type='mps'), 'return_token_type_ids': False, 'max_length': 128, 'truncation': True}, tokenizer_kwargs={})\u001b[0m\n",
      "\u001b[2m2024-06-15 03:03:55\u001b[0m [\u001b[32m\u001b[1mdebug    \u001b[0m] \u001b[1mLoaded regex pattern          \u001b[0m \u001b[36mgroup_name\u001b[0m=\u001b[35mCREDIT_CARD_RE\u001b[0m\n",
      "\u001b[2m2024-06-15 03:03:55\u001b[0m [\u001b[32m\u001b[1mdebug    \u001b[0m] \u001b[1mLoaded regex pattern          \u001b[0m \u001b[36mgroup_name\u001b[0m=\u001b[35mUUID\u001b[0m\n",
      "\u001b[2m2024-06-15 03:03:55\u001b[0m [\u001b[32m\u001b[1mdebug    \u001b[0m] \u001b[1mLoaded regex pattern          \u001b[0m \u001b[36mgroup_name\u001b[0m=\u001b[35mEMAIL_ADDRESS_RE\u001b[0m\n",
      "\u001b[2m2024-06-15 03:03:55\u001b[0m [\u001b[32m\u001b[1mdebug    \u001b[0m] \u001b[1mLoaded regex pattern          \u001b[0m \u001b[36mgroup_name\u001b[0m=\u001b[35mUS_SSN_RE\u001b[0m\n",
      "\u001b[2m2024-06-15 03:03:55\u001b[0m [\u001b[32m\u001b[1mdebug    \u001b[0m] \u001b[1mLoaded regex pattern          \u001b[0m \u001b[36mgroup_name\u001b[0m=\u001b[35mBTC_ADDRESS\u001b[0m\n",
      "\u001b[2m2024-06-15 03:03:55\u001b[0m [\u001b[32m\u001b[1mdebug    \u001b[0m] \u001b[1mLoaded regex pattern          \u001b[0m \u001b[36mgroup_name\u001b[0m=\u001b[35mURL_RE\u001b[0m\n",
      "\u001b[2m2024-06-15 03:03:55\u001b[0m [\u001b[32m\u001b[1mdebug    \u001b[0m] \u001b[1mLoaded regex pattern          \u001b[0m \u001b[36mgroup_name\u001b[0m=\u001b[35mCREDIT_CARD\u001b[0m\n",
      "\u001b[2m2024-06-15 03:03:55\u001b[0m [\u001b[32m\u001b[1mdebug    \u001b[0m] \u001b[1mLoaded regex pattern          \u001b[0m \u001b[36mgroup_name\u001b[0m=\u001b[35mEMAIL_ADDRESS_RE\u001b[0m\n",
      "\u001b[2m2024-06-15 03:03:55\u001b[0m [\u001b[32m\u001b[1mdebug    \u001b[0m] \u001b[1mLoaded regex pattern          \u001b[0m \u001b[36mgroup_name\u001b[0m=\u001b[35mPHONE_NUMBER_ZH\u001b[0m\n",
      "\u001b[2m2024-06-15 03:03:55\u001b[0m [\u001b[32m\u001b[1mdebug    \u001b[0m] \u001b[1mLoaded regex pattern          \u001b[0m \u001b[36mgroup_name\u001b[0m=\u001b[35mPHONE_NUMBER_WITH_EXT\u001b[0m\n",
      "\u001b[2m2024-06-15 03:03:55\u001b[0m [\u001b[32m\u001b[1mdebug    \u001b[0m] \u001b[1mLoaded regex pattern          \u001b[0m \u001b[36mgroup_name\u001b[0m=\u001b[35mDATE_RE\u001b[0m\n",
      "\u001b[2m2024-06-15 03:03:55\u001b[0m [\u001b[32m\u001b[1mdebug    \u001b[0m] \u001b[1mLoaded regex pattern          \u001b[0m \u001b[36mgroup_name\u001b[0m=\u001b[35mTIME_RE\u001b[0m\n",
      "\u001b[2m2024-06-15 03:03:55\u001b[0m [\u001b[32m\u001b[1mdebug    \u001b[0m] \u001b[1mLoaded regex pattern          \u001b[0m \u001b[36mgroup_name\u001b[0m=\u001b[35mHEX_COLOR\u001b[0m\n",
      "\u001b[2m2024-06-15 03:03:55\u001b[0m [\u001b[32m\u001b[1mdebug    \u001b[0m] \u001b[1mLoaded regex pattern          \u001b[0m \u001b[36mgroup_name\u001b[0m=\u001b[35mPRICE_RE\u001b[0m\n",
      "\u001b[2m2024-06-15 03:03:55\u001b[0m [\u001b[32m\u001b[1mdebug    \u001b[0m] \u001b[1mLoaded regex pattern          \u001b[0m \u001b[36mgroup_name\u001b[0m=\u001b[35mPO_BOX_RE\u001b[0m\n",
      "\u001b[2m2024-06-15 03:03:55\u001b[0m [\u001b[32m\u001b[1mdebug    \u001b[0m] \u001b[1mInitialized classification model\u001b[0m \u001b[36mdevice\u001b[0m=\u001b[35mdevice(type='mps')\u001b[0m \u001b[36mmodel\u001b[0m=\u001b[35mModel(path='ProtectAI/distilroberta-base-rejection-v1', subfolder='', revision='65584967c3f22ff7723e5370c65e0e76791e6055', onnx_path='ProtectAI/distilroberta-base-rejection-v1', onnx_revision='65584967c3f22ff7723e5370c65e0e76791e6055', onnx_subfolder='onnx', onnx_filename='model.onnx', kwargs={}, pipeline_kwargs={'batch_size': 1, 'device': device(type='mps'), 'return_token_type_ids': False, 'max_length': 128, 'truncation': True}, tokenizer_kwargs={})\u001b[0m\n",
      "\u001b[2m2024-06-15 03:03:55\u001b[0m [\u001b[32m\u001b[1mdebug    \u001b[0m] \u001b[1mNo rejection detected         \u001b[0m \u001b[36mhighest_score\u001b[0m=\u001b[35m0.0\u001b[0m\n",
      "\u001b[2m2024-06-15 03:03:55\u001b[0m [\u001b[32m\u001b[1mdebug    \u001b[0m] \u001b[1mScanner completed             \u001b[0m \u001b[36melapsed_time_seconds\u001b[0m=\u001b[35m0.296303\u001b[0m \u001b[36mis_valid\u001b[0m=\u001b[35mTrue\u001b[0m \u001b[36mscanner\u001b[0m=\u001b[35mNoRefusal\u001b[0m\n",
      "\u001b[2m2024-06-15 03:03:55\u001b[0m [\u001b[32m\u001b[1mdebug    \u001b[0m] \u001b[1mInitialized model             \u001b[0m \u001b[36mdevice\u001b[0m=\u001b[35mdevice(type='mps')\u001b[0m \u001b[36mmodel\u001b[0m=\u001b[35mModel(path='BAAI/bge-base-en-v1.5', subfolder='', revision='a5beb1e3e68b9ab74eb54cfd186867f64f240e1a', onnx_path='BAAI/bge-base-en-v1.5', onnx_revision='a5beb1e3e68b9ab74eb54cfd186867f64f240e1a', onnx_subfolder='onnx', onnx_filename='model.onnx', kwargs={}, pipeline_kwargs={'batch_size': 1, 'device': device(type='mps')}, tokenizer_kwargs={})\u001b[0m\n",
      "\u001b[2m2024-06-15 03:03:55\u001b[0m [\u001b[32m\u001b[1mdebug    \u001b[0m] \u001b[1mNo entity types provided, using default\u001b[0m \u001b[36mdefault_entity_types\u001b[0m=\u001b[35m['CREDIT_CARD', 'CRYPTO', 'EMAIL_ADDRESS', 'IBAN_CODE', 'IP_ADDRESS', 'PERSON', 'PHONE_NUMBER', 'US_SSN', 'US_BANK_NUMBER', 'CREDIT_CARD_RE', 'UUID', 'EMAIL_ADDRESS_RE', 'US_SSN_RE']\u001b[0m\n",
      "\u001b[2m2024-06-15 03:03:56\u001b[0m [\u001b[32m\u001b[1mdebug    \u001b[0m] \u001b[1mInitialized NER model         \u001b[0m \u001b[36mdevice\u001b[0m=\u001b[35mdevice(type='mps')\u001b[0m \u001b[36mmodel\u001b[0m=\u001b[35mModel(path='Isotonic/deberta-v3-base_finetuned_ai4privacy_v2', subfolder='', revision='9ea992753ab2686be4a8f64605ccc7be197ad794', onnx_path='Isotonic/deberta-v3-base_finetuned_ai4privacy_v2', onnx_revision='9ea992753ab2686be4a8f64605ccc7be197ad794', onnx_subfolder='onnx', onnx_filename='model.onnx', kwargs={}, pipeline_kwargs={'batch_size': 1, 'device': device(type='mps'), 'aggregation_strategy': 'simple', 'ignore_labels': ['O', 'CARDINAL']}, tokenizer_kwargs={'model_input_names': ['input_ids', 'attention_mask']})\u001b[0m\n",
      "\u001b[2m2024-06-15 03:03:56\u001b[0m [\u001b[32m\u001b[1mdebug    \u001b[0m] \u001b[1mLoaded regex pattern          \u001b[0m \u001b[36mgroup_name\u001b[0m=\u001b[35mCREDIT_CARD_RE\u001b[0m\n",
      "\u001b[2m2024-06-15 03:03:56\u001b[0m [\u001b[32m\u001b[1mdebug    \u001b[0m] \u001b[1mInitialized model             \u001b[0m \u001b[36mdevice\u001b[0m=\u001b[35mdevice(type='mps')\u001b[0m \u001b[36mmodel\u001b[0m=\u001b[35mModel(path='BAAI/bge-base-en-v1.5', subfolder='', revision='a5beb1e3e68b9ab74eb54cfd186867f64f240e1a', onnx_path='BAAI/bge-base-en-v1.5', onnx_revision='a5beb1e3e68b9ab74eb54cfd186867f64f240e1a', onnx_subfolder='onnx', onnx_filename='model.onnx', kwargs={}, pipeline_kwargs={'batch_size': 1, 'device': device(type='mps')}, tokenizer_kwargs={})\u001b[0m\n",
      "\u001b[2m2024-06-15 03:03:56\u001b[0m [\u001b[32m\u001b[1mdebug    \u001b[0m] \u001b[1mLoaded regex pattern          \u001b[0m \u001b[36mgroup_name\u001b[0m=\u001b[35mUUID\u001b[0m\n",
      "\u001b[2m2024-06-15 03:03:56\u001b[0m [\u001b[32m\u001b[1mdebug    \u001b[0m] \u001b[1mLoaded regex pattern          \u001b[0m \u001b[36mgroup_name\u001b[0m=\u001b[35mEMAIL_ADDRESS_RE\u001b[0m\n",
      "\u001b[2m2024-06-15 03:03:56\u001b[0m [\u001b[32m\u001b[1mdebug    \u001b[0m] \u001b[1mLoaded regex pattern          \u001b[0m \u001b[36mgroup_name\u001b[0m=\u001b[35mUS_SSN_RE\u001b[0m\n",
      "\u001b[2m2024-06-15 03:03:56\u001b[0m [\u001b[32m\u001b[1mdebug    \u001b[0m] \u001b[1mLoaded regex pattern          \u001b[0m \u001b[36mgroup_name\u001b[0m=\u001b[35mBTC_ADDRESS\u001b[0m\n",
      "\u001b[2m2024-06-15 03:03:56\u001b[0m [\u001b[32m\u001b[1mdebug    \u001b[0m] \u001b[1mLoaded regex pattern          \u001b[0m \u001b[36mgroup_name\u001b[0m=\u001b[35mURL_RE\u001b[0m\n",
      "\u001b[2m2024-06-15 03:03:56\u001b[0m [\u001b[32m\u001b[1mdebug    \u001b[0m] \u001b[1mLoaded regex pattern          \u001b[0m \u001b[36mgroup_name\u001b[0m=\u001b[35mCREDIT_CARD\u001b[0m\n",
      "\u001b[2m2024-06-15 03:03:56\u001b[0m [\u001b[32m\u001b[1mdebug    \u001b[0m] \u001b[1mLoaded regex pattern          \u001b[0m \u001b[36mgroup_name\u001b[0m=\u001b[35mEMAIL_ADDRESS_RE\u001b[0m\n",
      "\u001b[2m2024-06-15 03:03:56\u001b[0m [\u001b[32m\u001b[1mdebug    \u001b[0m] \u001b[1mLoaded regex pattern          \u001b[0m \u001b[36mgroup_name\u001b[0m=\u001b[35mPHONE_NUMBER_ZH\u001b[0m\n",
      "\u001b[2m2024-06-15 03:03:56\u001b[0m [\u001b[32m\u001b[1mdebug    \u001b[0m] \u001b[1mLoaded regex pattern          \u001b[0m \u001b[36mgroup_name\u001b[0m=\u001b[35mPHONE_NUMBER_WITH_EXT\u001b[0m\n",
      "\u001b[2m2024-06-15 03:03:56\u001b[0m [\u001b[32m\u001b[1mdebug    \u001b[0m] \u001b[1mLoaded regex pattern          \u001b[0m \u001b[36mgroup_name\u001b[0m=\u001b[35mDATE_RE\u001b[0m\n",
      "\u001b[2m2024-06-15 03:03:56\u001b[0m [\u001b[32m\u001b[1mdebug    \u001b[0m] \u001b[1mLoaded regex pattern          \u001b[0m \u001b[36mgroup_name\u001b[0m=\u001b[35mTIME_RE\u001b[0m\n",
      "\u001b[2m2024-06-15 03:03:56\u001b[0m [\u001b[32m\u001b[1mdebug    \u001b[0m] \u001b[1mLoaded regex pattern          \u001b[0m \u001b[36mgroup_name\u001b[0m=\u001b[35mHEX_COLOR\u001b[0m\n",
      "\u001b[2m2024-06-15 03:03:56\u001b[0m [\u001b[32m\u001b[1mdebug    \u001b[0m] \u001b[1mLoaded regex pattern          \u001b[0m \u001b[36mgroup_name\u001b[0m=\u001b[35mPRICE_RE\u001b[0m\n",
      "\u001b[2m2024-06-15 03:03:56\u001b[0m [\u001b[32m\u001b[1mdebug    \u001b[0m] \u001b[1mNo entity types provided, using default\u001b[0m \u001b[36mdefault_entity_types\u001b[0m=\u001b[35m['CREDIT_CARD', 'CRYPTO', 'EMAIL_ADDRESS', 'IBAN_CODE', 'IP_ADDRESS', 'PERSON', 'PHONE_NUMBER', 'US_SSN', 'US_BANK_NUMBER', 'CREDIT_CARD_RE', 'UUID', 'EMAIL_ADDRESS_RE', 'US_SSN_RE']\u001b[0m\n",
      "\u001b[2m2024-06-15 03:03:56\u001b[0m [\u001b[32m\u001b[1mdebug    \u001b[0m] \u001b[1mLoaded regex pattern          \u001b[0m \u001b[36mgroup_name\u001b[0m=\u001b[35mPO_BOX_RE\u001b[0m\n",
      "\u001b[2m2024-06-15 03:03:57\u001b[0m [\u001b[32m\u001b[1mdebug    \u001b[0m] \u001b[1mInitialized NER model         \u001b[0m \u001b[36mdevice\u001b[0m=\u001b[35mdevice(type='mps')\u001b[0m \u001b[36mmodel\u001b[0m=\u001b[35mModel(path='Isotonic/deberta-v3-base_finetuned_ai4privacy_v2', subfolder='', revision='9ea992753ab2686be4a8f64605ccc7be197ad794', onnx_path='Isotonic/deberta-v3-base_finetuned_ai4privacy_v2', onnx_revision='9ea992753ab2686be4a8f64605ccc7be197ad794', onnx_subfolder='onnx', onnx_filename='model.onnx', kwargs={}, pipeline_kwargs={'batch_size': 1, 'device': device(type='mps'), 'aggregation_strategy': 'simple', 'ignore_labels': ['O', 'CARDINAL']}, tokenizer_kwargs={'model_input_names': ['input_ids', 'attention_mask']})\u001b[0m\n",
      "\u001b[2m2024-06-15 03:03:57\u001b[0m [\u001b[32m\u001b[1mdebug    \u001b[0m] \u001b[1mNo rejection detected         \u001b[0m \u001b[36mhighest_score\u001b[0m=\u001b[35m0.0\u001b[0m\n",
      "\u001b[2m2024-06-15 03:03:57\u001b[0m [\u001b[32m\u001b[1mdebug    \u001b[0m] \u001b[1mScanner completed             \u001b[0m \u001b[36melapsed_time_seconds\u001b[0m=\u001b[35m0.3987\u001b[0m \u001b[36mis_valid\u001b[0m=\u001b[35mTrue\u001b[0m \u001b[36mscanner\u001b[0m=\u001b[35mNoRefusal\u001b[0m\n",
      "\u001b[2m2024-06-15 03:03:57\u001b[0m [\u001b[32m\u001b[1mdebug    \u001b[0m] \u001b[1mLoaded regex pattern          \u001b[0m \u001b[36mgroup_name\u001b[0m=\u001b[35mCREDIT_CARD_RE\u001b[0m\n",
      "\u001b[2m2024-06-15 03:03:57\u001b[0m [\u001b[32m\u001b[1mdebug    \u001b[0m] \u001b[1mLoaded regex pattern          \u001b[0m \u001b[36mgroup_name\u001b[0m=\u001b[35mUUID\u001b[0m\n",
      "\u001b[2m2024-06-15 03:03:57\u001b[0m [\u001b[32m\u001b[1mdebug    \u001b[0m] \u001b[1mLoaded regex pattern          \u001b[0m \u001b[36mgroup_name\u001b[0m=\u001b[35mEMAIL_ADDRESS_RE\u001b[0m\n",
      "\u001b[2m2024-06-15 03:03:57\u001b[0m [\u001b[32m\u001b[1mdebug    \u001b[0m] \u001b[1mLoaded regex pattern          \u001b[0m \u001b[36mgroup_name\u001b[0m=\u001b[35mUS_SSN_RE\u001b[0m\n",
      "\u001b[2m2024-06-15 03:03:57\u001b[0m [\u001b[32m\u001b[1mdebug    \u001b[0m] \u001b[1mLoaded regex pattern          \u001b[0m \u001b[36mgroup_name\u001b[0m=\u001b[35mBTC_ADDRESS\u001b[0m\n",
      "\u001b[2m2024-06-15 03:03:57\u001b[0m [\u001b[32m\u001b[1mdebug    \u001b[0m] \u001b[1mLoaded regex pattern          \u001b[0m \u001b[36mgroup_name\u001b[0m=\u001b[35mURL_RE\u001b[0m\n",
      "\u001b[2m2024-06-15 03:03:57\u001b[0m [\u001b[32m\u001b[1mdebug    \u001b[0m] \u001b[1mLoaded regex pattern          \u001b[0m \u001b[36mgroup_name\u001b[0m=\u001b[35mCREDIT_CARD\u001b[0m\n",
      "\u001b[2m2024-06-15 03:03:57\u001b[0m [\u001b[32m\u001b[1mdebug    \u001b[0m] \u001b[1mLoaded regex pattern          \u001b[0m \u001b[36mgroup_name\u001b[0m=\u001b[35mEMAIL_ADDRESS_RE\u001b[0m\n",
      "\u001b[2m2024-06-15 03:03:57\u001b[0m [\u001b[32m\u001b[1mdebug    \u001b[0m] \u001b[1mLoaded regex pattern          \u001b[0m \u001b[36mgroup_name\u001b[0m=\u001b[35mPHONE_NUMBER_ZH\u001b[0m\n",
      "\u001b[2m2024-06-15 03:03:57\u001b[0m [\u001b[32m\u001b[1mdebug    \u001b[0m] \u001b[1mLoaded regex pattern          \u001b[0m \u001b[36mgroup_name\u001b[0m=\u001b[35mPHONE_NUMBER_WITH_EXT\u001b[0m\n",
      "\u001b[2m2024-06-15 03:03:57\u001b[0m [\u001b[32m\u001b[1mdebug    \u001b[0m] \u001b[1mLoaded regex pattern          \u001b[0m \u001b[36mgroup_name\u001b[0m=\u001b[35mDATE_RE\u001b[0m\n",
      "\u001b[2m2024-06-15 03:03:57\u001b[0m [\u001b[32m\u001b[1mdebug    \u001b[0m] \u001b[1mLoaded regex pattern          \u001b[0m \u001b[36mgroup_name\u001b[0m=\u001b[35mTIME_RE\u001b[0m\n",
      "\u001b[2m2024-06-15 03:03:57\u001b[0m [\u001b[32m\u001b[1mdebug    \u001b[0m] \u001b[1mLoaded regex pattern          \u001b[0m \u001b[36mgroup_name\u001b[0m=\u001b[35mHEX_COLOR\u001b[0m\n",
      "\u001b[2m2024-06-15 03:03:57\u001b[0m [\u001b[32m\u001b[1mdebug    \u001b[0m] \u001b[1mLoaded regex pattern          \u001b[0m \u001b[36mgroup_name\u001b[0m=\u001b[35mPRICE_RE\u001b[0m\n",
      "\u001b[2m2024-06-15 03:03:57\u001b[0m [\u001b[32m\u001b[1mdebug    \u001b[0m] \u001b[1mLoaded regex pattern          \u001b[0m \u001b[36mgroup_name\u001b[0m=\u001b[35mPO_BOX_RE\u001b[0m\n",
      "\u001b[2m2024-06-15 03:03:57\u001b[0m [\u001b[32m\u001b[1mdebug    \u001b[0m] \u001b[1mResult is similar to the prompt\u001b[0m \u001b[36msimilarity_score\u001b[0m=\u001b[35m0.80595386\u001b[0m\n",
      "\u001b[2m2024-06-15 03:03:58\u001b[0m [\u001b[32m\u001b[1mdebug    \u001b[0m] \u001b[1mScanner completed             \u001b[0m \u001b[36melapsed_time_seconds\u001b[0m=\u001b[35m2.170177\u001b[0m \u001b[36mis_valid\u001b[0m=\u001b[35mTrue\u001b[0m \u001b[36mscanner\u001b[0m=\u001b[35mRelevance\u001b[0m\n"
     ]
    },
    {
     "name": "stderr",
     "output_type": "stream",
     "text": [
      "Asking to truncate to max_length but no maximum length is provided and the model has no predefined maximum length. Default to no truncation.\n"
     ]
    },
    {
     "name": "stdout",
     "output_type": "stream",
     "text": [
      "\u001b[2m2024-06-15 03:03:58\u001b[0m [\u001b[32m\u001b[1mdebug    \u001b[0m] \u001b[1mNo rejection detected         \u001b[0m \u001b[36mhighest_score\u001b[0m=\u001b[35m0.0\u001b[0m\n",
      "\u001b[2m2024-06-15 03:03:58\u001b[0m [\u001b[32m\u001b[1mdebug    \u001b[0m] \u001b[1mScanner completed             \u001b[0m \u001b[36melapsed_time_seconds\u001b[0m=\u001b[35m0.224166\u001b[0m \u001b[36mis_valid\u001b[0m=\u001b[35mTrue\u001b[0m \u001b[36mscanner\u001b[0m=\u001b[35mNoRefusal\u001b[0m\n"
     ]
    },
    {
     "name": "stderr",
     "output_type": "stream",
     "text": [
      "\n",
      "\n",
      "\n",
      "\n",
      "Scoring responses: 100%|██████████| 1/1 [00:21<00:00, 21.32s/it]"
     ]
    },
    {
     "name": "stdout",
     "output_type": "stream",
     "text": [
      "\u001b[2m2024-06-15 03:03:58\u001b[0m [\u001b[32m\u001b[1mdebug    \u001b[0m] \u001b[1mResult is similar to the prompt\u001b[0m \u001b[36msimilarity_score\u001b[0m=\u001b[35m0.8331058\u001b[0m\n",
      "\u001b[2m2024-06-15 03:03:58\u001b[0m [\u001b[32m\u001b[1mdebug    \u001b[0m] \u001b[1mScanner completed             \u001b[0m \u001b[36melapsed_time_seconds\u001b[0m=\u001b[35m1.104601\u001b[0m \u001b[36mis_valid\u001b[0m=\u001b[35mTrue\u001b[0m \u001b[36mscanner\u001b[0m=\u001b[35mRelevance\u001b[0m\n"
     ]
    },
    {
     "name": "stderr",
     "output_type": "stream",
     "text": [
      "\n",
      "Asking to truncate to max_length but no maximum length is provided and the model has no predefined maximum length. Default to no truncation.\n"
     ]
    },
    {
     "name": "stdout",
     "output_type": "stream",
     "text": [
      "\u001b[2m2024-06-15 03:03:58\u001b[0m [\u001b[33m\u001b[1mwarning  \u001b[0m] \u001b[1mFound unrecognized label, returning entity as is\u001b[0m \u001b[36mlabel\u001b[0m=\u001b[35mCURRENCYCODE\u001b[0m\n",
      "\u001b[2m2024-06-15 03:03:58\u001b[0m [\u001b[32m\u001b[1mdebug    \u001b[0m] \u001b[1mIgnoring entity               \u001b[0m \u001b[36mentity_group\u001b[0m=\u001b[35mCURRENCYCODE\u001b[0m\n",
      "\u001b[2m2024-06-15 03:03:58\u001b[0m [\u001b[33m\u001b[1mwarning  \u001b[0m] \u001b[1mFound unrecognized label, returning entity as is\u001b[0m \u001b[36mlabel\u001b[0m=\u001b[35mCURRENCYCODE\u001b[0m\n",
      "\u001b[2m2024-06-15 03:03:58\u001b[0m [\u001b[32m\u001b[1mdebug    \u001b[0m] \u001b[1mIgnoring entity               \u001b[0m \u001b[36mentity_group\u001b[0m=\u001b[35mCURRENCYCODE\u001b[0m\n",
      "\u001b[2m2024-06-15 03:03:58\u001b[0m [\u001b[33m\u001b[1mwarning  \u001b[0m] \u001b[1mFound unrecognized label, returning entity as is\u001b[0m \u001b[36mlabel\u001b[0m=\u001b[35mSEX\u001b[0m\n",
      "\u001b[2m2024-06-15 03:03:58\u001b[0m [\u001b[32m\u001b[1mdebug    \u001b[0m] \u001b[1mResult is similar to the prompt\u001b[0m \u001b[36msimilarity_score\u001b[0m=\u001b[35m0.77138615\u001b[0m\n",
      "\u001b[2m2024-06-15 03:03:58\u001b[0m [\u001b[32m\u001b[1mdebug    \u001b[0m] \u001b[1mIgnoring entity               \u001b[0m \u001b[36mentity_group\u001b[0m=\u001b[35mSEX\u001b[0m\n",
      "\u001b[2m2024-06-15 03:03:58\u001b[0m [\u001b[32m\u001b[1mdebug    \u001b[0m] \u001b[1mScanner completed             \u001b[0m \u001b[36melapsed_time_seconds\u001b[0m=\u001b[35m0.414345\u001b[0m \u001b[36mis_valid\u001b[0m=\u001b[35mTrue\u001b[0m \u001b[36mscanner\u001b[0m=\u001b[35mRelevance\u001b[0m\n",
      "\u001b[2m2024-06-15 03:03:58\u001b[0m [\u001b[33m\u001b[1mwarning  \u001b[0m] \u001b[1mFound unrecognized label, returning entity as is\u001b[0m \u001b[36mlabel\u001b[0m=\u001b[35mCURRENCYCODE\u001b[0m\n",
      "\u001b[2m2024-06-15 03:03:58\u001b[0m [\u001b[32m\u001b[1mdebug    \u001b[0m] \u001b[1mIgnoring entity               \u001b[0m \u001b[36mentity_group\u001b[0m=\u001b[35mCURRENCYCODE\u001b[0m\n",
      "\u001b[2m2024-06-15 03:03:58\u001b[0m [\u001b[33m\u001b[1mwarning  \u001b[0m] \u001b[1mFound unrecognized label, returning entity as is\u001b[0m \u001b[36mlabel\u001b[0m=\u001b[35mCURRENCYCODE\u001b[0m\n",
      "\u001b[2m2024-06-15 03:03:58\u001b[0m [\u001b[32m\u001b[1mdebug    \u001b[0m] \u001b[1mIgnoring entity               \u001b[0m \u001b[36mentity_group\u001b[0m=\u001b[35mCURRENCYCODE\u001b[0m\n",
      "\u001b[2m2024-06-15 03:03:58\u001b[0m [\u001b[33m\u001b[1mwarning  \u001b[0m] \u001b[1mFound unrecognized label, returning entity as is\u001b[0m \u001b[36mlabel\u001b[0m=\u001b[35mCURRENCYCODE\u001b[0m\n",
      "\u001b[2m2024-06-15 03:03:58\u001b[0m [\u001b[32m\u001b[1mdebug    \u001b[0m] \u001b[1mIgnoring entity               \u001b[0m \u001b[36mentity_group\u001b[0m=\u001b[35mCURRENCYCODE\u001b[0m\n",
      "\u001b[2m2024-06-15 03:03:58\u001b[0m [\u001b[33m\u001b[1mwarning  \u001b[0m] \u001b[1mFound unrecognized label, returning entity as is\u001b[0m \u001b[36mlabel\u001b[0m=\u001b[35mCURRENCYCODE\u001b[0m\n",
      "\u001b[2m2024-06-15 03:03:58\u001b[0m [\u001b[32m\u001b[1mdebug    \u001b[0m] \u001b[1mIgnoring entity               \u001b[0m \u001b[36mentity_group\u001b[0m=\u001b[35mCURRENCYCODE\u001b[0m\n",
      "\u001b[2m2024-06-15 03:03:58\u001b[0m [\u001b[32m\u001b[1mdebug    \u001b[0m] \u001b[1mNo sensitive data found in the output\u001b[0m\n",
      "\u001b[2m2024-06-15 03:03:58\u001b[0m [\u001b[32m\u001b[1mdebug    \u001b[0m] \u001b[1mScanner completed             \u001b[0m \u001b[36melapsed_time_seconds\u001b[0m=\u001b[35m0.837966\u001b[0m \u001b[36mis_valid\u001b[0m=\u001b[35mTrue\u001b[0m \u001b[36mscanner\u001b[0m=\u001b[35mSensitive\u001b[0m\n",
      "\u001b[2m2024-06-15 03:03:58\u001b[0m [\u001b[32m\u001b[1minfo     \u001b[0m] \u001b[1mScanned output                \u001b[0m \u001b[36melapsed_time_seconds\u001b[0m=\u001b[35m3.306337\u001b[0m \u001b[36mscores\u001b[0m=\u001b[35m{'NoRefusal': 0.0, 'Relevance': 0.0, 'Sensitive': 0.0}\u001b[0m\n"
     ]
    },
    {
     "data": {
      "text/html": [
       "<pre style=\"white-space:pre;overflow-x:auto;line-height:normal;font-family:Menlo,'DejaVu Sans Mono',consolas,'Courier New',monospace\">Evaluated <span style=\"color: #008080; text-decoration-color: #008080; font-weight: bold\">5</span> of <span style=\"color: #008080; text-decoration-color: #008080; font-weight: bold\">10</span> examples\n",
       "</pre>\n"
      ],
      "text/plain": [
       "Evaluated \u001b[1;36m5\u001b[0m of \u001b[1;36m10\u001b[0m examples\n"
      ]
     },
     "metadata": {},
     "output_type": "display_data"
    },
    {
     "name": "stderr",
     "output_type": "stream",
     "text": [
      "Asking to truncate to max_length but no maximum length is provided and the model has no predefined maximum length. Default to no truncation.\n"
     ]
    },
    {
     "name": "stdout",
     "output_type": "stream",
     "text": [
      "\u001b[2m2024-06-15 03:03:59\u001b[0m [\u001b[32m\u001b[1mdebug    \u001b[0m] \u001b[1mNo sensitive data found in the output\u001b[0m\n",
      "\u001b[2m2024-06-15 03:03:59\u001b[0m [\u001b[32m\u001b[1mdebug    \u001b[0m] \u001b[1mScanner completed             \u001b[0m \u001b[36melapsed_time_seconds\u001b[0m=\u001b[35m0.44649\u001b[0m \u001b[36mis_valid\u001b[0m=\u001b[35mTrue\u001b[0m \u001b[36mscanner\u001b[0m=\u001b[35mSensitive\u001b[0m\n",
      "\u001b[2m2024-06-15 03:03:59\u001b[0m [\u001b[32m\u001b[1minfo     \u001b[0m] \u001b[1mScanned output                \u001b[0m \u001b[36melapsed_time_seconds\u001b[0m=\u001b[35m1.950758\u001b[0m \u001b[36mscores\u001b[0m=\u001b[35m{'NoRefusal': 0.0, 'Relevance': 0.0, 'Sensitive': 0.0}\u001b[0m\n"
     ]
    },
    {
     "data": {
      "text/html": [
       "<pre style=\"white-space:pre;overflow-x:auto;line-height:normal;font-family:Menlo,'DejaVu Sans Mono',consolas,'Courier New',monospace\">Evaluated <span style=\"color: #008080; text-decoration-color: #008080; font-weight: bold\">6</span> of <span style=\"color: #008080; text-decoration-color: #008080; font-weight: bold\">10</span> examples\n",
       "</pre>\n"
      ],
      "text/plain": [
       "Evaluated \u001b[1;36m6\u001b[0m of \u001b[1;36m10\u001b[0m examples\n"
      ]
     },
     "metadata": {},
     "output_type": "display_data"
    },
    {
     "name": "stdout",
     "output_type": "stream",
     "text": [
      "\u001b[2m2024-06-15 03:03:59\u001b[0m [\u001b[33m\u001b[1mwarning  \u001b[0m] \u001b[1mFound unrecognized label, returning entity as is\u001b[0m \u001b[36mlabel\u001b[0m=\u001b[35mCURRENCY\u001b[0m\n",
      "\u001b[2m2024-06-15 03:03:59\u001b[0m [\u001b[32m\u001b[1mdebug    \u001b[0m] \u001b[1mIgnoring entity               \u001b[0m \u001b[36mentity_group\u001b[0m=\u001b[35mCURRENCY\u001b[0m\n",
      "\u001b[2m2024-06-15 03:03:59\u001b[0m [\u001b[33m\u001b[1mwarning  \u001b[0m] \u001b[1mFound unrecognized label, returning entity as is\u001b[0m \u001b[36mlabel\u001b[0m=\u001b[35mCURRENCY\u001b[0m\n",
      "\u001b[2m2024-06-15 03:03:59\u001b[0m [\u001b[32m\u001b[1mdebug    \u001b[0m] \u001b[1mIgnoring entity               \u001b[0m \u001b[36mentity_group\u001b[0m=\u001b[35mCURRENCY\u001b[0m\n",
      "\u001b[2m2024-06-15 03:03:59\u001b[0m [\u001b[33m\u001b[1mwarning  \u001b[0m] \u001b[1mFound unrecognized label, returning entity as is\u001b[0m \u001b[36mlabel\u001b[0m=\u001b[35mCURRENCY\u001b[0m\n",
      "\u001b[2m2024-06-15 03:03:59\u001b[0m [\u001b[32m\u001b[1mdebug    \u001b[0m] \u001b[1mIgnoring entity               \u001b[0m \u001b[36mentity_group\u001b[0m=\u001b[35mCURRENCY\u001b[0m\n",
      "\u001b[2m2024-06-15 03:03:59\u001b[0m [\u001b[32m\u001b[1mdebug    \u001b[0m] \u001b[1mNo sensitive data found in the output\u001b[0m\n",
      "\u001b[2m2024-06-15 03:03:59\u001b[0m [\u001b[32m\u001b[1mdebug    \u001b[0m] \u001b[1mScanner completed             \u001b[0m \u001b[36melapsed_time_seconds\u001b[0m=\u001b[35m0.348631\u001b[0m \u001b[36mis_valid\u001b[0m=\u001b[35mTrue\u001b[0m \u001b[36mscanner\u001b[0m=\u001b[35mSensitive\u001b[0m\n",
      "\u001b[2m2024-06-15 03:03:59\u001b[0m [\u001b[32m\u001b[1minfo     \u001b[0m] \u001b[1mScanned output                \u001b[0m \u001b[36melapsed_time_seconds\u001b[0m=\u001b[35m0.988541\u001b[0m \u001b[36mscores\u001b[0m=\u001b[35m{'NoRefusal': 0.0, 'Relevance': 0.0, 'Sensitive': 0.0}\u001b[0m\n"
     ]
    },
    {
     "data": {
      "text/html": [
       "<pre style=\"white-space:pre;overflow-x:auto;line-height:normal;font-family:Menlo,'DejaVu Sans Mono',consolas,'Courier New',monospace\">Evaluated <span style=\"color: #008080; text-decoration-color: #008080; font-weight: bold\">7</span> of <span style=\"color: #008080; text-decoration-color: #008080; font-weight: bold\">10</span> examples\n",
       "</pre>\n"
      ],
      "text/plain": [
       "Evaluated \u001b[1;36m7\u001b[0m of \u001b[1;36m10\u001b[0m examples\n"
      ]
     },
     "metadata": {},
     "output_type": "display_data"
    },
    {
     "name": "stderr",
     "output_type": "stream",
     "text": [
      "\n",
      "\n",
      "\n",
      "\n",
      "\n",
      "\n",
      "\n",
      "\n",
      "Scoring responses: 100%|██████████| 1/1 [00:19<00:00, 19.31s/it]\n"
     ]
    },
    {
     "name": "stdout",
     "output_type": "stream",
     "text": [
      "\u001b[2m2024-06-15 03:03:59\u001b[0m [\u001b[32m\u001b[1mdebug    \u001b[0m] \u001b[1mInitialized classification model\u001b[0m \u001b[36mdevice\u001b[0m=\u001b[35mdevice(type='mps')\u001b[0m \u001b[36mmodel\u001b[0m=\u001b[35mModel(path='ProtectAI/distilroberta-base-rejection-v1', subfolder='', revision='65584967c3f22ff7723e5370c65e0e76791e6055', onnx_path='ProtectAI/distilroberta-base-rejection-v1', onnx_revision='65584967c3f22ff7723e5370c65e0e76791e6055', onnx_subfolder='onnx', onnx_filename='model.onnx', kwargs={}, pipeline_kwargs={'batch_size': 1, 'device': device(type='mps'), 'return_token_type_ids': False, 'max_length': 128, 'truncation': True}, tokenizer_kwargs={})\u001b[0m\n"
     ]
    },
    {
     "name": "stderr",
     "output_type": "stream",
     "text": [
      "\n",
      "\n",
      "\n",
      "\n",
      "\n",
      "\n",
      "Scoring responses: 100%|██████████| 1/1 [00:22<00:00, 22.14s/it]\n"
     ]
    },
    {
     "name": "stdout",
     "output_type": "stream",
     "text": [
      "\u001b[2m2024-06-15 03:04:01\u001b[0m [\u001b[32m\u001b[1mdebug    \u001b[0m] \u001b[1mInitialized classification model\u001b[0m \u001b[36mdevice\u001b[0m=\u001b[35mdevice(type='mps')\u001b[0m \u001b[36mmodel\u001b[0m=\u001b[35mModel(path='ProtectAI/distilroberta-base-rejection-v1', subfolder='', revision='65584967c3f22ff7723e5370c65e0e76791e6055', onnx_path='ProtectAI/distilroberta-base-rejection-v1', onnx_revision='65584967c3f22ff7723e5370c65e0e76791e6055', onnx_subfolder='onnx', onnx_filename='model.onnx', kwargs={}, pipeline_kwargs={'batch_size': 1, 'device': device(type='mps'), 'return_token_type_ids': False, 'max_length': 128, 'truncation': True}, tokenizer_kwargs={})\u001b[0m\n",
      "\u001b[2m2024-06-15 03:04:01\u001b[0m [\u001b[32m\u001b[1mdebug    \u001b[0m] \u001b[1mInitialized classification model\u001b[0m \u001b[36mdevice\u001b[0m=\u001b[35mdevice(type='mps')\u001b[0m \u001b[36mmodel\u001b[0m=\u001b[35mModel(path='ProtectAI/distilroberta-base-rejection-v1', subfolder='', revision='65584967c3f22ff7723e5370c65e0e76791e6055', onnx_path='ProtectAI/distilroberta-base-rejection-v1', onnx_revision='65584967c3f22ff7723e5370c65e0e76791e6055', onnx_subfolder='onnx', onnx_filename='model.onnx', kwargs={}, pipeline_kwargs={'batch_size': 1, 'device': device(type='mps'), 'return_token_type_ids': False, 'max_length': 128, 'truncation': True}, tokenizer_kwargs={})\u001b[0m\n",
      "\u001b[2m2024-06-15 03:04:02\u001b[0m [\u001b[32m\u001b[1mdebug    \u001b[0m] \u001b[1mInitialized model             \u001b[0m \u001b[36mdevice\u001b[0m=\u001b[35mdevice(type='mps')\u001b[0m \u001b[36mmodel\u001b[0m=\u001b[35mModel(path='BAAI/bge-base-en-v1.5', subfolder='', revision='a5beb1e3e68b9ab74eb54cfd186867f64f240e1a', onnx_path='BAAI/bge-base-en-v1.5', onnx_revision='a5beb1e3e68b9ab74eb54cfd186867f64f240e1a', onnx_subfolder='onnx', onnx_filename='model.onnx', kwargs={}, pipeline_kwargs={'batch_size': 1, 'device': device(type='mps')}, tokenizer_kwargs={})\u001b[0m\n",
      "\u001b[2m2024-06-15 03:04:02\u001b[0m [\u001b[32m\u001b[1mdebug    \u001b[0m] \u001b[1mNo entity types provided, using default\u001b[0m \u001b[36mdefault_entity_types\u001b[0m=\u001b[35m['CREDIT_CARD', 'CRYPTO', 'EMAIL_ADDRESS', 'IBAN_CODE', 'IP_ADDRESS', 'PERSON', 'PHONE_NUMBER', 'US_SSN', 'US_BANK_NUMBER', 'CREDIT_CARD_RE', 'UUID', 'EMAIL_ADDRESS_RE', 'US_SSN_RE']\u001b[0m\n",
      "\u001b[2m2024-06-15 03:04:02\u001b[0m [\u001b[32m\u001b[1mdebug    \u001b[0m] \u001b[1mInitialized model             \u001b[0m \u001b[36mdevice\u001b[0m=\u001b[35mdevice(type='mps')\u001b[0m \u001b[36mmodel\u001b[0m=\u001b[35mModel(path='BAAI/bge-base-en-v1.5', subfolder='', revision='a5beb1e3e68b9ab74eb54cfd186867f64f240e1a', onnx_path='BAAI/bge-base-en-v1.5', onnx_revision='a5beb1e3e68b9ab74eb54cfd186867f64f240e1a', onnx_subfolder='onnx', onnx_filename='model.onnx', kwargs={}, pipeline_kwargs={'batch_size': 1, 'device': device(type='mps')}, tokenizer_kwargs={})\u001b[0m\n",
      "\u001b[2m2024-06-15 03:04:02\u001b[0m [\u001b[32m\u001b[1mdebug    \u001b[0m] \u001b[1mNo entity types provided, using default\u001b[0m \u001b[36mdefault_entity_types\u001b[0m=\u001b[35m['CREDIT_CARD', 'CRYPTO', 'EMAIL_ADDRESS', 'IBAN_CODE', 'IP_ADDRESS', 'PERSON', 'PHONE_NUMBER', 'US_SSN', 'US_BANK_NUMBER', 'CREDIT_CARD_RE', 'UUID', 'EMAIL_ADDRESS_RE', 'US_SSN_RE']\u001b[0m\n",
      "\u001b[2m2024-06-15 03:04:02\u001b[0m [\u001b[32m\u001b[1mdebug    \u001b[0m] \u001b[1mInitialized model             \u001b[0m \u001b[36mdevice\u001b[0m=\u001b[35mdevice(type='mps')\u001b[0m \u001b[36mmodel\u001b[0m=\u001b[35mModel(path='BAAI/bge-base-en-v1.5', subfolder='', revision='a5beb1e3e68b9ab74eb54cfd186867f64f240e1a', onnx_path='BAAI/bge-base-en-v1.5', onnx_revision='a5beb1e3e68b9ab74eb54cfd186867f64f240e1a', onnx_subfolder='onnx', onnx_filename='model.onnx', kwargs={}, pipeline_kwargs={'batch_size': 1, 'device': device(type='mps')}, tokenizer_kwargs={})\u001b[0m\n",
      "\u001b[2m2024-06-15 03:04:03\u001b[0m [\u001b[32m\u001b[1mdebug    \u001b[0m] \u001b[1mNo entity types provided, using default\u001b[0m \u001b[36mdefault_entity_types\u001b[0m=\u001b[35m['CREDIT_CARD', 'CRYPTO', 'EMAIL_ADDRESS', 'IBAN_CODE', 'IP_ADDRESS', 'PERSON', 'PHONE_NUMBER', 'US_SSN', 'US_BANK_NUMBER', 'CREDIT_CARD_RE', 'UUID', 'EMAIL_ADDRESS_RE', 'US_SSN_RE']\u001b[0m\n",
      "\u001b[2m2024-06-15 03:04:04\u001b[0m [\u001b[32m\u001b[1mdebug    \u001b[0m] \u001b[1mInitialized NER model         \u001b[0m \u001b[36mdevice\u001b[0m=\u001b[35mdevice(type='mps')\u001b[0m \u001b[36mmodel\u001b[0m=\u001b[35mModel(path='Isotonic/deberta-v3-base_finetuned_ai4privacy_v2', subfolder='', revision='9ea992753ab2686be4a8f64605ccc7be197ad794', onnx_path='Isotonic/deberta-v3-base_finetuned_ai4privacy_v2', onnx_revision='9ea992753ab2686be4a8f64605ccc7be197ad794', onnx_subfolder='onnx', onnx_filename='model.onnx', kwargs={}, pipeline_kwargs={'batch_size': 1, 'device': device(type='mps'), 'aggregation_strategy': 'simple', 'ignore_labels': ['O', 'CARDINAL']}, tokenizer_kwargs={'model_input_names': ['input_ids', 'attention_mask']})\u001b[0m\n",
      "\u001b[2m2024-06-15 03:04:04\u001b[0m [\u001b[32m\u001b[1mdebug    \u001b[0m] \u001b[1mInitialized NER model         \u001b[0m \u001b[36mdevice\u001b[0m=\u001b[35mdevice(type='mps')\u001b[0m \u001b[36mmodel\u001b[0m=\u001b[35mModel(path='Isotonic/deberta-v3-base_finetuned_ai4privacy_v2', subfolder='', revision='9ea992753ab2686be4a8f64605ccc7be197ad794', onnx_path='Isotonic/deberta-v3-base_finetuned_ai4privacy_v2', onnx_revision='9ea992753ab2686be4a8f64605ccc7be197ad794', onnx_subfolder='onnx', onnx_filename='model.onnx', kwargs={}, pipeline_kwargs={'batch_size': 1, 'device': device(type='mps'), 'aggregation_strategy': 'simple', 'ignore_labels': ['O', 'CARDINAL']}, tokenizer_kwargs={'model_input_names': ['input_ids', 'attention_mask']})\u001b[0m\n",
      "\u001b[2m2024-06-15 03:04:04\u001b[0m [\u001b[32m\u001b[1mdebug    \u001b[0m] \u001b[1mInitialized NER model         \u001b[0m \u001b[36mdevice\u001b[0m=\u001b[35mdevice(type='mps')\u001b[0m \u001b[36mmodel\u001b[0m=\u001b[35mModel(path='Isotonic/deberta-v3-base_finetuned_ai4privacy_v2', subfolder='', revision='9ea992753ab2686be4a8f64605ccc7be197ad794', onnx_path='Isotonic/deberta-v3-base_finetuned_ai4privacy_v2', onnx_revision='9ea992753ab2686be4a8f64605ccc7be197ad794', onnx_subfolder='onnx', onnx_filename='model.onnx', kwargs={}, pipeline_kwargs={'batch_size': 1, 'device': device(type='mps'), 'aggregation_strategy': 'simple', 'ignore_labels': ['O', 'CARDINAL']}, tokenizer_kwargs={'model_input_names': ['input_ids', 'attention_mask']})\u001b[0m\n",
      "\u001b[2m2024-06-15 03:04:06\u001b[0m [\u001b[32m\u001b[1mdebug    \u001b[0m] \u001b[1mLoaded regex pattern          \u001b[0m \u001b[36mgroup_name\u001b[0m=\u001b[35mCREDIT_CARD_RE\u001b[0m\n",
      "\u001b[2m2024-06-15 03:04:06\u001b[0m [\u001b[32m\u001b[1mdebug    \u001b[0m] \u001b[1mLoaded regex pattern          \u001b[0m \u001b[36mgroup_name\u001b[0m=\u001b[35mCREDIT_CARD_RE\u001b[0m\n",
      "\u001b[2m2024-06-15 03:04:06\u001b[0m [\u001b[32m\u001b[1mdebug    \u001b[0m] \u001b[1mLoaded regex pattern          \u001b[0m \u001b[36mgroup_name\u001b[0m=\u001b[35mCREDIT_CARD_RE\u001b[0m\n",
      "\u001b[2m2024-06-15 03:04:06\u001b[0m [\u001b[32m\u001b[1mdebug    \u001b[0m] \u001b[1mLoaded regex pattern          \u001b[0m \u001b[36mgroup_name\u001b[0m=\u001b[35mUUID\u001b[0m\n",
      "\u001b[2m2024-06-15 03:04:06\u001b[0m [\u001b[32m\u001b[1mdebug    \u001b[0m] \u001b[1mLoaded regex pattern          \u001b[0m \u001b[36mgroup_name\u001b[0m=\u001b[35mUUID\u001b[0m\n",
      "\u001b[2m2024-06-15 03:04:06\u001b[0m [\u001b[32m\u001b[1mdebug    \u001b[0m] \u001b[1mLoaded regex pattern          \u001b[0m \u001b[36mgroup_name\u001b[0m=\u001b[35mUUID\u001b[0m\n",
      "\u001b[2m2024-06-15 03:04:06\u001b[0m [\u001b[32m\u001b[1mdebug    \u001b[0m] \u001b[1mLoaded regex pattern          \u001b[0m \u001b[36mgroup_name\u001b[0m=\u001b[35mEMAIL_ADDRESS_RE\u001b[0m\n",
      "\u001b[2m2024-06-15 03:04:06\u001b[0m [\u001b[32m\u001b[1mdebug    \u001b[0m] \u001b[1mLoaded regex pattern          \u001b[0m \u001b[36mgroup_name\u001b[0m=\u001b[35mEMAIL_ADDRESS_RE\u001b[0m\n",
      "\u001b[2m2024-06-15 03:04:06\u001b[0m [\u001b[32m\u001b[1mdebug    \u001b[0m] \u001b[1mLoaded regex pattern          \u001b[0m \u001b[36mgroup_name\u001b[0m=\u001b[35mEMAIL_ADDRESS_RE\u001b[0m\n",
      "\u001b[2m2024-06-15 03:04:06\u001b[0m [\u001b[32m\u001b[1mdebug    \u001b[0m] \u001b[1mLoaded regex pattern          \u001b[0m \u001b[36mgroup_name\u001b[0m=\u001b[35mUS_SSN_RE\u001b[0m\n",
      "\u001b[2m2024-06-15 03:04:06\u001b[0m [\u001b[32m\u001b[1mdebug    \u001b[0m] \u001b[1mLoaded regex pattern          \u001b[0m \u001b[36mgroup_name\u001b[0m=\u001b[35mUS_SSN_RE\u001b[0m\n",
      "\u001b[2m2024-06-15 03:04:06\u001b[0m [\u001b[32m\u001b[1mdebug    \u001b[0m] \u001b[1mLoaded regex pattern          \u001b[0m \u001b[36mgroup_name\u001b[0m=\u001b[35mUS_SSN_RE\u001b[0m\n",
      "\u001b[2m2024-06-15 03:04:06\u001b[0m [\u001b[32m\u001b[1mdebug    \u001b[0m] \u001b[1mLoaded regex pattern          \u001b[0m \u001b[36mgroup_name\u001b[0m=\u001b[35mBTC_ADDRESS\u001b[0m\n",
      "\u001b[2m2024-06-15 03:04:06\u001b[0m [\u001b[32m\u001b[1mdebug    \u001b[0m] \u001b[1mLoaded regex pattern          \u001b[0m \u001b[36mgroup_name\u001b[0m=\u001b[35mBTC_ADDRESS\u001b[0m\n",
      "\u001b[2m2024-06-15 03:04:06\u001b[0m [\u001b[32m\u001b[1mdebug    \u001b[0m] \u001b[1mLoaded regex pattern          \u001b[0m \u001b[36mgroup_name\u001b[0m=\u001b[35mBTC_ADDRESS\u001b[0m\n",
      "\u001b[2m2024-06-15 03:04:06\u001b[0m [\u001b[32m\u001b[1mdebug    \u001b[0m] \u001b[1mLoaded regex pattern          \u001b[0m \u001b[36mgroup_name\u001b[0m=\u001b[35mURL_RE\u001b[0m\n",
      "\u001b[2m2024-06-15 03:04:06\u001b[0m [\u001b[32m\u001b[1mdebug    \u001b[0m] \u001b[1mLoaded regex pattern          \u001b[0m \u001b[36mgroup_name\u001b[0m=\u001b[35mURL_RE\u001b[0m\n",
      "\u001b[2m2024-06-15 03:04:06\u001b[0m [\u001b[32m\u001b[1mdebug    \u001b[0m] \u001b[1mLoaded regex pattern          \u001b[0m \u001b[36mgroup_name\u001b[0m=\u001b[35mURL_RE\u001b[0m\n",
      "\u001b[2m2024-06-15 03:04:06\u001b[0m [\u001b[32m\u001b[1mdebug    \u001b[0m] \u001b[1mLoaded regex pattern          \u001b[0m \u001b[36mgroup_name\u001b[0m=\u001b[35mCREDIT_CARD\u001b[0m\n",
      "\u001b[2m2024-06-15 03:04:06\u001b[0m [\u001b[32m\u001b[1mdebug    \u001b[0m] \u001b[1mLoaded regex pattern          \u001b[0m \u001b[36mgroup_name\u001b[0m=\u001b[35mCREDIT_CARD\u001b[0m\n",
      "\u001b[2m2024-06-15 03:04:06\u001b[0m [\u001b[32m\u001b[1mdebug    \u001b[0m] \u001b[1mLoaded regex pattern          \u001b[0m \u001b[36mgroup_name\u001b[0m=\u001b[35mCREDIT_CARD\u001b[0m\n",
      "\u001b[2m2024-06-15 03:04:06\u001b[0m [\u001b[32m\u001b[1mdebug    \u001b[0m] \u001b[1mLoaded regex pattern          \u001b[0m \u001b[36mgroup_name\u001b[0m=\u001b[35mEMAIL_ADDRESS_RE\u001b[0m\n",
      "\u001b[2m2024-06-15 03:04:06\u001b[0m [\u001b[32m\u001b[1mdebug    \u001b[0m] \u001b[1mLoaded regex pattern          \u001b[0m \u001b[36mgroup_name\u001b[0m=\u001b[35mEMAIL_ADDRESS_RE\u001b[0m\n",
      "\u001b[2m2024-06-15 03:04:06\u001b[0m [\u001b[32m\u001b[1mdebug    \u001b[0m] \u001b[1mLoaded regex pattern          \u001b[0m \u001b[36mgroup_name\u001b[0m=\u001b[35mEMAIL_ADDRESS_RE\u001b[0m\n",
      "\u001b[2m2024-06-15 03:04:06\u001b[0m [\u001b[32m\u001b[1mdebug    \u001b[0m] \u001b[1mLoaded regex pattern          \u001b[0m \u001b[36mgroup_name\u001b[0m=\u001b[35mPHONE_NUMBER_ZH\u001b[0m\n",
      "\u001b[2m2024-06-15 03:04:06\u001b[0m [\u001b[32m\u001b[1mdebug    \u001b[0m] \u001b[1mLoaded regex pattern          \u001b[0m \u001b[36mgroup_name\u001b[0m=\u001b[35mPHONE_NUMBER_ZH\u001b[0m\n",
      "\u001b[2m2024-06-15 03:04:06\u001b[0m [\u001b[32m\u001b[1mdebug    \u001b[0m] \u001b[1mLoaded regex pattern          \u001b[0m \u001b[36mgroup_name\u001b[0m=\u001b[35mPHONE_NUMBER_ZH\u001b[0m\n",
      "\u001b[2m2024-06-15 03:04:06\u001b[0m [\u001b[32m\u001b[1mdebug    \u001b[0m] \u001b[1mLoaded regex pattern          \u001b[0m \u001b[36mgroup_name\u001b[0m=\u001b[35mPHONE_NUMBER_WITH_EXT\u001b[0m\n",
      "\u001b[2m2024-06-15 03:04:06\u001b[0m [\u001b[32m\u001b[1mdebug    \u001b[0m] \u001b[1mLoaded regex pattern          \u001b[0m \u001b[36mgroup_name\u001b[0m=\u001b[35mPHONE_NUMBER_WITH_EXT\u001b[0m\n",
      "\u001b[2m2024-06-15 03:04:06\u001b[0m [\u001b[32m\u001b[1mdebug    \u001b[0m] \u001b[1mLoaded regex pattern          \u001b[0m \u001b[36mgroup_name\u001b[0m=\u001b[35mPHONE_NUMBER_WITH_EXT\u001b[0m\n",
      "\u001b[2m2024-06-15 03:04:06\u001b[0m [\u001b[32m\u001b[1mdebug    \u001b[0m] \u001b[1mLoaded regex pattern          \u001b[0m \u001b[36mgroup_name\u001b[0m=\u001b[35mDATE_RE\u001b[0m\n",
      "\u001b[2m2024-06-15 03:04:06\u001b[0m [\u001b[32m\u001b[1mdebug    \u001b[0m] \u001b[1mLoaded regex pattern          \u001b[0m \u001b[36mgroup_name\u001b[0m=\u001b[35mDATE_RE\u001b[0m\n",
      "\u001b[2m2024-06-15 03:04:06\u001b[0m [\u001b[32m\u001b[1mdebug    \u001b[0m] \u001b[1mLoaded regex pattern          \u001b[0m \u001b[36mgroup_name\u001b[0m=\u001b[35mDATE_RE\u001b[0m\n",
      "\u001b[2m2024-06-15 03:04:06\u001b[0m [\u001b[32m\u001b[1mdebug    \u001b[0m] \u001b[1mLoaded regex pattern          \u001b[0m \u001b[36mgroup_name\u001b[0m=\u001b[35mTIME_RE\u001b[0m\n",
      "\u001b[2m2024-06-15 03:04:06\u001b[0m [\u001b[32m\u001b[1mdebug    \u001b[0m] \u001b[1mLoaded regex pattern          \u001b[0m \u001b[36mgroup_name\u001b[0m=\u001b[35mTIME_RE\u001b[0m\n",
      "\u001b[2m2024-06-15 03:04:06\u001b[0m [\u001b[32m\u001b[1mdebug    \u001b[0m] \u001b[1mLoaded regex pattern          \u001b[0m \u001b[36mgroup_name\u001b[0m=\u001b[35mTIME_RE\u001b[0m\n",
      "\u001b[2m2024-06-15 03:04:06\u001b[0m [\u001b[32m\u001b[1mdebug    \u001b[0m] \u001b[1mLoaded regex pattern          \u001b[0m \u001b[36mgroup_name\u001b[0m=\u001b[35mHEX_COLOR\u001b[0m\n",
      "\u001b[2m2024-06-15 03:04:06\u001b[0m [\u001b[32m\u001b[1mdebug    \u001b[0m] \u001b[1mLoaded regex pattern          \u001b[0m \u001b[36mgroup_name\u001b[0m=\u001b[35mHEX_COLOR\u001b[0m\n",
      "\u001b[2m2024-06-15 03:04:06\u001b[0m [\u001b[32m\u001b[1mdebug    \u001b[0m] \u001b[1mLoaded regex pattern          \u001b[0m \u001b[36mgroup_name\u001b[0m=\u001b[35mHEX_COLOR\u001b[0m\n",
      "\u001b[2m2024-06-15 03:04:06\u001b[0m [\u001b[32m\u001b[1mdebug    \u001b[0m] \u001b[1mLoaded regex pattern          \u001b[0m \u001b[36mgroup_name\u001b[0m=\u001b[35mPRICE_RE\u001b[0m\n",
      "\u001b[2m2024-06-15 03:04:06\u001b[0m [\u001b[32m\u001b[1mdebug    \u001b[0m] \u001b[1mLoaded regex pattern          \u001b[0m \u001b[36mgroup_name\u001b[0m=\u001b[35mPRICE_RE\u001b[0m\n",
      "\u001b[2m2024-06-15 03:04:06\u001b[0m [\u001b[32m\u001b[1mdebug    \u001b[0m] \u001b[1mLoaded regex pattern          \u001b[0m \u001b[36mgroup_name\u001b[0m=\u001b[35mPRICE_RE\u001b[0m\n",
      "\u001b[2m2024-06-15 03:04:06\u001b[0m [\u001b[32m\u001b[1mdebug    \u001b[0m] \u001b[1mLoaded regex pattern          \u001b[0m \u001b[36mgroup_name\u001b[0m=\u001b[35mPO_BOX_RE\u001b[0m\n",
      "\u001b[2m2024-06-15 03:04:06\u001b[0m [\u001b[32m\u001b[1mdebug    \u001b[0m] \u001b[1mLoaded regex pattern          \u001b[0m \u001b[36mgroup_name\u001b[0m=\u001b[35mPO_BOX_RE\u001b[0m\n",
      "\u001b[2m2024-06-15 03:04:06\u001b[0m [\u001b[32m\u001b[1mdebug    \u001b[0m] \u001b[1mLoaded regex pattern          \u001b[0m \u001b[36mgroup_name\u001b[0m=\u001b[35mPO_BOX_RE\u001b[0m\n",
      "\u001b[2m2024-06-15 03:04:07\u001b[0m [\u001b[32m\u001b[1mdebug    \u001b[0m] \u001b[1mNo rejection detected         \u001b[0m \u001b[36mhighest_score\u001b[0m=\u001b[35m0.0\u001b[0m\n",
      "\u001b[2m2024-06-15 03:04:07\u001b[0m [\u001b[32m\u001b[1mdebug    \u001b[0m] \u001b[1mScanner completed             \u001b[0m \u001b[36melapsed_time_seconds\u001b[0m=\u001b[35m0.597094\u001b[0m \u001b[36mis_valid\u001b[0m=\u001b[35mTrue\u001b[0m \u001b[36mscanner\u001b[0m=\u001b[35mNoRefusal\u001b[0m\n",
      "\u001b[2m2024-06-15 03:04:07\u001b[0m [\u001b[32m\u001b[1mdebug    \u001b[0m] \u001b[1mNo rejection detected         \u001b[0m \u001b[36mhighest_score\u001b[0m=\u001b[35m0.0\u001b[0m\n",
      "\u001b[2m2024-06-15 03:04:07\u001b[0m [\u001b[32m\u001b[1mdebug    \u001b[0m] \u001b[1mScanner completed             \u001b[0m \u001b[36melapsed_time_seconds\u001b[0m=\u001b[35m0.573317\u001b[0m \u001b[36mis_valid\u001b[0m=\u001b[35mTrue\u001b[0m \u001b[36mscanner\u001b[0m=\u001b[35mNoRefusal\u001b[0m\n",
      "\u001b[2m2024-06-15 03:04:07\u001b[0m [\u001b[32m\u001b[1mdebug    \u001b[0m] \u001b[1mNo rejection detected         \u001b[0m \u001b[36mhighest_score\u001b[0m=\u001b[35m0.0\u001b[0m\n",
      "\u001b[2m2024-06-15 03:04:07\u001b[0m [\u001b[32m\u001b[1mdebug    \u001b[0m] \u001b[1mScanner completed             \u001b[0m \u001b[36melapsed_time_seconds\u001b[0m=\u001b[35m0.579913\u001b[0m \u001b[36mis_valid\u001b[0m=\u001b[35mTrue\u001b[0m \u001b[36mscanner\u001b[0m=\u001b[35mNoRefusal\u001b[0m\n",
      "\u001b[2m2024-06-15 03:04:07\u001b[0m [\u001b[32m\u001b[1mdebug    \u001b[0m] \u001b[1mResult is similar to the prompt\u001b[0m \u001b[36msimilarity_score\u001b[0m=\u001b[35m0.901675\u001b[0m\n",
      "\u001b[2m2024-06-15 03:04:07\u001b[0m [\u001b[32m\u001b[1mdebug    \u001b[0m] \u001b[1mResult is similar to the prompt\u001b[0m \u001b[36msimilarity_score\u001b[0m=\u001b[35m0.869261\u001b[0m\n",
      "\u001b[2m2024-06-15 03:04:07\u001b[0m [\u001b[32m\u001b[1mdebug    \u001b[0m] \u001b[1mScanner completed             \u001b[0m \u001b[36melapsed_time_seconds\u001b[0m=\u001b[35m0.40759\u001b[0m \u001b[36mis_valid\u001b[0m=\u001b[35mTrue\u001b[0m \u001b[36mscanner\u001b[0m=\u001b[35mRelevance\u001b[0m\n",
      "\u001b[2m2024-06-15 03:04:07\u001b[0m [\u001b[32m\u001b[1mdebug    \u001b[0m] \u001b[1mResult is similar to the prompt\u001b[0m \u001b[36msimilarity_score\u001b[0m=\u001b[35m0.84775615\u001b[0m\n",
      "\u001b[2m2024-06-15 03:04:07\u001b[0m [\u001b[32m\u001b[1mdebug    \u001b[0m] \u001b[1mScanner completed             \u001b[0m \u001b[36melapsed_time_seconds\u001b[0m=\u001b[35m0.406065\u001b[0m \u001b[36mis_valid\u001b[0m=\u001b[35mTrue\u001b[0m \u001b[36mscanner\u001b[0m=\u001b[35mRelevance\u001b[0m\n",
      "\u001b[2m2024-06-15 03:04:07\u001b[0m [\u001b[32m\u001b[1mdebug    \u001b[0m] \u001b[1mScanner completed             \u001b[0m \u001b[36melapsed_time_seconds\u001b[0m=\u001b[35m0.410945\u001b[0m \u001b[36mis_valid\u001b[0m=\u001b[35mTrue\u001b[0m \u001b[36mscanner\u001b[0m=\u001b[35mRelevance\u001b[0m\n"
     ]
    },
    {
     "name": "stderr",
     "output_type": "stream",
     "text": [
      "Asking to truncate to max_length but no maximum length is provided and the model has no predefined maximum length. Default to no truncation.\n",
      "Asking to truncate to max_length but no maximum length is provided and the model has no predefined maximum length. Default to no truncation.\n",
      "Asking to truncate to max_length but no maximum length is provided and the model has no predefined maximum length. Default to no truncation.\n"
     ]
    },
    {
     "name": "stdout",
     "output_type": "stream",
     "text": [
      "\u001b[2m2024-06-15 03:04:08\u001b[0m [\u001b[32m\u001b[1mdebug    \u001b[0m] \u001b[1mNo sensitive data found in the output\u001b[0m\n",
      "\u001b[2m2024-06-15 03:04:08\u001b[0m [\u001b[32m\u001b[1mdebug    \u001b[0m] \u001b[1mScanner completed             \u001b[0m \u001b[36melapsed_time_seconds\u001b[0m=\u001b[35m0.447153\u001b[0m \u001b[36mis_valid\u001b[0m=\u001b[35mTrue\u001b[0m \u001b[36mscanner\u001b[0m=\u001b[35mSensitive\u001b[0m\n",
      "\u001b[2m2024-06-15 03:04:08\u001b[0m [\u001b[32m\u001b[1minfo     \u001b[0m] \u001b[1mScanned output                \u001b[0m \u001b[36melapsed_time_seconds\u001b[0m=\u001b[35m1.435777\u001b[0m \u001b[36mscores\u001b[0m=\u001b[35m{'NoRefusal': 0.0, 'Relevance': 0.0, 'Sensitive': 0.0}\u001b[0m\n"
     ]
    },
    {
     "data": {
      "text/html": [
       "<pre style=\"white-space:pre;overflow-x:auto;line-height:normal;font-family:Menlo,'DejaVu Sans Mono',consolas,'Courier New',monospace\">Evaluated <span style=\"color: #008080; text-decoration-color: #008080; font-weight: bold\">8</span> of <span style=\"color: #008080; text-decoration-color: #008080; font-weight: bold\">10</span> examples\n",
       "</pre>\n"
      ],
      "text/plain": [
       "Evaluated \u001b[1;36m8\u001b[0m of \u001b[1;36m10\u001b[0m examples\n"
      ]
     },
     "metadata": {},
     "output_type": "display_data"
    },
    {
     "name": "stdout",
     "output_type": "stream",
     "text": [
      "\u001b[2m2024-06-15 03:04:08\u001b[0m [\u001b[32m\u001b[1mdebug    \u001b[0m] \u001b[1mNo sensitive data found in the output\u001b[0m\n",
      "\u001b[2m2024-06-15 03:04:08\u001b[0m [\u001b[32m\u001b[1mdebug    \u001b[0m] \u001b[1mScanner completed             \u001b[0m \u001b[36melapsed_time_seconds\u001b[0m=\u001b[35m0.458703\u001b[0m \u001b[36mis_valid\u001b[0m=\u001b[35mTrue\u001b[0m \u001b[36mscanner\u001b[0m=\u001b[35mSensitive\u001b[0m\n",
      "\u001b[2m2024-06-15 03:04:08\u001b[0m [\u001b[32m\u001b[1minfo     \u001b[0m] \u001b[1mScanned output                \u001b[0m \u001b[36melapsed_time_seconds\u001b[0m=\u001b[35m1.449843\u001b[0m \u001b[36mscores\u001b[0m=\u001b[35m{'NoRefusal': 0.0, 'Relevance': 0.0, 'Sensitive': 0.0}\u001b[0m\n",
      "\u001b[2m2024-06-15 03:04:08\u001b[0m [\u001b[33m\u001b[1mwarning  \u001b[0m] \u001b[1mFound unrecognized label, returning entity as is\u001b[0m \u001b[36mlabel\u001b[0m=\u001b[35mCURRENCYCODE\u001b[0m\n",
      "\u001b[2m2024-06-15 03:04:08\u001b[0m [\u001b[32m\u001b[1mdebug    \u001b[0m] \u001b[1mIgnoring entity               \u001b[0m \u001b[36mentity_group\u001b[0m=\u001b[35mCURRENCYCODE\u001b[0m\n",
      "\u001b[2m2024-06-15 03:04:08\u001b[0m [\u001b[33m\u001b[1mwarning  \u001b[0m] \u001b[1mFound unrecognized label, returning entity as is\u001b[0m \u001b[36mlabel\u001b[0m=\u001b[35mCURRENCYCODE\u001b[0m\n",
      "\u001b[2m2024-06-15 03:04:08\u001b[0m [\u001b[32m\u001b[1mdebug    \u001b[0m] \u001b[1mIgnoring entity               \u001b[0m \u001b[36mentity_group\u001b[0m=\u001b[35mCURRENCYCODE\u001b[0m\n",
      "\u001b[2m2024-06-15 03:04:08\u001b[0m [\u001b[33m\u001b[1mwarning  \u001b[0m] \u001b[1mFound unrecognized label, returning entity as is\u001b[0m \u001b[36mlabel\u001b[0m=\u001b[35mCURRENCYCODE\u001b[0m\n",
      "\u001b[2m2024-06-15 03:04:08\u001b[0m [\u001b[32m\u001b[1mdebug    \u001b[0m] \u001b[1mIgnoring entity               \u001b[0m \u001b[36mentity_group\u001b[0m=\u001b[35mCURRENCYCODE\u001b[0m\n",
      "\u001b[2m2024-06-15 03:04:08\u001b[0m [\u001b[33m\u001b[1mwarning  \u001b[0m] \u001b[1mFound unrecognized label, returning entity as is\u001b[0m \u001b[36mlabel\u001b[0m=\u001b[35mCURRENCYCODE\u001b[0m\n",
      "\u001b[2m2024-06-15 03:04:08\u001b[0m [\u001b[32m\u001b[1mdebug    \u001b[0m] \u001b[1mIgnoring entity               \u001b[0m \u001b[36mentity_group\u001b[0m=\u001b[35mCURRENCYCODE\u001b[0m\n",
      "\u001b[2m2024-06-15 03:04:08\u001b[0m [\u001b[32m\u001b[1mdebug    \u001b[0m] \u001b[1mNo sensitive data found in the output\u001b[0m\n",
      "\u001b[2m2024-06-15 03:04:08\u001b[0m [\u001b[32m\u001b[1mdebug    \u001b[0m] \u001b[1mScanner completed             \u001b[0m \u001b[36melapsed_time_seconds\u001b[0m=\u001b[35m0.528083\u001b[0m \u001b[36mis_valid\u001b[0m=\u001b[35mTrue\u001b[0m \u001b[36mscanner\u001b[0m=\u001b[35mSensitive\u001b[0m\n",
      "\u001b[2m2024-06-15 03:04:08\u001b[0m [\u001b[32m\u001b[1minfo     \u001b[0m] \u001b[1mScanned output                \u001b[0m \u001b[36melapsed_time_seconds\u001b[0m=\u001b[35m1.534243\u001b[0m \u001b[36mscores\u001b[0m=\u001b[35m{'NoRefusal': 0.0, 'Relevance': 0.0, 'Sensitive': 0.0}\u001b[0m\n"
     ]
    },
    {
     "data": {
      "text/html": [
       "<pre style=\"white-space:pre;overflow-x:auto;line-height:normal;font-family:Menlo,'DejaVu Sans Mono',consolas,'Courier New',monospace\">Evaluated <span style=\"color: #008080; text-decoration-color: #008080; font-weight: bold\">9</span> of <span style=\"color: #008080; text-decoration-color: #008080; font-weight: bold\">10</span> examples\n",
       "</pre>\n"
      ],
      "text/plain": [
       "Evaluated \u001b[1;36m9\u001b[0m of \u001b[1;36m10\u001b[0m examples\n"
      ]
     },
     "metadata": {},
     "output_type": "display_data"
    },
    {
     "data": {
      "text/html": [
       "<pre style=\"white-space:pre;overflow-x:auto;line-height:normal;font-family:Menlo,'DejaVu Sans Mono',consolas,'Courier New',monospace\">Evaluated <span style=\"color: #008080; text-decoration-color: #008080; font-weight: bold\">10</span> of <span style=\"color: #008080; text-decoration-color: #008080; font-weight: bold\">10</span> examples\n",
       "</pre>\n"
      ],
      "text/plain": [
       "Evaluated \u001b[1;36m10\u001b[0m of \u001b[1;36m10\u001b[0m examples\n"
      ]
     },
     "metadata": {},
     "output_type": "display_data"
    },
    {
     "data": {
      "text/html": [
       "<pre style=\"white-space:pre;overflow-x:auto;line-height:normal;font-family:Menlo,'DejaVu Sans Mono',consolas,'Courier New',monospace\">Evaluation summary\n",
       "<span style=\"font-weight: bold\">{</span>\n",
       "    <span style=\"color: #008000; text-decoration-color: #008000\">'TonicValidateScorer'</span>: <span style=\"font-weight: bold\">{</span>\n",
       "        <span style=\"color: #008000; text-decoration-color: #008000\">'answer_similarity'</span>: <span style=\"font-weight: bold\">{</span><span style=\"color: #008000; text-decoration-color: #008000\">'mean'</span>: <span style=\"color: #008080; text-decoration-color: #008080; font-weight: bold\">4.3</span><span style=\"font-weight: bold\">}</span>,\n",
       "        <span style=\"color: #008000; text-decoration-color: #008000\">'augmentation_precision'</span>: <span style=\"font-weight: bold\">{</span><span style=\"color: #008000; text-decoration-color: #008000\">'mean'</span>: <span style=\"color: #008080; text-decoration-color: #008080; font-weight: bold\">0.4</span><span style=\"font-weight: bold\">}</span>,\n",
       "        <span style=\"color: #008000; text-decoration-color: #008000\">'answer_consistency'</span>: <span style=\"font-weight: bold\">{</span><span style=\"color: #008000; text-decoration-color: #008000\">'mean'</span>: <span style=\"color: #008080; text-decoration-color: #008080; font-weight: bold\">0.4642857142857143</span><span style=\"font-weight: bold\">}</span>\n",
       "    <span style=\"font-weight: bold\">}</span>,\n",
       "    <span style=\"color: #008000; text-decoration-color: #008000\">'LLMGuardScorer'</span>: <span style=\"font-weight: bold\">{</span>\n",
       "        <span style=\"color: #008000; text-decoration-color: #008000\">'results_valid'</span>: <span style=\"font-weight: bold\">{</span>\n",
       "            <span style=\"color: #008000; text-decoration-color: #008000\">'NoRefusal'</span>: <span style=\"font-weight: bold\">{</span><span style=\"color: #008000; text-decoration-color: #008000\">'true_count'</span>: <span style=\"color: #008080; text-decoration-color: #008080; font-weight: bold\">10</span>, <span style=\"color: #008000; text-decoration-color: #008000\">'true_fraction'</span>: <span style=\"color: #008080; text-decoration-color: #008080; font-weight: bold\">1.0</span><span style=\"font-weight: bold\">}</span>,\n",
       "            <span style=\"color: #008000; text-decoration-color: #008000\">'Relevance'</span>: <span style=\"font-weight: bold\">{</span><span style=\"color: #008000; text-decoration-color: #008000\">'true_count'</span>: <span style=\"color: #008080; text-decoration-color: #008080; font-weight: bold\">10</span>, <span style=\"color: #008000; text-decoration-color: #008000\">'true_fraction'</span>: <span style=\"color: #008080; text-decoration-color: #008080; font-weight: bold\">1.0</span><span style=\"font-weight: bold\">}</span>,\n",
       "            <span style=\"color: #008000; text-decoration-color: #008000\">'Sensitive'</span>: <span style=\"font-weight: bold\">{</span><span style=\"color: #008000; text-decoration-color: #008000\">'true_count'</span>: <span style=\"color: #008080; text-decoration-color: #008080; font-weight: bold\">10</span>, <span style=\"color: #008000; text-decoration-color: #008000\">'true_fraction'</span>: <span style=\"color: #008080; text-decoration-color: #008080; font-weight: bold\">1.0</span><span style=\"font-weight: bold\">}</span>\n",
       "        <span style=\"font-weight: bold\">}</span>,\n",
       "        <span style=\"color: #008000; text-decoration-color: #008000\">'results_score'</span>: <span style=\"font-weight: bold\">{</span><span style=\"color: #008000; text-decoration-color: #008000\">'NoRefusal'</span>: <span style=\"font-weight: bold\">{</span><span style=\"color: #008000; text-decoration-color: #008000\">'mean'</span>: <span style=\"color: #008080; text-decoration-color: #008080; font-weight: bold\">0.0</span><span style=\"font-weight: bold\">}</span>, <span style=\"color: #008000; text-decoration-color: #008000\">'Relevance'</span>: <span style=\"font-weight: bold\">{</span><span style=\"color: #008000; text-decoration-color: #008000\">'mean'</span>: <span style=\"color: #008080; text-decoration-color: #008080; font-weight: bold\">0.0</span><span style=\"font-weight: bold\">}</span>, <span style=\"color: #008000; text-decoration-color: #008000\">'Sensitive'</span>: <span style=\"font-weight: bold\">{</span><span style=\"color: #008000; text-decoration-color: #008000\">'mean'</span>: <span style=\"color: #008080; text-decoration-color: #008080; font-weight: bold\">0.0</span><span style=\"font-weight: bold\">}}</span>\n",
       "    <span style=\"font-weight: bold\">}</span>,\n",
       "    <span style=\"color: #008000; text-decoration-color: #008000\">'model_latency'</span>: <span style=\"font-weight: bold\">{</span><span style=\"color: #008000; text-decoration-color: #008000\">'mean'</span>: <span style=\"color: #008080; text-decoration-color: #008080; font-weight: bold\">27.561893129348753</span><span style=\"font-weight: bold\">}</span>\n",
       "<span style=\"font-weight: bold\">}</span>\n",
       "</pre>\n"
      ],
      "text/plain": [
       "Evaluation summary\n",
       "\u001b[1m{\u001b[0m\n",
       "    \u001b[32m'TonicValidateScorer'\u001b[0m: \u001b[1m{\u001b[0m\n",
       "        \u001b[32m'answer_similarity'\u001b[0m: \u001b[1m{\u001b[0m\u001b[32m'mean'\u001b[0m: \u001b[1;36m4.3\u001b[0m\u001b[1m}\u001b[0m,\n",
       "        \u001b[32m'augmentation_precision'\u001b[0m: \u001b[1m{\u001b[0m\u001b[32m'mean'\u001b[0m: \u001b[1;36m0.4\u001b[0m\u001b[1m}\u001b[0m,\n",
       "        \u001b[32m'answer_consistency'\u001b[0m: \u001b[1m{\u001b[0m\u001b[32m'mean'\u001b[0m: \u001b[1;36m0.4642857142857143\u001b[0m\u001b[1m}\u001b[0m\n",
       "    \u001b[1m}\u001b[0m,\n",
       "    \u001b[32m'LLMGuardScorer'\u001b[0m: \u001b[1m{\u001b[0m\n",
       "        \u001b[32m'results_valid'\u001b[0m: \u001b[1m{\u001b[0m\n",
       "            \u001b[32m'NoRefusal'\u001b[0m: \u001b[1m{\u001b[0m\u001b[32m'true_count'\u001b[0m: \u001b[1;36m10\u001b[0m, \u001b[32m'true_fraction'\u001b[0m: \u001b[1;36m1.0\u001b[0m\u001b[1m}\u001b[0m,\n",
       "            \u001b[32m'Relevance'\u001b[0m: \u001b[1m{\u001b[0m\u001b[32m'true_count'\u001b[0m: \u001b[1;36m10\u001b[0m, \u001b[32m'true_fraction'\u001b[0m: \u001b[1;36m1.0\u001b[0m\u001b[1m}\u001b[0m,\n",
       "            \u001b[32m'Sensitive'\u001b[0m: \u001b[1m{\u001b[0m\u001b[32m'true_count'\u001b[0m: \u001b[1;36m10\u001b[0m, \u001b[32m'true_fraction'\u001b[0m: \u001b[1;36m1.0\u001b[0m\u001b[1m}\u001b[0m\n",
       "        \u001b[1m}\u001b[0m,\n",
       "        \u001b[32m'results_score'\u001b[0m: \u001b[1m{\u001b[0m\u001b[32m'NoRefusal'\u001b[0m: \u001b[1m{\u001b[0m\u001b[32m'mean'\u001b[0m: \u001b[1;36m0.0\u001b[0m\u001b[1m}\u001b[0m, \u001b[32m'Relevance'\u001b[0m: \u001b[1m{\u001b[0m\u001b[32m'mean'\u001b[0m: \u001b[1;36m0.0\u001b[0m\u001b[1m}\u001b[0m, \u001b[32m'Sensitive'\u001b[0m: \u001b[1m{\u001b[0m\u001b[32m'mean'\u001b[0m: \u001b[1;36m0.0\u001b[0m\u001b[1m}\u001b[0m\u001b[1m}\u001b[0m\n",
       "    \u001b[1m}\u001b[0m,\n",
       "    \u001b[32m'model_latency'\u001b[0m: \u001b[1m{\u001b[0m\u001b[32m'mean'\u001b[0m: \u001b[1;36m27.561893129348753\u001b[0m\u001b[1m}\u001b[0m\n",
       "\u001b[1m}\u001b[0m\n"
      ]
     },
     "metadata": {},
     "output_type": "display_data"
    },
    {
     "name": "stdout",
     "output_type": "stream",
     "text": [
      "🍩 https://wandb.ai/a-sh0ts/bioasq-rag-data/r/call/b3781423-33bb-4f64-8262-867b48365f12\n"
     ]
    },
    {
     "data": {
      "text/plain": [
       "{'TonicValidateScorer': {'answer_similarity': {'mean': 4.3},\n",
       "  'augmentation_precision': {'mean': 0.4},\n",
       "  'answer_consistency': {'mean': 0.4642857142857143}},\n",
       " 'LLMGuardScorer': {'results_valid': {'NoRefusal': {'true_count': 10,\n",
       "    'true_fraction': 1.0},\n",
       "   'Relevance': {'true_count': 10, 'true_fraction': 1.0},\n",
       "   'Sensitive': {'true_count': 10, 'true_fraction': 1.0}},\n",
       "  'results_score': {'NoRefusal': {'mean': 0.0},\n",
       "   'Relevance': {'mean': 0.0},\n",
       "   'Sensitive': {'mean': 0.0}}},\n",
       " 'model_latency': {'mean': 27.561893129348753}}"
      ]
     },
     "execution_count": 17,
     "metadata": {},
     "output_type": "execute_result"
    }
   ],
   "source": [
    "evaluation = weave.Evaluation(dataset=sub_qap, scorers=scorers)\n",
    "await evaluation.evaluate(rag_model)"
   ]
  },
  {
   "cell_type": "code",
   "execution_count": 18,
   "metadata": {},
   "outputs": [],
   "source": [
    "from weave_example_demo.llm_types.agent.tools import RAGTool, ToolRegistry\n",
    "from weave_example_demo.llm_types.agent.agent import LLMAgentModel"
   ]
  },
  {
   "cell_type": "code",
   "execution_count": 19,
   "metadata": {},
   "outputs": [],
   "source": [
    "agent_tool_registry = ToolRegistry()\n"
   ]
  },
  {
   "cell_type": "code",
   "execution_count": 20,
   "metadata": {},
   "outputs": [],
   "source": [
    "agent_tool_registry.add_tool(\n",
    "    key=\"RAGTool\",\n",
    "    function=RAGTool(rag_model=rag_model),\n",
    "    description=\"Generate a medical response using the BioASQ RAG model\",\n",
    "    parameters={\n",
    "        \"type\": \"object\",\n",
    "        \"properties\": {\n",
    "            \"question\": {\n",
    "                \"type\": \"string\",\n",
    "                \"description\": \"The medical question for the BioASQ RAG model\",\n",
    "            },\n",
    "            \"n_documents\": {\n",
    "                \"type\": \"integer\",\n",
    "                \"description\": \"The number of medical documents to retrieve\",\n",
    "                \"default\": 2,\n",
    "            },\n",
    "        },\n",
    "        \"required\": [\"question\"],\n",
    "    },\n",
    ")"
   ]
  },
  {
   "cell_type": "code",
   "execution_count": 21,
   "metadata": {},
   "outputs": [],
   "source": [
    "bioasq_agent_system_prompt = (\n",
    "    \"### Instruction ###\\n\"\n",
    "    \"You are an intelligent assistant named BioASQ-Bot, an expert in biomedical question answering. Your task is to provide accurate, relevant, and clear answers to biomedical questions using the information from the provided tools and context.\\n\\n\"\n",
    "    \"### Tools ###\\n\"\n",
    "    \"You have access to the following tools:\\n\"\n",
    "    \"{tools}\\n\\n\"\n",
    "    \"### Process ###\\n\"\n",
    "    \"Follow this step-by-step process to answer the question:\\n\"\n",
    "    \"1. Analyze the question to identify the key information needed.\\n\"\n",
    "    \"2. Use the available tools to retrieve relevant information.\\n\"\n",
    "    \"3. Synthesize the retrieved information into a coherent answer.\\n\"\n",
    "    \"4. Cite the sources used to formulate your answer.\\n\"\n",
    "    \"5. If the question is unclear or lacks context, ask for clarification.\\n\"\n",
    "    \"6. Provide the final answer in a clear, unbiased, and professional manner.\\n\\n\"\n",
    "    \"### Format ###\\n\"\n",
    "    \"Use the following format for your response:\\n\"\n",
    "    \"Question: <The input question you must answer>\\n\"\n",
    "    \"Thought: <Your analysis of the question and plan to answer it>\\n\"\n",
    "    \"Action: <The action to take, should be one of the provided tools>\\n\"\n",
    "    \"Action Input: <The input to the selected action>\\n\"\n",
    "    \"Observation: <The result of the action>\\n\"\n",
    "    \"... (Repeat Thought/Action/Action Input/Observation as needed)\\n\"\n",
    "    \"Thought: <Your reflection on whether you can now answer the question>\\n\"\n",
    "    \"FINISH: <The final answer to the original question>\\n\\n\"\n",
    "    \"### Evaluation ###\\n\"\n",
    "    \"Your performance will be evaluated based on:\\n\"\n",
    "    \"- Accuracy and relevance of your answers\\n\"  \n",
    "    \"- Clarity and coherence of your explanations\\n\"\n",
    "    \"- Proper citation of sources\\n\"\n",
    "    \"- Ability to ask for clarification when needed\\n\"\n",
    "    \"- Professionalism and objectivity in your responses\\n\\n\"\n",
    "    \"### Instruction ###\\n\"\n",
    "    \"You must start your final answer with 'FINISH:'. Do not provide any information that is not supported by the tools and context provided. If you cannot answer the question based on the available information, say 'FINISH: I do not have enough information to answer this question.' Let's begin!\\n\"\n",
    ")\n",
    "\n",
    "bioasq_agent_human_prompt = \"Question: {question}\\n\" \"Response:\"\n",
    "\n"
   ]
  },
  {
   "cell_type": "code",
   "execution_count": 22,
   "metadata": {},
   "outputs": [],
   "source": [
    "allowed_tools = [\n",
    "         \"RAGTool\" #BUG: Slice issue\n",
    "    ]\n",
    "agent = LLMAgentModel(\n",
    "    model_name=\"gpt-3.5-turbo\",\n",
    "    allowed_tools=allowed_tools,\n",
    "    agent_tool_registry=agent_tool_registry,\n",
    "    human_prompt=bioasq_agent_human_prompt,\n",
    "    system_prompt=bioasq_agent_system_prompt,\n",
    ")\n",
    "\n"
   ]
  },
  {
   "cell_type": "code",
   "execution_count": 23,
   "metadata": {},
   "outputs": [
    {
     "name": "stderr",
     "output_type": "stream",
     "text": [
      "\u001b[92m03:04:21 - LiteLLM:INFO\u001b[0m: utils.py:1298 - \u001b[92m\n",
      "\n",
      "POST Request Sent from LiteLLM:\n",
      "curl -X POST \\\n",
      "https://api.openai.com/v1/ \\\n",
      "-d '{'model': 'gpt-3.5-turbo', 'messages': [{'role': 'system', 'content': \"### Instruction ###\\nYou are an intelligent assistant named BioASQ-Bot, an expert in biomedical question answering. Your task is to provide accurate, relevant, and clear answers to biomedical questions using the information from the provided tools and context.\\n\\n### Tools ###\\nYou have access to the following tools:\\nRAGTool\\n\\n### Process ###\\nFollow this step-by-step process to answer the question:\\n1. Analyze the question to identify the key information needed.\\n2. Use the available tools to retrieve relevant information.\\n3. Synthesize the retrieved information into a coherent answer.\\n4. Cite the sources used to formulate your answer.\\n5. If the question is unclear or lacks context, ask for clarification.\\n6. Provide the final answer in a clear, unbiased, and professional manner.\\n\\n### Format ###\\nUse the following format for your response:\\nQuestion: <The input question you must answer>\\nThought: <Your analysis of the question and plan to answer it>\\nAction: <The action to take, should be one of the provided tools>\\nAction Input: <The input to the selected action>\\nObservation: <The result of the action>\\n... (Repeat Thought/Action/Action Input/Observation as needed)\\nThought: <Your reflection on whether you can now answer the question>\\nFINISH: <The final answer to the original question>\\n\\n### Evaluation ###\\nYour performance will be evaluated based on:\\n- Accuracy and relevance of your answers\\n- Clarity and coherence of your explanations\\n- Proper citation of sources\\n- Ability to ask for clarification when needed\\n- Professionalism and objectivity in your responses\\n\\n### Instruction ###\\nYou must start your final answer with 'FINISH:'. Do not provide any information that is not supported by the tools and context provided. If you cannot answer the question based on the available information, say 'FINISH: I do not have enough information to answer this question.' Let's begin!\\n\"}, {'role': 'user', 'content': 'Question: What is MSR? Generate a medical response using the BioASQ RAG model\\nResponse:'}], 'temperature': 0.0, 'max_tokens': 1000, 'tools': [{'type': 'function', 'function': {'name': 'RAGTool', 'description': 'Generate a medical response using the BioASQ RAG model', 'parameters': {'type': 'object', 'properties': {'question': {'type': 'string', 'description': 'The medical question for the BioASQ RAG model'}, 'n_documents': {'type': 'integer', 'description': 'The number of medical documents to retrieve', 'default': 2}}, 'required': ['question']}}}], 'tool_choice': 'auto', 'extra_body': {}}'\n",
      "\u001b[0m\n",
      "\n",
      "\u001b[92m03:04:23 - LiteLLM:INFO\u001b[0m: utils.py:3341 - Wrapper: Completed Call, calling success_handler\n"
     ]
    },
    {
     "name": "stdout",
     "output_type": "stream",
     "text": [
      "Message(content='Thought: The question is asking about the meaning or definition of \"MSR\" in a medical context. I will use the BioASQ RAG model to generate a medical response for this question.\\n\\nAction: RAGTool\\nAction Input: { question: \"What is MSR?\" }\\nObservation: \\n\\nThought: I will now wait for the response generated by the BioASQ RAG model to provide the accurate medical information about MSR.', role='assistant', tool_calls=[ChatCompletionMessageToolCall(function=Function(arguments='{\"question\":\"What is MSR?\"}', name='RAGTool'), id='call_Ets49PJ2iKIJ0VgtKJ3jIpCV', type='function')])\n",
      "True\n"
     ]
    },
    {
     "name": "stderr",
     "output_type": "stream",
     "text": [
      "Batches: 100%|██████████| 1/1 [00:00<00:00, 33.58it/s]\n",
      "\u001b[92m03:04:32 - LiteLLM:INFO\u001b[0m: utils.py:1298 - \u001b[92m\n",
      "\n",
      "POST Request Sent from LiteLLM:\n",
      "curl -X POST \\\n",
      "https://api.openai.com/v1/ \\\n",
      "-d '{'model': 'gpt-3.5-turbo', 'messages': [{'role': 'system', 'content': '\\n### Instruction ###\\nYou are an expert medical assistant. Your task is to provide accurate and concise answers to medical questions based on the provided data. Ensure that your responses are clear, informative, unbiased, and avoid relying on stereotypes. Answer in a natural, human-like manner. Here are some examples:\\n\\n### Example ###\\n1. Which enzyme deficiency can cause GM1 gangliosidoses?\\n   - GM1 gangliosidoses are associated with deficiency of β-galactosidase.\\n\\n2. Which are the drugs utilized for the burning mouth syndrome?\\n   - Dopaminergic drugs should be given in patients with BMS. Catuama reduces the symptoms of BMS and may be a novel therapeutic strategy for the treatment of this disease. Capsaicin, alpha-lipoic acid (ALA), and clonazepam were those that showed more reduction in symptoms of BMS. Treatment with placebos produced a response that was 72% as large as the response to active drugs.\\n\\n3. Describe a diet that reduces the chance of kidney stones.\\n   - People can help prevent kidney stones by making changes in fluid intake and, depending on the type of kidney stone, changes in consumption of sodium, animal protein, calcium, and oxalate. Drinking enough fluids each day is the best way to help prevent most types of kidney stones. Health care providers recommend that a person drink 2 to 3 liters of fluid a day. People with cystine stones may need to drink even more. Though water is best, other fluids may also help prevent kidney stones, such as citrus drinks.\\n\\n4. Does smoking increase risk for glioblastoma?\\n   - No. Smoking does not increase risk for glioblastoma.\\n\\n5. Inhibition of which enzyme is the mechanism of action of alisertib?\\n   - Alisertib (MLN8237) is a selective Aurora kinase inhibitor that acts by interfering with spindle organization and chromosome alignment during mitosis. It has been tested in patients with gastric cancer, breast cancer, relapsed and refractory aggressive B- and T-cell non-Hodgkin lymphomas, epithelial ovarian, fallopian tube, and primary peritoneal carcinoma.\\n\\n### Instruction ###\\nProvide your answers in a similar format. Ensure that your answer is unbiased and avoids relying on stereotypes.\\n'}, {'role': 'user', 'content': '\\n### Question ###\\nWhat is MSR?\\n\\n### Contexts ###\\nContext 1:\\nMerck KGaA is developing matuzumab, a fully humanized epidermal growth factor \\nreceptor (EGFR)-specific monoclonal antibody, as a potential treatment for \\nEGFR-bearing tumors. Matuzumab is currently undergoing phase II clinical trials \\nfor gastric, cervical, pancreatic and ovarian cancers.\\n\\nContext 2:\\nWe report a case of severe digital ulcerations associated with systemic \\nsclerosis, successfully treated with treprostinil (Remodulin). There was \\nimprovement within days of the treatment initiation; complete healing was \\naccomplished after 16 weeks of therapy. Patients with systemic sclerosis and \\nperipheral small vessel disease have limited therapeutic options. Treprostinil \\nis a prostacyclin analogue that can be delivered by subcutaneous infusion and is \\napproved in the USA only for treatment of primary pulmonary hypertension. This \\nreport provides an impressive example of an alternative, complementary \\nindication for the use of treprostinil.\\n\\n### Answer ###\\n'}], 'temperature': 0.0, 'extra_body': {}}'\n",
      "\u001b[0m\n",
      "\n",
      "\u001b[92m03:04:34 - LiteLLM:INFO\u001b[0m: utils.py:3341 - Wrapper: Completed Call, calling success_handler\n",
      "\u001b[92m03:04:47 - LiteLLM:INFO\u001b[0m: utils.py:1298 - \u001b[92m\n",
      "\n",
      "POST Request Sent from LiteLLM:\n",
      "curl -X POST \\\n",
      "https://api.openai.com/v1/ \\\n",
      "-d '{'model': 'gpt-3.5-turbo', 'messages': [{'role': 'system', 'content': \"### Instruction ###\\nYou are an intelligent assistant named BioASQ-Bot, an expert in biomedical question answering. Your task is to provide accurate, relevant, and clear answers to biomedical questions using the information from the provided tools and context.\\n\\n### Tools ###\\nYou have access to the following tools:\\nRAGTool\\n\\n### Process ###\\nFollow this step-by-step process to answer the question:\\n1. Analyze the question to identify the key information needed.\\n2. Use the available tools to retrieve relevant information.\\n3. Synthesize the retrieved information into a coherent answer.\\n4. Cite the sources used to formulate your answer.\\n5. If the question is unclear or lacks context, ask for clarification.\\n6. Provide the final answer in a clear, unbiased, and professional manner.\\n\\n### Format ###\\nUse the following format for your response:\\nQuestion: <The input question you must answer>\\nThought: <Your analysis of the question and plan to answer it>\\nAction: <The action to take, should be one of the provided tools>\\nAction Input: <The input to the selected action>\\nObservation: <The result of the action>\\n... (Repeat Thought/Action/Action Input/Observation as needed)\\nThought: <Your reflection on whether you can now answer the question>\\nFINISH: <The final answer to the original question>\\n\\n### Evaluation ###\\nYour performance will be evaluated based on:\\n- Accuracy and relevance of your answers\\n- Clarity and coherence of your explanations\\n- Proper citation of sources\\n- Ability to ask for clarification when needed\\n- Professionalism and objectivity in your responses\\n\\n### Instruction ###\\nYou must start your final answer with 'FINISH:'. Do not provide any information that is not supported by the tools and context provided. If you cannot answer the question based on the available information, say 'FINISH: I do not have enough information to answer this question.' Let's begin!\\n\"}, {'role': 'user', 'content': 'Question: What is MSR? Generate a medical response using the BioASQ RAG model\\nResponse:'}, Message(content='Thought: The question is asking about the meaning or definition of \"MSR\" in a medical context. I will use the BioASQ RAG model to generate a medical response for this question.\\n\\nAction: RAGTool\\nAction Input: { question: \"What is MSR?\" }\\nObservation: \\n\\nThought: I will now wait for the response generated by the BioASQ RAG model to provide the accurate medical information about MSR.', role='assistant', tool_calls=[ChatCompletionMessageToolCall(function=Function(arguments='{\"question\":\"What is MSR?\"}', name='RAGTool'), id='call_Ets49PJ2iKIJ0VgtKJ3jIpCV', type='function')]), {'tool_call_id': 'call_Ets49PJ2iKIJ0VgtKJ3jIpCV', 'role': 'tool', 'name': 'RAGTool', 'content': 'MSR stands for Matuzumab-Specific Receptor. Matuzumab is a fully humanized epidermal growth factor receptor (EGFR)-specific monoclonal antibody developed by Merck KGaA. It is currently undergoing phase II clinical trials for the treatment of EGFR-bearing tumors such as gastric, cervical, pancreatic, and ovarian cancers.'}], 'temperature': 0.0, 'max_tokens': 1000, 'tools': [{'type': 'function', 'function': {'name': 'RAGTool', 'description': 'Generate a medical response using the BioASQ RAG model', 'parameters': {'type': 'object', 'properties': {'question': {'type': 'string', 'description': 'The medical question for the BioASQ RAG model'}, 'n_documents': {'type': 'integer', 'description': 'The number of medical documents to retrieve', 'default': 2}}, 'required': ['question']}}}], 'tool_choice': 'auto', 'extra_body': {}}'\n",
      "\u001b[0m\n",
      "\n",
      "\u001b[92m03:04:49 - LiteLLM:INFO\u001b[0m: utils.py:3341 - Wrapper: Completed Call, calling success_handler\n"
     ]
    },
    {
     "name": "stdout",
     "output_type": "stream",
     "text": [
      "Message(content='FINISH: MSR stands for Matuzumab-Specific Receptor. Matuzumab is a fully humanized epidermal growth factor receptor (EGFR)-specific monoclonal antibody developed by Merck KGaA. It is currently undergoing phase II clinical trials for the treatment of EGFR-bearing tumors such as gastric, cervical, pancreatic, and ovarian cancers.', role='assistant')\n",
      "False\n",
      "🍩 https://wandb.ai/a-sh0ts/bioasq-rag-data/r/call/57a47661-b499-49da-a406-bb28700a5812\n"
     ]
    },
    {
     "data": {
      "text/plain": [
       "'FINISH: MSR stands for Matuzumab-Specific Receptor. Matuzumab is a fully humanized epidermal growth factor receptor (EGFR)-specific monoclonal antibody developed by Merck KGaA. It is currently undergoing phase II clinical trials for the treatment of EGFR-bearing tumors such as gastric, cervical, pancreatic, and ovarian cancers.'"
      ]
     },
     "execution_count": 23,
     "metadata": {},
     "output_type": "execute_result"
    }
   ],
   "source": [
    "agent.predict(\"What is MSR? Generate a medical response using the BioASQ RAG model\")"
   ]
  },
  {
   "cell_type": "code",
   "execution_count": null,
   "metadata": {},
   "outputs": [],
   "source": [
    "#TODO: Add agent eval"
   ]
  }
 ],
 "metadata": {
  "kernelspec": {
   "display_name": ".venv",
   "language": "python",
   "name": "python3"
  },
  "language_info": {
   "codemirror_mode": {
    "name": "ipython",
    "version": 3
   },
   "file_extension": ".py",
   "mimetype": "text/x-python",
   "name": "python",
   "nbconvert_exporter": "python",
   "pygments_lexer": "ipython3",
   "version": "3.10.12"
  }
 },
 "nbformat": 4,
 "nbformat_minor": 2
}
