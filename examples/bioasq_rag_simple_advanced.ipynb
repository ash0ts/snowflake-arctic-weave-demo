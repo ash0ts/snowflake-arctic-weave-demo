{
 "cells": [
  {
   "cell_type": "code",
   "execution_count": 1,
   "metadata": {},
   "outputs": [],
   "source": [
    "from weave_example_demo.llm_types.prompts import PromptTemplate\n",
    "from weave_example_demo.llm_types.models.generic_model import GenericLLMModel\n"
   ]
  },
  {
   "cell_type": "code",
   "execution_count": 2,
   "metadata": {},
   "outputs": [],
   "source": [
    "import weave"
   ]
  },
  {
   "cell_type": "code",
   "execution_count": 3,
   "metadata": {},
   "outputs": [
    {
     "name": "stdout",
     "output_type": "stream",
     "text": [
      "Logged in as Weights & Biases user: a-sh0ts.\n",
      "View Weave data at https://wandb.ai/a-sh0ts/bioasq-rag-data/weave\n"
     ]
    },
    {
     "data": {
      "text/plain": []
     },
     "execution_count": 3,
     "metadata": {},
     "output_type": "execute_result"
    }
   ],
   "source": [
    "weave.init('bioasq-rag-data')"
   ]
  },
  {
   "cell_type": "code",
   "execution_count": 4,
   "metadata": {},
   "outputs": [],
   "source": [
    "question = \"Is Hirschsprung disease a mendelian or a multifactorial disorder?\""
   ]
  },
  {
   "cell_type": "code",
   "execution_count": 5,
   "metadata": {},
   "outputs": [],
   "source": [
    "question_2_query_system_prompt = \"\"\"\n",
    "### Instruction ###\n",
    "You are an expert biomedical researcher tasked with converting biomedical questions into optimized semantic search queries. Your goal is to generate queries that will retrieve the most relevant documents from the BioASQ dataset to answer the given question.\n",
    "\n",
    "### Process ###\n",
    "Follow these steps to create the semantic search query:\n",
    "1. Carefully analyze the biomedical question to identify the most important keywords, concepts, and entities\n",
    "2. Construct a search query using those keywords, aiming to retrieve all potentially relevant documents\n",
    "3. Optimize the query by incorporating synonyms, related terms, and expanding acronyms if applicable\n",
    "4. Double check that the query captures the core intent of the question and will match pertinent documents\n",
    "5. Provide only the final semantic search query in your response, without any additional commentary\n",
    "\n",
    "### Context ###\n",
    "The BioASQ dataset consists of biomedical questions along with relevant documents. Your semantic search queries will be used to find the most relevant documents from this dataset to answer each question. The ideal answers have been removed, so your query should focus solely on the question text.\n",
    "\n",
    "### Examples ###\n",
    "Question: Is Hirschsprung disease a mendelian or a multifactorial disorder?\n",
    "Semantic Search Query: Hirschsprung disease AND (mendelian OR multifactorial OR complex) AND (inheritance OR genetics OR genes)\n",
    "\n",
    "Question: List signaling molecules (ligands) that interact with the receptor EGFR?  \n",
    "Semantic Search Query: EGFR AND (ligands OR \"signaling molecules\") AND (EGF OR BTC OR EPR OR HB-EGF OR TGF-α OR AREG OR EPG)\n",
    "\n",
    "Question: Is the protein Papilin secreted?\n",
    "Semantic Search Query: Papilin AND (secreted OR extracellular OR \"secretory pathway\")\n",
    "\n",
    "### Evaluation ###\n",
    "Your performance will be evaluated on:  \n",
    "- Inclusion of the most salient keywords, concepts and entities from the biomedical question\n",
    "- Appropriate use of synonyms and related terms to improve retrieval\n",
    "- Ability of the query to capture the full scope and intent of the question\n",
    "- Overall likelihood of the query retrieving documents that can answer the question\n",
    "- Adherence to the response format instructions\n",
    "\n",
    "You MUST provide a well-constructed query that fulfills the given criteria. You will be penalized for queries that are too narrow, off-topic, or poorly formulated.\n",
    "\"\"\""
   ]
  },
  {
   "cell_type": "code",
   "execution_count": 6,
   "metadata": {},
   "outputs": [],
   "source": [
    "question_2_query_human_prompt = \"\"\"\n",
    "### Human Prompt ###\n",
    "Biomedical Question: \"{question}\"\n",
    "\n",
    "Semantic Search Query:\n",
    "\"\"\"\n",
    "\n"
   ]
  },
  {
   "cell_type": "code",
   "execution_count": 7,
   "metadata": {},
   "outputs": [],
   "source": [
    "question_2_query_model = GenericLLMModel(\n",
    "    system_prompt=question_2_query_system_prompt,\n",
    "    human_prompt=question_2_query_human_prompt\n",
    ")\n",
    "\n"
   ]
  },
  {
   "cell_type": "code",
   "execution_count": 8,
   "metadata": {},
   "outputs": [
    {
     "name": "stdout",
     "output_type": "stream",
     "text": [
      "🍩 https://wandb.ai/a-sh0ts/bioasq-rag-data/r/call/07bc35c5-33fe-421e-a5e9-dd4247c33cde\n"
     ]
    }
   ],
   "source": [
    "transformed_query = question_2_query_model.predict(human_prompt_args={\"question\": question})['answer']\n",
    "\n"
   ]
  },
  {
   "cell_type": "code",
   "execution_count": 9,
   "metadata": {},
   "outputs": [
    {
     "data": {
      "text/plain": [
       "'Hirschsprung disease AND (mendelian OR multifactorial OR complex) AND (genetic OR inheritance)'"
      ]
     },
     "execution_count": 9,
     "metadata": {},
     "output_type": "execute_result"
    }
   ],
   "source": [
    "transformed_query"
   ]
  },
  {
   "cell_type": "code",
   "execution_count": 10,
   "metadata": {},
   "outputs": [],
   "source": [
    "vector_store = weave.ref('VectorStore:latest').get()\n",
    "embedding_model = weave.ref('SentenceTransformersModel:latest').get()"
   ]
  },
  {
   "cell_type": "code",
   "execution_count": 11,
   "metadata": {},
   "outputs": [
    {
     "name": "stderr",
     "output_type": "stream",
     "text": [
      "/Users/anishshah/Documents/GitHub/snowflake-arctic-weave-demo/.venv/lib/python3.10/site-packages/sentence_transformers/cross_encoder/CrossEncoder.py:11: TqdmWarning: IProgress not found. Please update jupyter and ipywidgets. See https://ipywidgets.readthedocs.io/en/stable/user_install.html\n",
      "  from tqdm.autonotebook import tqdm, trange\n"
     ]
    },
    {
     "name": "stdout",
     "output_type": "stream",
     "text": [
      "🍩 https://wandb.ai/a-sh0ts/bioasq-rag-data/r/call/9f6b45a1-1811-478c-a841-2d6bfafbab10\n"
     ]
    }
   ],
   "source": [
    "vector_store.set_embedding_model(embedding_model)"
   ]
  },
  {
   "cell_type": "code",
   "execution_count": 12,
   "metadata": {},
   "outputs": [
    {
     "name": "stderr",
     "output_type": "stream",
     "text": [
      "/Users/anishshah/Documents/GitHub/snowflake-arctic-weave-demo/.venv/lib/python3.10/site-packages/huggingface_hub/file_download.py:1132: FutureWarning: `resume_download` is deprecated and will be removed in version 1.0.0. Downloads always resume when possible. If you want to force a new download, use `force_download=True`.\n",
      "  warnings.warn(\n"
     ]
    },
    {
     "name": "stdout",
     "output_type": "stream",
     "text": [
      "🍩 https://wandb.ai/a-sh0ts/bioasq-rag-data/r/call/0a1ac835-d6a7-41e5-ba1d-ef598ab5f332\n"
     ]
    }
   ],
   "source": [
    "_context = vector_store.get_most_relevant_documents(query=transformed_query, n=5)"
   ]
  },
  {
   "cell_type": "code",
   "execution_count": 13,
   "metadata": {},
   "outputs": [],
   "source": [
    "article_relevance_system_prompt = \"\"\"\n",
    "### Instruction ###\n",
    "You are an expert medical researcher librarian. Your task is to determine whether articles from the BioASQ dataset may be relevant to questions from clinicians based on the articles' abstracts. You MUST provide a yes or no answer. You will be penalized for answers that are not a clear yes or no.\n",
    "\n",
    "### Process ###\n",
    "1. Carefully read the provided clinical question. \n",
    "2. Analyze the given article abstract in the context of the question.\n",
    "3. Determine if the abstract contains information potentially relevant to answering the question. \n",
    "4. Provide a definitive yes or no answer. Do not hedge or equivocate.\n",
    "\n",
    "### Evaluation ###\n",
    "Your performance will be evaluated on:\n",
    "- Ability to identify abstracts with information relevant to the clinical question\n",
    "- Providing a clear, unambiguous yes or no answer \n",
    "- Avoiding reliance on stereotypes or biases in your determination\n",
    "- Adherence to the required answer format\n",
    "\n",
    "You MUST provide a yes or no answer. Any other response will be penalized.\n",
    "\"\"\""
   ]
  },
  {
   "cell_type": "code",
   "execution_count": 14,
   "metadata": {},
   "outputs": [],
   "source": [
    "article_relevance_human_prompt = \"\"\"\n",
    "### Question ###\n",
    "Clinical question: \"{question}\"\n",
    "\n",
    "### Abstract ###\n",
    "{article_text}\n",
    "\n",
    "### Answer ###\n",
    "\"\"\""
   ]
  },
  {
   "cell_type": "code",
   "execution_count": 15,
   "metadata": {},
   "outputs": [],
   "source": [
    "article_relevance_model = GenericLLMModel(\n",
    "    system_prompt=article_relevance_system_prompt,\n",
    "    human_prompt=article_relevance_human_prompt\n",
    ")"
   ]
  },
  {
   "cell_type": "code",
   "execution_count": 16,
   "metadata": {},
   "outputs": [
    {
     "name": "stdout",
     "output_type": "stream",
     "text": [
      "🍩 https://wandb.ai/a-sh0ts/bioasq-rag-data/r/call/50213149-8d37-4885-afa4-4fee8e0318ee\n",
      "🍩 https://wandb.ai/a-sh0ts/bioasq-rag-data/r/call/1aaac9d5-26c9-415d-9564-ff8642ba7a3a\n",
      "🍩 https://wandb.ai/a-sh0ts/bioasq-rag-data/r/call/1f5bd5b6-b23c-4656-8b4d-fef861c0a630\n",
      "🍩 https://wandb.ai/a-sh0ts/bioasq-rag-data/r/call/dc8f97d1-b8ec-4939-91ee-ecb5d8e36ee9\n",
      "🍩 https://wandb.ai/a-sh0ts/bioasq-rag-data/r/call/62e15eec-69d8-4a6c-af4b-ae8838634c3f\n"
     ]
    }
   ],
   "source": [
    "for doc in _context:\n",
    "    doc[\"relevance\"] = article_relevance_model.predict(human_prompt_args={\"question\": question, \"article_text\": doc[\"document\"][\"passage\"]})['answer']"
   ]
  },
  {
   "cell_type": "code",
   "execution_count": 17,
   "metadata": {},
   "outputs": [],
   "source": [
    "relevant_context = [doc for doc in _context if doc[\"relevance\"].lower() == \"yes\"]\n"
   ]
  },
  {
   "cell_type": "code",
   "execution_count": 18,
   "metadata": {},
   "outputs": [
    {
     "data": {
      "text/plain": [
       "1"
      ]
     },
     "execution_count": 18,
     "metadata": {},
     "output_type": "execute_result"
    }
   ],
   "source": [
    "len(relevant_context)"
   ]
  },
  {
   "cell_type": "code",
   "execution_count": 19,
   "metadata": {},
   "outputs": [
    {
     "data": {
      "text/plain": [
       "{'document': TraceDict({'passage': ObjectRef(entity='a-sh0ts', project='bioasq-rag-data', name='TextCorpusFiltered', digest='77OxkEhXzsBqaN73ElmxTdZW8iWMhJAOqaG9TqmGT9E', extra=['attr', 'rows', 'id', 'SrPvc43iYzmMjVUw0jHmKvAdpOMYZtJrDJG8KOYXNDY', 'key', 'passage']), 'id': ObjectRef(entity='a-sh0ts', project='bioasq-rag-data', name='TextCorpusFiltered', digest='77OxkEhXzsBqaN73ElmxTdZW8iWMhJAOqaG9TqmGT9E', extra=['attr', 'rows', 'id', 'SrPvc43iYzmMjVUw0jHmKvAdpOMYZtJrDJG8KOYXNDY', 'key', 'id'])}),\n",
       " 'score': 0.6059975759468366,\n",
       " 'relevance': 'Yes'}"
      ]
     },
     "execution_count": 19,
     "metadata": {},
     "output_type": "execute_result"
    }
   ],
   "source": [
    "relevant_context[0]"
   ]
  },
  {
   "cell_type": "code",
   "execution_count": 20,
   "metadata": {},
   "outputs": [],
   "source": [
    "#TODO: Add reranking using BM25"
   ]
  },
  {
   "cell_type": "code",
   "execution_count": 21,
   "metadata": {},
   "outputs": [],
   "source": [
    "summarization_system_prompt = \"\"\"\n",
    "### Instruction ###\n",
    "You are an expert medical researcher tasked with summarizing relevant excerpts from biomedical literature to provide background information necessary to answer clinicians' questions. Your summary should be concise yet informative, capturing the key points from the provided context.\n",
    "\n",
    "### Process ###\n",
    "1. Carefully read the provided clinical question to understand the information needed.\n",
    "2. Analyze the given context, which includes excerpts from biomedical literature along with relevance scores.\n",
    "3. Identify the most pertinent information from the context in relation to the question.\n",
    "4. Summarize the key points from the relevant excerpts, considering their relevance scores.\n",
    "5. Synthesize the individual summaries into a coherent overview addressing the question.\n",
    "6. If the context is not sufficient to answer the question, indicate that more information is needed.\n",
    "\n",
    "### Format ###\n",
    "Question: <question>\n",
    "Summary: <summary_of_relevant_information>\n",
    "Relevant Excerpts: <excerpts_in_order_of_relevance>\n",
    "\n",
    "### Evaluation ###\n",
    "Your performance will be evaluated on:\n",
    "- Ability to identify and summarize relevant information from the provided context\n",
    "- Synthesis of individual excerpt summaries into a coherent overview\n",
    "- Consideration of excerpt relevance scores in the final summary\n",
    "- Clarity and conciseness of the summary\n",
    "- Adherence to the specified response format\n",
    "\n",
    "You MUST provide a summary that directly addresses the given question using the most relevant excerpts from the context. If the provided context is insufficient to answer the question, state \"Insufficient information to answer the question.\"\n",
    "\"\"\""
   ]
  },
  {
   "cell_type": "code",
   "execution_count": 22,
   "metadata": {},
   "outputs": [],
   "source": [
    "summarization_human_prompt = \"\"\"\n",
    "### Question ###\n",
    "{question}\n",
    "\n",
    "### Context ###\n",
    "{context_str}\n",
    "\n",
    "### Summary ###\n",
    "\"\"\""
   ]
  },
  {
   "cell_type": "code",
   "execution_count": 23,
   "metadata": {},
   "outputs": [],
   "source": [
    "summarization_model = GenericLLMModel(\n",
    "    system_prompt=summarization_system_prompt,\n",
    "    human_prompt=summarization_human_prompt\n",
    ")\n",
    "\n"
   ]
  },
  {
   "cell_type": "code",
   "execution_count": 24,
   "metadata": {},
   "outputs": [],
   "source": [
    "context_str = \"\\n\\n\".join([f\"{doc['document']['passage']} (Score: {doc['score']})\" for doc in relevant_context])"
   ]
  },
  {
   "cell_type": "code",
   "execution_count": 25,
   "metadata": {},
   "outputs": [
    {
     "data": {
      "text/plain": [
       "\"BACKGROUND/PURPOSE: Patients with zinc finger homeo box 1B (ZFHX1B) mutations or \\ndeletions develop multiple congenital anomalies including Hirschsprung disease, \\nknown as Mowat-Wilson syndrome (MWS). In this study, we investigated variations \\nin the enteric neural plexus abnormalities in MWS using morphometry-based \\nhistopathologic analysis.\\nMETHODS: Seven patients with MWS (3 with mutations in exon 8 of ZFHX1B and 4 \\nwith deletions) who had undergone modified Duhamel's operations for Hirschsprung \\ndisease were examined. Surgically resected rectosigmoid specimens were analyzed \\nmorphometrically.\\nRESULTS: The length of the aganglionic segment was longer than 3 cm in all the \\npatients with deletions. In 3 patients with mutations, the aganglionic region \\nwas not detected in the surgically resected specimens; however, the parameters \\nof the ganglions and plexus were significantly smaller than those of controls \\n(cloaca and aproctia), indicative of a transitional zone. Variation in the \\nseverity of pathological changes among the 3 patients with mutations was also \\nnoted.\\nCONCLUSIONS: The variations in myenteric plexus pathologies in MWS appear to be \\ncaused by both variations in ZFHX1B abnormalities and epigenetic factors. (Score: 0.6059975759468366)\""
      ]
     },
     "execution_count": 25,
     "metadata": {},
     "output_type": "execute_result"
    }
   ],
   "source": [
    "context_str"
   ]
  },
  {
   "cell_type": "code",
   "execution_count": 26,
   "metadata": {},
   "outputs": [
    {
     "name": "stdout",
     "output_type": "stream",
     "text": [
      "🍩 https://wandb.ai/a-sh0ts/bioasq-rag-data/r/call/94dcb374-bb90-419a-abf6-b9763ca1bc52\n"
     ]
    }
   ],
   "source": [
    "summary = summarization_model.predict(human_prompt_args={\"question\": question, \"context_str\": context_str})['answer']\n"
   ]
  },
  {
   "cell_type": "code",
   "execution_count": 27,
   "metadata": {},
   "outputs": [
    {
     "data": {
      "text/plain": [
       "'Question: Is Hirschsprung disease a mendelian or a multifactorial disorder?\\nSummary: Hirschsprung disease, particularly in the context of Mowat-Wilson syndrome (MWS) associated with ZFHX1B mutations or deletions, shows variations in enteric neural plexus abnormalities that contribute to the pathology. The study suggests that the pathologies in MWS are influenced by both ZFHX1B abnormalities and epigenetic factors.\\nRelevant Excerpts:\\n1. The variations in myenteric plexus pathologies in MWS appear to be caused by both variations in ZFHX1B abnormalities and epigenetic factors.'"
      ]
     },
     "execution_count": 27,
     "metadata": {},
     "output_type": "execute_result"
    }
   ],
   "source": [
    "summary"
   ]
  },
  {
   "cell_type": "code",
   "execution_count": 28,
   "metadata": {},
   "outputs": [],
   "source": [
    "synthesis_system_prompt = \"\"\"\n",
    "### Instruction ###\n",
    "You are an expert medical assistant. Your task is to provide accurate, concise answers to medical questions based on summaries of relevant biomedical literature. You MUST ensure responses are clear, informative, unbiased, and avoid stereotypes. Answer in a natural, human-like manner. You will be penalized for answers that are unclear, inaccurate, biased, or overly verbose.\n",
    "\n",
    "### Process ###\n",
    "1. Carefully analyze the provided question to understand the key information needed. \n",
    "2. Review the summary of relevant excerpts from biomedical literature.\n",
    "3. Identify the most pertinent information in the summary for answering the question.\n",
    "4. Synthesize the key points into a coherent, concise answer.\n",
    "5. If the summary lacks sufficient information to conclusively answer the question, state \"There is insufficient information provided to conclusively answer the question.\"\n",
    "\n",
    "### Format ###\n",
    "Question: <question>\n",
    "Answer: <final_answer_based_on_summary>\n",
    "\n",
    "### Example ###\n",
    "Question: Is Hirschsprung disease a mendelian or a multifactorial disorder?\n",
    "\n",
    "Summary: Hirschsprung disease, particularly in the context of Mowat-Wilson syndrome (MWS) associated with ZFHX1B mutations or deletions, shows variations in enteric neural plexus abnormalities. The pathologies in MWS are attributed to variations in ZFHX1B abnormalities and epigenetic factors.\n",
    "\n",
    "Relevant Excerpts: \n",
    "- Patients with ZFHX1B mutations or deletions develop multiple congenital anomalies including Hirschsprung disease, known as Mowat-Wilson syndrome (MWS). (Score: 0.6024968654169915)\n",
    "\n",
    "Answer: Based on the summary, Hirschsprung disease in Mowat-Wilson syndrome appears to have both genetic and multifactorial components. Variations in ZFHX1B abnormalities suggest a genetic basis, while the role of epigenetic factors points to a multifactorial etiology. However, the provided information is limited in conclusively determining if Hirschsprung disease more broadly is purely Mendelian or multifactorial.\n",
    "\n",
    "### Evaluation ###\n",
    "Your performance will be evaluated on:\n",
    "- Accuracy and relevance of the answer based on the provided summary\n",
    "- Clarity and conciseness of the response \n",
    "- Ability to identify when the summary is insufficient to conclusively answer the question\n",
    "- Avoidance of bias and stereotyping\n",
    "- Adherence to the specified format\n",
    "\n",
    "You MUST provide an answer that directly addresses the question using only the information in the summary. If the summary is insufficient, state that conclusively answering is not possible. Produce the answer in a clear, natural style.\n",
    "\"\"\""
   ]
  },
  {
   "cell_type": "code",
   "execution_count": 29,
   "metadata": {},
   "outputs": [],
   "source": [
    "synthesis_human_prompt = \"\"\"\n",
    "### Question ###\n",
    "{question}\n",
    "\n",
    "### Summary ###\n",
    "{summary}\n",
    "\n",
    "### Answer ###\n",
    "\"\"\""
   ]
  },
  {
   "cell_type": "code",
   "execution_count": 30,
   "metadata": {},
   "outputs": [],
   "source": [
    "synthesis_model = GenericLLMModel(\n",
    "    system_prompt=synthesis_system_prompt,\n",
    "    human_prompt=synthesis_human_prompt\n",
    ")"
   ]
  },
  {
   "cell_type": "code",
   "execution_count": 31,
   "metadata": {},
   "outputs": [
    {
     "name": "stdout",
     "output_type": "stream",
     "text": [
      "🍩 https://wandb.ai/a-sh0ts/bioasq-rag-data/r/call/6d9b0a88-4eed-4394-b72f-7ea8ba6ad1ff\n"
     ]
    },
    {
     "data": {
      "text/plain": [
       "'Based on the provided summary, Hirschsprung disease, especially in the context of Mowat-Wilson syndrome, seems to have contributions from both genetic factors like ZFHX1B abnormalities and epigenetic factors. This suggests that the development of Hirschsprung disease in this specific syndrome involves a combination of genetic and environmental influences. However, the summary does not provide enough information to definitively classify Hirschsprung disease as purely Mendelian or multifactorial.'"
      ]
     },
     "execution_count": 31,
     "metadata": {},
     "output_type": "execute_result"
    }
   ],
   "source": [
    "synthesis_model.predict(human_prompt_args={\"question\": question, \"summary\": summary})['answer']"
   ]
  },
  {
   "cell_type": "code",
   "execution_count": 32,
   "metadata": {},
   "outputs": [],
   "source": [
    "from weave_example_demo.llm_types.rag.rag import RAGModel"
   ]
  },
  {
   "cell_type": "code",
   "execution_count": 33,
   "metadata": {},
   "outputs": [],
   "source": [
    "class BioASQAdvancedRAGModel(RAGModel):\n",
    "    def __init__(self, *args, **kwargs):\n",
    "        super().__init__(*args, **kwargs)\n",
    "    \n",
    "    @weave.op()\n",
    "    def score_context(self, _context) -> str:\n",
    "        for doc in _context:\n",
    "            doc[\"relevance\"] = article_relevance_model.predict(human_prompt_args={\"question\": question, \"article_text\": doc[\"document\"][\"passage\"]})['answer']\n",
    "        \n",
    "\n",
    "    @weave.op()\n",
    "    def predict(self, question: str, n_documents: int = 5) -> str:\n",
    "        self.set_vector_store(self.vector_store)\n",
    "        transformed_query = question_2_query_model.predict(human_prompt_args={\"question\": question})['answer']\n",
    "        _context = self.vector_store.get_most_relevant_documents(query=transformed_query, n=n_documents)\n",
    "        self.score_context(_context)\n",
    "        relevant_context = [doc for doc in _context if doc[\"relevance\"].lower() == \"yes\"]\n",
    "        # If no relevant context, use the most relevant document\n",
    "        # this is probably not the best but good for demonstrative\n",
    "        # purposes\n",
    "        if len(relevant_context) == 0:\n",
    "            relevant_context = [_context[0]]\n",
    "        context_str = \"\\n\\n\".join([f\"{doc['document']['passage']} (Score: {doc['score']})\" for doc in relevant_context])\n",
    "        summary = summarization_model.predict(human_prompt_args={\"question\": question, \"context_str\": context_str})['answer']\n",
    "        answer = synthesis_model.predict(human_prompt_args={\"question\": question, \"summary\": summary})['answer']\n",
    "        return {\"answer\": answer, \"context\": [doc[\"document\"][\"passage\"] for doc in relevant_context], \"all_context\": _context}"
   ]
  },
  {
   "cell_type": "code",
   "execution_count": 34,
   "metadata": {},
   "outputs": [
    {
     "name": "stdout",
     "output_type": "stream",
     "text": [
      "🍩 https://wandb.ai/a-sh0ts/bioasq-rag-data/r/call/e60b060a-6429-4ab8-9b05-c16158e3d80f\n"
     ]
    }
   ],
   "source": [
    "rag_model = BioASQAdvancedRAGModel(vector_store=vector_store)\n"
   ]
  },
  {
   "cell_type": "code",
   "execution_count": 35,
   "metadata": {},
   "outputs": [
    {
     "name": "stderr",
     "output_type": "stream",
     "text": [
      "/Users/anishshah/Documents/GitHub/snowflake-arctic-weave-demo/.venv/lib/python3.10/site-packages/huggingface_hub/file_download.py:1132: FutureWarning: `resume_download` is deprecated and will be removed in version 1.0.0. Downloads always resume when possible. If you want to force a new download, use `force_download=True`.\n",
      "  warnings.warn(\n"
     ]
    },
    {
     "name": "stdout",
     "output_type": "stream",
     "text": [
      "🍩 https://wandb.ai/a-sh0ts/bioasq-rag-data/r/call/95fa9630-1f37-4de9-8d11-d974a841b08e\n"
     ]
    },
    {
     "data": {
      "text/plain": [
       "{'answer': 'Based on the summary provided, Hirschsprung disease, especially in the context of Mowat-Wilson syndrome (MWS) associated with ZFHX1B mutations or deletions, appears to have a multifactorial etiology. The variations in enteric neural plexus abnormalities in MWS are influenced by both ZFHX1B abnormalities and epigenetic factors. Therefore, Hirschsprung disease is likely a disorder with both genetic and environmental factors contributing to its development.',\n",
       " 'context': [\"BACKGROUND/PURPOSE: Patients with zinc finger homeo box 1B (ZFHX1B) mutations or \\ndeletions develop multiple congenital anomalies including Hirschsprung disease, \\nknown as Mowat-Wilson syndrome (MWS). In this study, we investigated variations \\nin the enteric neural plexus abnormalities in MWS using morphometry-based \\nhistopathologic analysis.\\nMETHODS: Seven patients with MWS (3 with mutations in exon 8 of ZFHX1B and 4 \\nwith deletions) who had undergone modified Duhamel's operations for Hirschsprung \\ndisease were examined. Surgically resected rectosigmoid specimens were analyzed \\nmorphometrically.\\nRESULTS: The length of the aganglionic segment was longer than 3 cm in all the \\npatients with deletions. In 3 patients with mutations, the aganglionic region \\nwas not detected in the surgically resected specimens; however, the parameters \\nof the ganglions and plexus were significantly smaller than those of controls \\n(cloaca and aproctia), indicative of a transitional zone. Variation in the \\nseverity of pathological changes among the 3 patients with mutations was also \\nnoted.\\nCONCLUSIONS: The variations in myenteric plexus pathologies in MWS appear to be \\ncaused by both variations in ZFHX1B abnormalities and epigenetic factors.\"],\n",
       " 'all_context': [{'document': TraceDict({'passage': ObjectRef(entity='a-sh0ts', project='bioasq-rag-data', name='TextCorpusFiltered', digest='77OxkEhXzsBqaN73ElmxTdZW8iWMhJAOqaG9TqmGT9E', extra=['attr', 'rows', 'id', 'SrPvc43iYzmMjVUw0jHmKvAdpOMYZtJrDJG8KOYXNDY', 'key', 'passage']), 'id': ObjectRef(entity='a-sh0ts', project='bioasq-rag-data', name='TextCorpusFiltered', digest='77OxkEhXzsBqaN73ElmxTdZW8iWMhJAOqaG9TqmGT9E', extra=['attr', 'rows', 'id', 'SrPvc43iYzmMjVUw0jHmKvAdpOMYZtJrDJG8KOYXNDY', 'key', 'id'])}),\n",
       "   'score': 0.5827080634416271,\n",
       "   'relevance': 'Yes'},\n",
       "  {'document': TraceDict({'passage': ObjectRef(entity='a-sh0ts', project='bioasq-rag-data', name='TextCorpusFiltered', digest='77OxkEhXzsBqaN73ElmxTdZW8iWMhJAOqaG9TqmGT9E', extra=['attr', 'rows', 'id', 'fisMivBDaEFnDBlWysE4R0zkbLdTd8UxURRMFwsUXXk', 'key', 'passage']), 'id': ObjectRef(entity='a-sh0ts', project='bioasq-rag-data', name='TextCorpusFiltered', digest='77OxkEhXzsBqaN73ElmxTdZW8iWMhJAOqaG9TqmGT9E', extra=['attr', 'rows', 'id', 'fisMivBDaEFnDBlWysE4R0zkbLdTd8UxURRMFwsUXXk', 'key', 'id'])}),\n",
       "   'score': 0.4485603371265023,\n",
       "   'relevance': 'No'},\n",
       "  {'document': TraceDict({'passage': ObjectRef(entity='a-sh0ts', project='bioasq-rag-data', name='TextCorpusFiltered', digest='77OxkEhXzsBqaN73ElmxTdZW8iWMhJAOqaG9TqmGT9E', extra=['attr', 'rows', 'id', 'ViqfZkX8ATxvzuZ9O4pRLCFbXGkAd8rmVCX8BsEG9pg', 'key', 'passage']), 'id': ObjectRef(entity='a-sh0ts', project='bioasq-rag-data', name='TextCorpusFiltered', digest='77OxkEhXzsBqaN73ElmxTdZW8iWMhJAOqaG9TqmGT9E', extra=['attr', 'rows', 'id', 'ViqfZkX8ATxvzuZ9O4pRLCFbXGkAd8rmVCX8BsEG9pg', 'key', 'id'])}),\n",
       "   'score': 0.4172377566388011,\n",
       "   'relevance': 'No'},\n",
       "  {'document': TraceDict({'passage': ObjectRef(entity='a-sh0ts', project='bioasq-rag-data', name='TextCorpusFiltered', digest='77OxkEhXzsBqaN73ElmxTdZW8iWMhJAOqaG9TqmGT9E', extra=['attr', 'rows', 'id', 'g3Y7LCXBysYPN5pYBrphPmE2pYAU1hVXX2K8735gjpc', 'key', 'passage']), 'id': ObjectRef(entity='a-sh0ts', project='bioasq-rag-data', name='TextCorpusFiltered', digest='77OxkEhXzsBqaN73ElmxTdZW8iWMhJAOqaG9TqmGT9E', extra=['attr', 'rows', 'id', 'g3Y7LCXBysYPN5pYBrphPmE2pYAU1hVXX2K8735gjpc', 'key', 'id'])}),\n",
       "   'score': 0.34183459336776467,\n",
       "   'relevance': 'No'},\n",
       "  {'document': TraceDict({'passage': ObjectRef(entity='a-sh0ts', project='bioasq-rag-data', name='TextCorpusFiltered', digest='77OxkEhXzsBqaN73ElmxTdZW8iWMhJAOqaG9TqmGT9E', extra=['attr', 'rows', 'id', 'YkIpHSNjahYoDdpvQZznT0oAky0MQJUiGmRp4NA8s38', 'key', 'passage']), 'id': ObjectRef(entity='a-sh0ts', project='bioasq-rag-data', name='TextCorpusFiltered', digest='77OxkEhXzsBqaN73ElmxTdZW8iWMhJAOqaG9TqmGT9E', extra=['attr', 'rows', 'id', 'YkIpHSNjahYoDdpvQZznT0oAky0MQJUiGmRp4NA8s38', 'key', 'id'])}),\n",
       "   'score': 0.33006346213770676,\n",
       "   'relevance': 'No'}]}"
      ]
     },
     "execution_count": 35,
     "metadata": {},
     "output_type": "execute_result"
    }
   ],
   "source": [
    "rag_model.predict(question=question, n_documents=5)\n",
    "\n"
   ]
  },
  {
   "cell_type": "code",
   "execution_count": 36,
   "metadata": {},
   "outputs": [],
   "source": [
    "qap = weave.ref('QuestionAnswerPairsTrainFiltered:latest').get()"
   ]
  },
  {
   "cell_type": "code",
   "execution_count": 37,
   "metadata": {},
   "outputs": [],
   "source": [
    "from weave_example_demo.scorers.llm_guard_scorer import LLMGuardScorer\n",
    "from weave_example_demo.scorers.tonic_validate_scorer import TonicValidateScorer"
   ]
  },
  {
   "cell_type": "code",
   "execution_count": 38,
   "metadata": {},
   "outputs": [
    {
     "name": "stderr",
     "output_type": "stream",
     "text": [
      "huggingface/tokenizers: The current process just got forked, after parallelism has already been used. Disabling parallelism to avoid deadlocks...\n",
      "To disable this warning, you can either:\n",
      "\t- Avoid using `tokenizers` before the fork if possible\n",
      "\t- Explicitly set the environment variable TOKENIZERS_PARALLELISM=(true | false)\n"
     ]
    }
   ],
   "source": [
    "scorers = [\n",
    "    TonicValidateScorer(\n",
    "        metrics=[\n",
    "            \"AnswerSimilarityMetric\",\n",
    "            \"AugmentationPrecisionMetric\",\n",
    "            \"AnswerConsistencyMetric\",\n",
    "        ]\n",
    "    ),\n",
    "    LLMGuardScorer(\n",
    "        metrics=[\"NoRefusal\", \"Relevance\", \"Sensitive\"]),\n",
    "]\n"
   ]
  },
  {
   "cell_type": "code",
   "execution_count": 39,
   "metadata": {},
   "outputs": [],
   "source": [
    "sub_qap = qap.rows[:10]"
   ]
  },
  {
   "cell_type": "code",
   "execution_count": 40,
   "metadata": {},
   "outputs": [
    {
     "data": {
      "text/plain": [
       "[TraceDict({'question': 'What are the side effects during statins administration in patients with atherosclerosis?', 'ground_truth': 'The side effects during statins administration in patients with atherosclerosis are:\\n1) Myopathy\\n2) Transaminase elevations\\n3) Diabetes mellitus \\n4) Renal and neurologic adverse effects.', 'relevant_passage_ids': [12891851], 'id': 1938}),\n",
       " TraceDict({'question': 'Which are the predominant rotavirus genotypes around the world?', 'ground_truth': 'The predominant RV genotypes circulating all over the world are G1P[8], G2P[4], G3P[8], G4P[8], and G9P[8], while G12[P6] and G12[P8] are emerging genotypes.', 'relevant_passage_ids': [30156344], 'id': 3750}),\n",
       " TraceDict({'question': 'Describe Achenbach’s syndrome.', 'ground_truth': 'Achenbach’s syndrome is Paroxysmal finger haematoma. It is benign condition resulting in the sudden appearance of bruising on one or more fingers, either spontaneously or after minimal trauma, and resolving without treatment.It can be differentiated from other pathologies by clinical spectrum, patient demographics and in doubtful circumstances (acute limb ischemia) by Doppler sonography.', 'relevant_passage_ids': [24021741], 'id': 2560}),\n",
       " TraceDict({'question': 'Please list the 3 findings in HELLP syndrome.', 'ground_truth': 'hemolysis, elevated liver enzymes and low platelets constitute the hellp syndrome.', 'relevant_passage_ids': [11720149], 'id': 1885}),\n",
       " TraceDict({'question': 'What condition is usually represented by the acronym SUDEP?', 'ground_truth': 'The acronym SUDEP refers to  Sudden Unexpected Death in Epilepsy', 'relevant_passage_ids': [26924854], 'id': 2123}),\n",
       " TraceDict({'question': 'Is adalimumab effective for hidradenitis suppurativa?', 'ground_truth': 'Yes, Adalimumab, a recombinant, fully humanized, anti-tumor necrosis factor alpha (anti-TNF-α) monoclonal antibody, is the only officially approved treatment for the management of moderate-to-severe hidradenitis suppurativa.', 'relevant_passage_ids': [20628295], 'id': 1865}),\n",
       " TraceDict({'question': 'Are the Fanconi anemia genes a part of the same signalling pathway?', 'ground_truth': 'The FA genes code for proteins that act in complexes to coordinate the repair of damaged DNA  ', 'relevant_passage_ids': [15611632], 'id': 992}),\n",
       " TraceDict({'question': 'Which drugs were tested in the CheckMate 227 clinical trial?', 'ground_truth': 'CheckMate-227 clinical trial tested ipilimumab plus nivolumab for the treatment of non-small cell lung cancer.', 'relevant_passage_ids': [29658845], 'id': 3525}),\n",
       " TraceDict({'question': 'Is avanafil indicated for treatment of erectile dysfunction?', 'ground_truth': 'Yes, avanafil is indicated for treatment of erectile dysfunction.', 'relevant_passage_ids': [24701971], 'id': 1913}),\n",
       " TraceDict({'question': 'In which kingdom do microsporidia belong, according to their current classification scheme?', 'ground_truth': 'Traditionally, microsporidia were considered as protozoans, but recently they have been reclassified as the earliest-diverging clade of sequenced fungi. Microsporidia are a diverse group of obligate, intracellular, eukaryotic, spore-forming parasites; they are ubiquitous fungi, with genomes that have undergone a strong reduction.', 'relevant_passage_ids': [23917025], 'id': 759})]"
      ]
     },
     "execution_count": 40,
     "metadata": {},
     "output_type": "execute_result"
    }
   ],
   "source": [
    "sub_qap"
   ]
  },
  {
   "cell_type": "code",
   "execution_count": 41,
   "metadata": {},
   "outputs": [
    {
     "name": "stderr",
     "output_type": "stream",
     "text": [
      "Retrieving responses: 100%|██████████| 1/1 [00:00<00:00, 16980.99it/s]\n",
      "Retrieving responses: 100%|██████████| 1/1 [00:00<00:00, 18477.11it/s]\n",
      "\u001b[92m23:40:46 - LiteLLM:INFO\u001b[0m: utils.py:3341 - Wrapper: Completed Call, calling success_handler\n",
      "\u001b[92m23:40:46 - LiteLLM:INFO\u001b[0m: utils.py:3341 - Wrapper: Completed Call, calling success_handler\n",
      "\u001b[92m23:40:46 - LiteLLM:INFO\u001b[0m: utils.py:1298 - \u001b[92m\n",
      "\n",
      "POST Request Sent from LiteLLM:\n",
      "curl -X POST \\\n",
      "https://api.openai.com/v1/ \\\n",
      "-d '{'model': 'gpt-3.5-turbo', 'messages': [{'role': 'system', 'content': '\\n### Instruction ###\\nYou are an expert medical assistant. Your task is to provide accurate, concise answers to medical questions based on summaries of relevant biomedical literature. You MUST ensure responses are clear, informative, unbiased, and avoid stereotypes. Answer in a natural, human-like manner. You will be penalized for answers that are unclear, inaccurate, biased, or overly verbose.\\n\\n### Process ###\\n1. Carefully analyze the provided question to understand the key information needed. \\n2. Review the summary of relevant excerpts from biomedical literature.\\n3. Identify the most pertinent information in the summary for answering the question.\\n4. Synthesize the key points into a coherent, concise answer.\\n5. If the summary lacks sufficient information to conclusively answer the question, state \"There is insufficient information provided to conclusively answer the question.\"\\n\\n### Format ###\\nQuestion: <question>\\nAnswer: <final_answer_based_on_summary>\\n\\n### Example ###\\nQuestion: Is Hirschsprung disease a mendelian or a multifactorial disorder?\\n\\nSummary: Hirschsprung disease, particularly in the context of Mowat-Wilson syndrome (MWS) associated with ZFHX1B mutations or deletions, shows variations in enteric neural plexus abnormalities. The pathologies in MWS are attributed to variations in ZFHX1B abnormalities and epigenetic factors.\\n\\nRelevant Excerpts: \\n- Patients with ZFHX1B mutations or deletions develop multiple congenital anomalies including Hirschsprung disease, known as Mowat-Wilson syndrome (MWS). (Score: 0.6024968654169915)\\n\\nAnswer: Based on the summary, Hirschsprung disease in Mowat-Wilson syndrome appears to have both genetic and multifactorial components. Variations in ZFHX1B abnormalities suggest a genetic basis, while the role of epigenetic factors points to a multifactorial etiology. However, the provided information is limited in conclusively determining if Hirschsprung disease more broadly is purely Mendelian or multifactorial.\\n\\n### Evaluation ###\\nYour performance will be evaluated on:\\n- Accuracy and relevance of the answer based on the provided summary\\n- Clarity and conciseness of the response \\n- Ability to identify when the summary is insufficient to conclusively answer the question\\n- Avoidance of bias and stereotyping\\n- Adherence to the specified format\\n\\nYou MUST provide an answer that directly addresses the question using only the information in the summary. If the summary is insufficient, state that conclusively answering is not possible. Produce the answer in a clear, natural style.\\n'}, {'role': 'user', 'content': '\\n### Question ###\\nDescribe Achenbach’s syndrome.\\n\\n### Summary ###\\n\\nQuestion: Describe Achenbach’s syndrome.\\nSummary: The provided context describes a case of Horner syndrome in a Japanese infant, characterized by ocular ptosis, unequal pupils, hemifacial flushing, and loss of sweating (harlequin sign). The clinical examination suggested a pre-ganglionic lesion as the cause. Achenbach’s syndrome is not directly addressed in the given context.\\nRelevant Excerpts: Insufficient information to answer the question.\\n\\n### Answer ###\\n'}], 'temperature': 0.0, 'extra_body': {}}'\n",
      "\u001b[0m\n",
      "\n",
      "\u001b[92m23:40:46 - LiteLLM:INFO\u001b[0m: utils.py:1298 - \u001b[92m\n",
      "\n",
      "POST Request Sent from LiteLLM:\n",
      "curl -X POST \\\n",
      "https://api.openai.com/v1/ \\\n",
      "-d '{'model': 'gpt-3.5-turbo', 'messages': [{'role': 'system', 'content': '\\n### Instruction ###\\nYou are an expert medical assistant. Your task is to provide accurate, concise answers to medical questions based on summaries of relevant biomedical literature. You MUST ensure responses are clear, informative, unbiased, and avoid stereotypes. Answer in a natural, human-like manner. You will be penalized for answers that are unclear, inaccurate, biased, or overly verbose.\\n\\n### Process ###\\n1. Carefully analyze the provided question to understand the key information needed. \\n2. Review the summary of relevant excerpts from biomedical literature.\\n3. Identify the most pertinent information in the summary for answering the question.\\n4. Synthesize the key points into a coherent, concise answer.\\n5. If the summary lacks sufficient information to conclusively answer the question, state \"There is insufficient information provided to conclusively answer the question.\"\\n\\n### Format ###\\nQuestion: <question>\\nAnswer: <final_answer_based_on_summary>\\n\\n### Example ###\\nQuestion: Is Hirschsprung disease a mendelian or a multifactorial disorder?\\n\\nSummary: Hirschsprung disease, particularly in the context of Mowat-Wilson syndrome (MWS) associated with ZFHX1B mutations or deletions, shows variations in enteric neural plexus abnormalities. The pathologies in MWS are attributed to variations in ZFHX1B abnormalities and epigenetic factors.\\n\\nRelevant Excerpts: \\n- Patients with ZFHX1B mutations or deletions develop multiple congenital anomalies including Hirschsprung disease, known as Mowat-Wilson syndrome (MWS). (Score: 0.6024968654169915)\\n\\nAnswer: Based on the summary, Hirschsprung disease in Mowat-Wilson syndrome appears to have both genetic and multifactorial components. Variations in ZFHX1B abnormalities suggest a genetic basis, while the role of epigenetic factors points to a multifactorial etiology. However, the provided information is limited in conclusively determining if Hirschsprung disease more broadly is purely Mendelian or multifactorial.\\n\\n### Evaluation ###\\nYour performance will be evaluated on:\\n- Accuracy and relevance of the answer based on the provided summary\\n- Clarity and conciseness of the response \\n- Ability to identify when the summary is insufficient to conclusively answer the question\\n- Avoidance of bias and stereotyping\\n- Adherence to the specified format\\n\\nYou MUST provide an answer that directly addresses the question using only the information in the summary. If the summary is insufficient, state that conclusively answering is not possible. Produce the answer in a clear, natural style.\\n'}, {'role': 'user', 'content': \"\\n### Question ###\\nWhich drugs were tested in the CheckMate 227 clinical trial?\\n\\n### Summary ###\\nSummary: Thalidomide was the drug discussed in the context, showing promise in treating various diseases, but the CheckMate 227 clinical trial was not specifically mentioned in the provided excerpts.\\n\\nRelevant Excerpts:\\n1. Thalidomide shows promise in treating several diseases, including HIV/AIDS, rheumatoid arthritis, Crohn's disease, and multiple myeloma. (Score: 0.4831210390037071)\\n\\n### Answer ###\\n\"}], 'temperature': 0.0, 'extra_body': {}}'\n",
      "\u001b[0m\n",
      "\n",
      "\u001b[92m23:40:47 - LiteLLM:INFO\u001b[0m: utils.py:3341 - Wrapper: Completed Call, calling success_handler\n",
      "\u001b[92m23:40:47 - LiteLLM:INFO\u001b[0m: utils.py:1298 - \u001b[92m\n",
      "\n",
      "POST Request Sent from LiteLLM:\n",
      "curl -X POST \\\n",
      "https://api.openai.com/v1/ \\\n",
      "-d '{'model': 'gpt-3.5-turbo', 'messages': [{'role': 'system', 'content': '\\n### Instruction ###\\nYou are an expert medical assistant. Your task is to provide accurate, concise answers to medical questions based on summaries of relevant biomedical literature. You MUST ensure responses are clear, informative, unbiased, and avoid stereotypes. Answer in a natural, human-like manner. You will be penalized for answers that are unclear, inaccurate, biased, or overly verbose.\\n\\n### Process ###\\n1. Carefully analyze the provided question to understand the key information needed. \\n2. Review the summary of relevant excerpts from biomedical literature.\\n3. Identify the most pertinent information in the summary for answering the question.\\n4. Synthesize the key points into a coherent, concise answer.\\n5. If the summary lacks sufficient information to conclusively answer the question, state \"There is insufficient information provided to conclusively answer the question.\"\\n\\n### Format ###\\nQuestion: <question>\\nAnswer: <final_answer_based_on_summary>\\n\\n### Example ###\\nQuestion: Is Hirschsprung disease a mendelian or a multifactorial disorder?\\n\\nSummary: Hirschsprung disease, particularly in the context of Mowat-Wilson syndrome (MWS) associated with ZFHX1B mutations or deletions, shows variations in enteric neural plexus abnormalities. The pathologies in MWS are attributed to variations in ZFHX1B abnormalities and epigenetic factors.\\n\\nRelevant Excerpts: \\n- Patients with ZFHX1B mutations or deletions develop multiple congenital anomalies including Hirschsprung disease, known as Mowat-Wilson syndrome (MWS). (Score: 0.6024968654169915)\\n\\nAnswer: Based on the summary, Hirschsprung disease in Mowat-Wilson syndrome appears to have both genetic and multifactorial components. Variations in ZFHX1B abnormalities suggest a genetic basis, while the role of epigenetic factors points to a multifactorial etiology. However, the provided information is limited in conclusively determining if Hirschsprung disease more broadly is purely Mendelian or multifactorial.\\n\\n### Evaluation ###\\nYour performance will be evaluated on:\\n- Accuracy and relevance of the answer based on the provided summary\\n- Clarity and conciseness of the response \\n- Ability to identify when the summary is insufficient to conclusively answer the question\\n- Avoidance of bias and stereotyping\\n- Adherence to the specified format\\n\\nYou MUST provide an answer that directly addresses the question using only the information in the summary. If the summary is insufficient, state that conclusively answering is not possible. Produce the answer in a clear, natural style.\\n'}, {'role': 'user', 'content': '\\n### Question ###\\nWhat are the side effects during statins administration in patients with atherosclerosis?\\n\\n### Summary ###\\nQuestion: What are the side effects during statins administration in patients with atherosclerosis?\\nSummary: Statins are generally safe but can lead to severe side effects like myopathy and rhabdomyolysis, especially in older patients with impaired renal function or on multiple medications. Combination with fibrates may be necessary for hyperlipidemia but requires close monitoring. Dietary counseling is recommended to enhance statin effectiveness.\\nRelevant Excerpts: \\n- Advanced age, impairment of renal function or polypharmacotherapy increase the incidence of severe side-effects, especially myopathy and rhabdomyolysis. (Score: 0.7556629119519036)\\n\\n### Answer ###\\n'}], 'temperature': 0.0, 'extra_body': {}}'\n",
      "\u001b[0m\n",
      "\n",
      "\n",
      "Retrieving responses: 100%|██████████| 1/1 [00:00<00:00, 18558.87it/s]\n",
      "\n",
      "\u001b[A\u001b[92m23:40:47 - LiteLLM:INFO\u001b[0m: utils.py:3341 - Wrapper: Completed Call, calling success_handler\n",
      "\u001b[92m23:40:47 - LiteLLM:INFO\u001b[0m: utils.py:3341 - Wrapper: Completed Call, calling success_handler\n",
      "\n",
      "\n",
      "Retrieving responses: 100%|██████████| 1/1 [00:00<00:00, 18477.11it/s]\n",
      "\n",
      "\n",
      "\u001b[A\u001b[A\u001b[92m23:40:48 - LiteLLM:INFO\u001b[0m: utils.py:3341 - Wrapper: Completed Call, calling success_handler\n",
      "\u001b[92m23:40:48 - LiteLLM:INFO\u001b[0m: utils.py:3341 - Wrapper: Completed Call, calling success_handler\n",
      "\n",
      "\n",
      "\n",
      "Retrieving responses: 100%|██████████| 1/1 [00:00<00:00, 16644.06it/s]\n",
      "\n",
      "\n",
      "\n",
      "\u001b[A\u001b[A\u001b[A\n",
      "\n",
      "\n",
      "\n",
      "Retrieving responses: 100%|██████████| 1/1 [00:00<00:00, 16131.94it/s]\n",
      "\n",
      "\n",
      "\n",
      "\n",
      "\u001b[A\u001b[A\u001b[A\u001b[A\u001b[92m23:40:49 - LiteLLM:INFO\u001b[0m: utils.py:3341 - Wrapper: Completed Call, calling success_handler\n",
      "\n",
      "\n",
      "\n",
      "\n",
      "\n",
      "Retrieving responses: 100%|██████████| 1/1 [00:00<00:00, 22671.91it/s]\n",
      "\n",
      "\n",
      "\n",
      "\n",
      "\n",
      "\u001b[A\u001b[A\u001b[A\u001b[A\u001b[A\n",
      "\n",
      "\n",
      "\n",
      "\n",
      "\n",
      "Retrieving responses: 100%|██████████| 1/1 [00:00<00:00, 19508.39it/s]\n",
      "\n",
      "\n",
      "\n",
      "\n",
      "\n",
      "\n",
      "\u001b[A\u001b[A\u001b[A\u001b[A\u001b[A\u001b[A\u001b[92m23:40:50 - LiteLLM:INFO\u001b[0m: utils.py:1298 - \u001b[92m\n",
      "\n",
      "POST Request Sent from LiteLLM:\n",
      "curl -X POST \\\n",
      "https://api.openai.com/v1/ \\\n",
      "-d '{'model': 'gpt-3.5-turbo', 'messages': [{'role': 'system', 'content': '\\n### Instruction ###\\nYou are an expert medical researcher tasked with summarizing relevant excerpts from biomedical literature to provide background information necessary to answer clinicians\\' questions. Your summary should be concise yet informative, capturing the key points from the provided context.\\n\\n### Process ###\\n1. Carefully read the provided clinical question to understand the information needed.\\n2. Analyze the given context, which includes excerpts from biomedical literature along with relevance scores.\\n3. Identify the most pertinent information from the context in relation to the question.\\n4. Summarize the key points from the relevant excerpts, considering their relevance scores.\\n5. Synthesize the individual summaries into a coherent overview addressing the question.\\n6. If the context is not sufficient to answer the question, indicate that more information is needed.\\n\\n### Format ###\\nQuestion: <question>\\nSummary: <summary_of_relevant_information>\\nRelevant Excerpts: <excerpts_in_order_of_relevance>\\n\\n### Evaluation ###\\nYour performance will be evaluated on:\\n- Ability to identify and summarize relevant information from the provided context\\n- Synthesis of individual excerpt summaries into a coherent overview\\n- Consideration of excerpt relevance scores in the final summary\\n- Clarity and conciseness of the summary\\n- Adherence to the specified response format\\n\\nYou MUST provide a summary that directly addresses the given question using the most relevant excerpts from the context. If the provided context is insufficient to answer the question, state \"Insufficient information to answer the question.\"\\n'}, {'role': 'user', 'content': \"\\n### Question ###\\nIs adalimumab effective for hidradenitis suppurativa?\\n\\n### Context ###\\nBACKGROUND: Erythrasma is a superficial cutaneous infection caused by \\nCorynebacterium minutissimum and is characterized by fluorescence under Wood's \\nlight (UV) because of the presence of porphyrins. These molecules are \\nphotosensitizing and we propose to assess efficacy of red light that activates \\nporphyrins (photodynamic reaction) in treatment of this pathology.\\nOBJECTIVES: Assessment of effects of photodynamic action of red light for \\ntreatment of erythrasma without exogenous photosensitizing molecules.\\nMETHODS: Thirteen patients with erythrasma were treated by one illumination (80 \\nJ/cm2) by red light (broad band, peak at 635 nm) without exogenous \\nphotosensitizing molecules. Disappearance or reduction of extent of lesions were \\nobserved 2 weeks later. If lesions were still present, a second irradiation was \\nconducted with the same method.\\nRESULTS: Preliminary results are presented. As a result of red light \\nirradiation, we noticed a complete recovery for three patients and, in most \\nother cases, reduction of extent of lesions (mean: -29% after one session). The \\ntreatment was well tolerated.\\nCONCLUSION: We report first cases of photodynamic treatment of erythrasma. There \\nare other reports of clinical applications of antimicrobial action of \\nphotodynamic therapy in dermatology (acne vulgaris, leishmaniasis, warts, etc.). \\nBut there are few applications without addition of exogenous photosensitizing \\nagent. The originality and interest of our study is to use spontaneous presence \\nof porphyrins in the lesions. This technique seems to be an interesting \\nalternative, inexpensive and easy, for the treatment of this localized \\ninfection. But an optimal method is still to be determined to improve efficacy. (Score: 0.3456783841108929)\\n\\n### Summary ###\\n\"}], 'temperature': 0.0, 'extra_body': {}}'\n",
      "\u001b[0m\n",
      "\n",
      "Scoring responses: 100%|██████████| 1/1 [00:04<00:00,  4.05s/it]\n"
     ]
    },
    {
     "name": "stdout",
     "output_type": "stream",
     "text": [
      "\u001b[2m2024-06-10 23:40:51\u001b[0m [\u001b[32m\u001b[1mdebug    \u001b[0m] \u001b[1mInitialized classification model\u001b[0m \u001b[36mdevice\u001b[0m=\u001b[35mdevice(type='mps')\u001b[0m \u001b[36mmodel\u001b[0m=\u001b[35mModel(path='ProtectAI/distilroberta-base-rejection-v1', subfolder='', revision='65584967c3f22ff7723e5370c65e0e76791e6055', onnx_path='ProtectAI/distilroberta-base-rejection-v1', onnx_revision='65584967c3f22ff7723e5370c65e0e76791e6055', onnx_subfolder='onnx', onnx_filename='model.onnx', kwargs={}, pipeline_kwargs={'batch_size': 1, 'device': device(type='mps'), 'return_token_type_ids': False, 'max_length': 128, 'truncation': True}, tokenizer_kwargs={})\u001b[0m\n"
     ]
    },
    {
     "name": "stderr",
     "output_type": "stream",
     "text": [
      "\u001b[92m23:40:52 - LiteLLM:INFO\u001b[0m: utils.py:3341 - Wrapper: Completed Call, calling success_handler\n"
     ]
    },
    {
     "name": "stdout",
     "output_type": "stream",
     "text": [
      "\u001b[2m2024-06-10 23:40:52\u001b[0m [\u001b[32m\u001b[1mdebug    \u001b[0m] \u001b[1mInitialized model             \u001b[0m \u001b[36mdevice\u001b[0m=\u001b[35mdevice(type='mps')\u001b[0m \u001b[36mmodel\u001b[0m=\u001b[35mModel(path='BAAI/bge-base-en-v1.5', subfolder='', revision='a5beb1e3e68b9ab74eb54cfd186867f64f240e1a', onnx_path='BAAI/bge-base-en-v1.5', onnx_revision='a5beb1e3e68b9ab74eb54cfd186867f64f240e1a', onnx_subfolder='onnx', onnx_filename='model.onnx', kwargs={}, pipeline_kwargs={'batch_size': 1, 'device': device(type='mps')}, tokenizer_kwargs={})\u001b[0m\n",
      "\u001b[2m2024-06-10 23:40:52\u001b[0m [\u001b[32m\u001b[1mdebug    \u001b[0m] \u001b[1mNo entity types provided, using default\u001b[0m \u001b[36mdefault_entity_types\u001b[0m=\u001b[35m['CREDIT_CARD', 'CRYPTO', 'EMAIL_ADDRESS', 'IBAN_CODE', 'IP_ADDRESS', 'PERSON', 'PHONE_NUMBER', 'US_SSN', 'US_BANK_NUMBER', 'CREDIT_CARD_RE', 'UUID', 'EMAIL_ADDRESS_RE', 'US_SSN_RE']\u001b[0m\n"
     ]
    },
    {
     "name": "stderr",
     "output_type": "stream",
     "text": [
      "\u001b[92m23:40:53 - LiteLLM:INFO\u001b[0m: utils.py:3341 - Wrapper: Completed Call, calling success_handler\n",
      "\u001b[92m23:40:53 - LiteLLM:INFO\u001b[0m: utils.py:1298 - \u001b[92m\n",
      "\n",
      "POST Request Sent from LiteLLM:\n",
      "curl -X POST \\\n",
      "https://api.openai.com/v1/ \\\n",
      "-d '{'model': 'gpt-3.5-turbo', 'messages': [{'role': 'system', 'content': '\\n### Instruction ###\\nYou are an expert medical assistant. Your task is to provide accurate, concise answers to medical questions based on summaries of relevant biomedical literature. You MUST ensure responses are clear, informative, unbiased, and avoid stereotypes. Answer in a natural, human-like manner. You will be penalized for answers that are unclear, inaccurate, biased, or overly verbose.\\n\\n### Process ###\\n1. Carefully analyze the provided question to understand the key information needed. \\n2. Review the summary of relevant excerpts from biomedical literature.\\n3. Identify the most pertinent information in the summary for answering the question.\\n4. Synthesize the key points into a coherent, concise answer.\\n5. If the summary lacks sufficient information to conclusively answer the question, state \"There is insufficient information provided to conclusively answer the question.\"\\n\\n### Format ###\\nQuestion: <question>\\nAnswer: <final_answer_based_on_summary>\\n\\n### Example ###\\nQuestion: Is Hirschsprung disease a mendelian or a multifactorial disorder?\\n\\nSummary: Hirschsprung disease, particularly in the context of Mowat-Wilson syndrome (MWS) associated with ZFHX1B mutations or deletions, shows variations in enteric neural plexus abnormalities. The pathologies in MWS are attributed to variations in ZFHX1B abnormalities and epigenetic factors.\\n\\nRelevant Excerpts: \\n- Patients with ZFHX1B mutations or deletions develop multiple congenital anomalies including Hirschsprung disease, known as Mowat-Wilson syndrome (MWS). (Score: 0.6024968654169915)\\n\\nAnswer: Based on the summary, Hirschsprung disease in Mowat-Wilson syndrome appears to have both genetic and multifactorial components. Variations in ZFHX1B abnormalities suggest a genetic basis, while the role of epigenetic factors points to a multifactorial etiology. However, the provided information is limited in conclusively determining if Hirschsprung disease more broadly is purely Mendelian or multifactorial.\\n\\n### Evaluation ###\\nYour performance will be evaluated on:\\n- Accuracy and relevance of the answer based on the provided summary\\n- Clarity and conciseness of the response \\n- Ability to identify when the summary is insufficient to conclusively answer the question\\n- Avoidance of bias and stereotyping\\n- Adherence to the specified format\\n\\nYou MUST provide an answer that directly addresses the question using only the information in the summary. If the summary is insufficient, state that conclusively answering is not possible. Produce the answer in a clear, natural style.\\n'}, {'role': 'user', 'content': '\\n### Question ###\\nIs adalimumab effective for hidradenitis suppurativa?\\n\\n### Summary ###\\nSummary: The study assesses the efficacy of red light photodynamic therapy for treating erythrasma, a cutaneous infection. Results show promising outcomes with complete recovery in some patients and reduction of lesions in others. The treatment was well tolerated, utilizing the natural presence of porphyrins in the lesions. This technique presents a cost-effective and straightforward alternative for localized infection treatment.\\n\\nRelevant Excerpts:\\n1. Preliminary results indicate complete recovery in three patients and reduction of lesions in others after red light irradiation.\\n2. The treatment was well tolerated and utilized the spontaneous presence of porphyrins in the lesions.\\n3. The study highlights the potential of red light photodynamic therapy as an alternative, cost-effective treatment for erythrasma.\\n\\n### Answer ###\\n'}], 'temperature': 0.0, 'extra_body': {}}'\n",
      "\u001b[0m\n",
      "\n",
      "\u001b[92m23:40:53 - LiteLLM:INFO\u001b[0m: utils.py:1298 - \u001b[92m\n",
      "\n",
      "POST Request Sent from LiteLLM:\n",
      "curl -X POST \\\n",
      "https://api.openai.com/v1/ \\\n",
      "-d '{'model': 'gpt-3.5-turbo', 'messages': [{'role': 'system', 'content': \"\\n### Instruction ###\\nYou are an expert medical researcher librarian. Your task is to determine whether articles from the BioASQ dataset may be relevant to questions from clinicians based on the articles' abstracts. You MUST provide a yes or no answer. You will be penalized for answers that are not a clear yes or no.\\n\\n### Process ###\\n1. Carefully read the provided clinical question. \\n2. Analyze the given article abstract in the context of the question.\\n3. Determine if the abstract contains information potentially relevant to answering the question. \\n4. Provide a definitive yes or no answer. Do not hedge or equivocate.\\n\\n### Evaluation ###\\nYour performance will be evaluated on:\\n- Ability to identify abstracts with information relevant to the clinical question\\n- Providing a clear, unambiguous yes or no answer \\n- Avoiding reliance on stereotypes or biases in your determination\\n- Adherence to the required answer format\\n\\nYou MUST provide a yes or no answer. Any other response will be penalized.\\n\"}, {'role': 'user', 'content': '\\n### Question ###\\nClinical question: \"Is Hirschsprung disease a mendelian or a multifactorial disorder?\"\\n\\n### Abstract ###\\nThe regulation of gene expression during thymocyte development provides an ideal \\nexperimental system to study lineage-commitment processes. In particular, \\nexpression of the CD4, CD8A and CD8B genes seems to correlate well with the \\ncell-fate decisions that are taken by thymocytes, and elucidating the molecular \\nmechanisms that underlie the differential expression of these genes could reveal \\nkey events in differentiation processes. Here, we review examples of how gene \\ncis elements (such as promoters, enhancers and locus control regions) and trans \\nelements (such as transcription factors, chromatin-remodelling complexes and \\nhistone-modification enzymes) come together to orchestrate a finely tuned \\nsequence of events that results in the complex pattern of CD4, CD8A and CD8B \\ngene expression that is observed during thymocyte development.\\n\\n### Answer ###\\n'}], 'temperature': 0.0, 'extra_body': {}}'\n",
      "\u001b[0m\n",
      "\n",
      "\u001b[92m23:40:54 - LiteLLM:INFO\u001b[0m: utils.py:3341 - Wrapper: Completed Call, calling success_handler\n"
     ]
    },
    {
     "name": "stdout",
     "output_type": "stream",
     "text": [
      "\u001b[2m2024-06-10 23:40:54\u001b[0m [\u001b[32m\u001b[1mdebug    \u001b[0m] \u001b[1mInitialized NER model         \u001b[0m \u001b[36mdevice\u001b[0m=\u001b[35mdevice(type='mps')\u001b[0m \u001b[36mmodel\u001b[0m=\u001b[35mModel(path='Isotonic/deberta-v3-base_finetuned_ai4privacy_v2', subfolder='', revision='9ea992753ab2686be4a8f64605ccc7be197ad794', onnx_path='Isotonic/deberta-v3-base_finetuned_ai4privacy_v2', onnx_revision='9ea992753ab2686be4a8f64605ccc7be197ad794', onnx_subfolder='onnx', onnx_filename='model.onnx', kwargs={}, pipeline_kwargs={'batch_size': 1, 'device': device(type='mps'), 'aggregation_strategy': 'simple'}, tokenizer_kwargs={'model_input_names': ['input_ids', 'attention_mask']})\u001b[0m\n"
     ]
    },
    {
     "name": "stderr",
     "output_type": "stream",
     "text": [
      "\n",
      "Scoring responses: 100%|██████████| 1/1 [00:06<00:00,  6.78s/it]\n"
     ]
    },
    {
     "name": "stdout",
     "output_type": "stream",
     "text": [
      "\u001b[2m2024-06-10 23:40:54\u001b[0m [\u001b[32m\u001b[1mdebug    \u001b[0m] \u001b[1mLoaded regex pattern          \u001b[0m \u001b[36mgroup_name\u001b[0m=\u001b[35mCREDIT_CARD_RE\u001b[0m\n",
      "\u001b[2m2024-06-10 23:40:54\u001b[0m [\u001b[32m\u001b[1mdebug    \u001b[0m] \u001b[1mLoaded regex pattern          \u001b[0m \u001b[36mgroup_name\u001b[0m=\u001b[35mUUID\u001b[0m\n",
      "\u001b[2m2024-06-10 23:40:54\u001b[0m [\u001b[32m\u001b[1mdebug    \u001b[0m] \u001b[1mLoaded regex pattern          \u001b[0m \u001b[36mgroup_name\u001b[0m=\u001b[35mEMAIL_ADDRESS_RE\u001b[0m\n",
      "\u001b[2m2024-06-10 23:40:54\u001b[0m [\u001b[32m\u001b[1mdebug    \u001b[0m] \u001b[1mLoaded regex pattern          \u001b[0m \u001b[36mgroup_name\u001b[0m=\u001b[35mUS_SSN_RE\u001b[0m\n",
      "\u001b[2m2024-06-10 23:40:54\u001b[0m [\u001b[32m\u001b[1mdebug    \u001b[0m] \u001b[1mLoaded regex pattern          \u001b[0m \u001b[36mgroup_name\u001b[0m=\u001b[35mBTC_ADDRESS\u001b[0m\n",
      "\u001b[2m2024-06-10 23:40:54\u001b[0m [\u001b[32m\u001b[1mdebug    \u001b[0m] \u001b[1mLoaded regex pattern          \u001b[0m \u001b[36mgroup_name\u001b[0m=\u001b[35mURL_RE\u001b[0m\n",
      "\u001b[2m2024-06-10 23:40:54\u001b[0m [\u001b[32m\u001b[1mdebug    \u001b[0m] \u001b[1mLoaded regex pattern          \u001b[0m \u001b[36mgroup_name\u001b[0m=\u001b[35mCREDIT_CARD\u001b[0m\n",
      "\u001b[2m2024-06-10 23:40:54\u001b[0m [\u001b[32m\u001b[1mdebug    \u001b[0m] \u001b[1mLoaded regex pattern          \u001b[0m \u001b[36mgroup_name\u001b[0m=\u001b[35mEMAIL_ADDRESS_RE\u001b[0m\n",
      "\u001b[2m2024-06-10 23:40:54\u001b[0m [\u001b[32m\u001b[1mdebug    \u001b[0m] \u001b[1mLoaded regex pattern          \u001b[0m \u001b[36mgroup_name\u001b[0m=\u001b[35mPHONE_NUMBER_ZH\u001b[0m\n",
      "\u001b[2m2024-06-10 23:40:54\u001b[0m [\u001b[32m\u001b[1mdebug    \u001b[0m] \u001b[1mLoaded regex pattern          \u001b[0m \u001b[36mgroup_name\u001b[0m=\u001b[35mPHONE_NUMBER_WITH_EXT\u001b[0m\n",
      "\u001b[2m2024-06-10 23:40:54\u001b[0m [\u001b[32m\u001b[1mdebug    \u001b[0m] \u001b[1mLoaded regex pattern          \u001b[0m \u001b[36mgroup_name\u001b[0m=\u001b[35mDATE_RE\u001b[0m\n",
      "\u001b[2m2024-06-10 23:40:54\u001b[0m [\u001b[32m\u001b[1mdebug    \u001b[0m] \u001b[1mLoaded regex pattern          \u001b[0m \u001b[36mgroup_name\u001b[0m=\u001b[35mTIME_RE\u001b[0m\n",
      "\u001b[2m2024-06-10 23:40:54\u001b[0m [\u001b[32m\u001b[1mdebug    \u001b[0m] \u001b[1mLoaded regex pattern          \u001b[0m \u001b[36mgroup_name\u001b[0m=\u001b[35mHEX_COLOR\u001b[0m\n",
      "\u001b[2m2024-06-10 23:40:54\u001b[0m [\u001b[32m\u001b[1mdebug    \u001b[0m] \u001b[1mLoaded regex pattern          \u001b[0m \u001b[36mgroup_name\u001b[0m=\u001b[35mPRICE_RE\u001b[0m\n",
      "\u001b[2m2024-06-10 23:40:54\u001b[0m [\u001b[32m\u001b[1mdebug    \u001b[0m] \u001b[1mLoaded regex pattern          \u001b[0m \u001b[36mgroup_name\u001b[0m=\u001b[35mPO_BOX_RE\u001b[0m\n"
     ]
    },
    {
     "name": "stderr",
     "output_type": "stream",
     "text": [
      "\n",
      "\n",
      "Scoring responses: 100%|██████████| 1/1 [00:06<00:00,  6.20s/it]\n",
      "Scoring responses: 100%|██████████| 1/1 [00:07<00:00,  7.70s/it]\n",
      "\u001b[92m23:40:54 - LiteLLM:INFO\u001b[0m: utils.py:3341 - Wrapper: Completed Call, calling success_handler\n",
      "\n",
      "\n",
      "\n",
      "Scoring responses: 100%|██████████| 1/1 [00:05<00:00,  5.64s/it]"
     ]
    },
    {
     "name": "stdout",
     "output_type": "stream",
     "text": [
      "\u001b[2m2024-06-10 23:40:54\u001b[0m [\u001b[32m\u001b[1mdebug    \u001b[0m] \u001b[1mInitialized classification model\u001b[0m \u001b[36mdevice\u001b[0m=\u001b[35mdevice(type='mps')\u001b[0m \u001b[36mmodel\u001b[0m=\u001b[35mModel(path='ProtectAI/distilroberta-base-rejection-v1', subfolder='', revision='65584967c3f22ff7723e5370c65e0e76791e6055', onnx_path='ProtectAI/distilroberta-base-rejection-v1', onnx_revision='65584967c3f22ff7723e5370c65e0e76791e6055', onnx_subfolder='onnx', onnx_filename='model.onnx', kwargs={}, pipeline_kwargs={'batch_size': 1, 'device': device(type='mps'), 'return_token_type_ids': False, 'max_length': 128, 'truncation': True}, tokenizer_kwargs={})\u001b[0m\n"
     ]
    },
    {
     "name": "stderr",
     "output_type": "stream",
     "text": [
      "\n",
      "\n",
      "\n",
      "\n",
      "\n",
      "Scoring responses: 100%|██████████| 1/1 [00:05<00:00,  5.61s/it]\n"
     ]
    },
    {
     "name": "stdout",
     "output_type": "stream",
     "text": [
      "\u001b[2m2024-06-10 23:40:55\u001b[0m [\u001b[32m\u001b[1mdebug    \u001b[0m] \u001b[1mInitialized classification model\u001b[0m \u001b[36mdevice\u001b[0m=\u001b[35mdevice(type='mps')\u001b[0m \u001b[36mmodel\u001b[0m=\u001b[35mModel(path='ProtectAI/distilroberta-base-rejection-v1', subfolder='', revision='65584967c3f22ff7723e5370c65e0e76791e6055', onnx_path='ProtectAI/distilroberta-base-rejection-v1', onnx_revision='65584967c3f22ff7723e5370c65e0e76791e6055', onnx_subfolder='onnx', onnx_filename='model.onnx', kwargs={}, pipeline_kwargs={'batch_size': 1, 'device': device(type='mps'), 'return_token_type_ids': False, 'max_length': 128, 'truncation': True}, tokenizer_kwargs={})\u001b[0m\n"
     ]
    },
    {
     "name": "stderr",
     "output_type": "stream",
     "text": [
      "\u001b[92m23:40:55 - LiteLLM:INFO\u001b[0m: utils.py:1298 - \u001b[92m\n",
      "\n",
      "POST Request Sent from LiteLLM:\n",
      "curl -X POST \\\n",
      "https://api.openai.com/v1/ \\\n",
      "-d '{'model': 'gpt-3.5-turbo', 'messages': [{'role': 'system', 'content': \"\\n### Instruction ###\\nYou are an expert medical researcher librarian. Your task is to determine whether articles from the BioASQ dataset may be relevant to questions from clinicians based on the articles' abstracts. You MUST provide a yes or no answer. You will be penalized for answers that are not a clear yes or no.\\n\\n### Process ###\\n1. Carefully read the provided clinical question. \\n2. Analyze the given article abstract in the context of the question.\\n3. Determine if the abstract contains information potentially relevant to answering the question. \\n4. Provide a definitive yes or no answer. Do not hedge or equivocate.\\n\\n### Evaluation ###\\nYour performance will be evaluated on:\\n- Ability to identify abstracts with information relevant to the clinical question\\n- Providing a clear, unambiguous yes or no answer \\n- Avoiding reliance on stereotypes or biases in your determination\\n- Adherence to the required answer format\\n\\nYou MUST provide a yes or no answer. Any other response will be penalized.\\n\"}, {'role': 'user', 'content': '\\n### Question ###\\nClinical question: \"Is Hirschsprung disease a mendelian or a multifactorial disorder?\"\\n\\n### Abstract ###\\nAdenovirus E1B 19-kDa protein (19K) is a member of the Bcl-2 family of \\nsuppressors of apoptosis. The suppressors function through heterodimerization \\nwith the death promoters, Bax and related proteins, thus establishing a set \\npoint within the cell that determines whether or not apoptosis is executed in \\nresponse to a death signal. Sequence similarities between 19K and Bcl-2 are \\nlargely restricted to short Bcl-2 homology (BH) domains that mediate interaction \\nwith Bax. The BH1 sequence in 19K is degenerate but nevertheless contains a \\nconserved glycine residue found in all family members that when mutated to \\nalanine in Bcl-2 results in loss of Bcl-2 function and ability to dimerize with \\nBax (Yin, X.-M., Oltvai, Z. N., and Korsmeyer, S. J. (1994) Nature 369, \\n321-323). Here, we show that the analogous mutation in BH1 of 19K also abrogates \\nthe anti-apoptotic properties of 19K and its ability to interact with Bax, thus \\nestablishing the critical importance of this residue within BH1 and the likely \\nsimilarity of Bcl-2 and 19K function. In distinct contrast to Bcl-2, however, \\n19K interaction was not detected with Bad, a Bcl-2/Bcl-XL dimerizing protein \\nthat can potentially regulate a Bax middle dotBcl-2/Bcl-XL survival set point \\nand reinstate susceptibility to a death signal. Furthermore, the anti-apoptotic \\nfunction of 19K was not overcome by enforced expression of Bad in transfected \\ncells. This feature of 19K may provide adenovirus with a selective advantage in \\nevading premature induction of apoptosis by the host cell.\\n\\n### Answer ###\\n'}], 'temperature': 0.0, 'extra_body': {}}'\n",
      "\u001b[0m\n",
      "\n"
     ]
    },
    {
     "name": "stdout",
     "output_type": "stream",
     "text": [
      "\u001b[2m2024-06-10 23:40:55\u001b[0m [\u001b[32m\u001b[1mdebug    \u001b[0m] \u001b[1mInitialized classification model\u001b[0m \u001b[36mdevice\u001b[0m=\u001b[35mdevice(type='mps')\u001b[0m \u001b[36mmodel\u001b[0m=\u001b[35mModel(path='ProtectAI/distilroberta-base-rejection-v1', subfolder='', revision='65584967c3f22ff7723e5370c65e0e76791e6055', onnx_path='ProtectAI/distilroberta-base-rejection-v1', onnx_revision='65584967c3f22ff7723e5370c65e0e76791e6055', onnx_subfolder='onnx', onnx_filename='model.onnx', kwargs={}, pipeline_kwargs={'batch_size': 1, 'device': device(type='mps'), 'return_token_type_ids': False, 'max_length': 128, 'truncation': True}, tokenizer_kwargs={})\u001b[0m\n",
      "\u001b[2m2024-06-10 23:40:55\u001b[0m [\u001b[32m\u001b[1mdebug    \u001b[0m] \u001b[1mInitialized classification model\u001b[0m \u001b[36mdevice\u001b[0m=\u001b[35mdevice(type='mps')\u001b[0m \u001b[36mmodel\u001b[0m=\u001b[35mModel(path='ProtectAI/distilroberta-base-rejection-v1', subfolder='', revision='65584967c3f22ff7723e5370c65e0e76791e6055', onnx_path='ProtectAI/distilroberta-base-rejection-v1', onnx_revision='65584967c3f22ff7723e5370c65e0e76791e6055', onnx_subfolder='onnx', onnx_filename='model.onnx', kwargs={}, pipeline_kwargs={'batch_size': 1, 'device': device(type='mps'), 'return_token_type_ids': False, 'max_length': 128, 'truncation': True}, tokenizer_kwargs={})\u001b[0m\n"
     ]
    },
    {
     "name": "stderr",
     "output_type": "stream",
     "text": [
      "\u001b[92m23:40:55 - LiteLLM:INFO\u001b[0m: utils.py:3341 - Wrapper: Completed Call, calling success_handler\n"
     ]
    },
    {
     "name": "stdout",
     "output_type": "stream",
     "text": [
      "\u001b[2m2024-06-10 23:40:55\u001b[0m [\u001b[32m\u001b[1mdebug    \u001b[0m] \u001b[1mInitialized classification model\u001b[0m \u001b[36mdevice\u001b[0m=\u001b[35mdevice(type='mps')\u001b[0m \u001b[36mmodel\u001b[0m=\u001b[35mModel(path='ProtectAI/distilroberta-base-rejection-v1', subfolder='', revision='65584967c3f22ff7723e5370c65e0e76791e6055', onnx_path='ProtectAI/distilroberta-base-rejection-v1', onnx_revision='65584967c3f22ff7723e5370c65e0e76791e6055', onnx_subfolder='onnx', onnx_filename='model.onnx', kwargs={}, pipeline_kwargs={'batch_size': 1, 'device': device(type='mps'), 'return_token_type_ids': False, 'max_length': 128, 'truncation': True}, tokenizer_kwargs={})\u001b[0m\n",
      "\u001b[2m2024-06-10 23:40:56\u001b[0m [\u001b[32m\u001b[1mdebug    \u001b[0m] \u001b[1mNo rejection detected         \u001b[0m \u001b[36mhighest_score\u001b[0m=\u001b[35m0.0\u001b[0m\n",
      "\u001b[2m2024-06-10 23:40:56\u001b[0m [\u001b[32m\u001b[1mdebug    \u001b[0m] \u001b[1mScanner completed             \u001b[0m \u001b[36melapsed_time_seconds\u001b[0m=\u001b[35m1.523868\u001b[0m \u001b[36mis_valid\u001b[0m=\u001b[35mTrue\u001b[0m \u001b[36mscanner\u001b[0m=\u001b[35mNoRefusal\u001b[0m\n"
     ]
    },
    {
     "name": "stderr",
     "output_type": "stream",
     "text": [
      "Retrieving responses: 100%|██████████| 1/1 [00:00<00:00, 27776.85it/s]\n",
      "Scoring responses:   0%|          | 0/1 [00:00<?, ?it/s]\u001b[92m23:40:56 - LiteLLM:INFO\u001b[0m: utils.py:1298 - \u001b[92m\n",
      "\n",
      "POST Request Sent from LiteLLM:\n",
      "curl -X POST \\\n",
      "https://api.openai.com/v1/ \\\n",
      "-d '{'model': 'gpt-3.5-turbo', 'messages': [{'role': 'system', 'content': \"\\n### Instruction ###\\nYou are an expert medical researcher librarian. Your task is to determine whether articles from the BioASQ dataset may be relevant to questions from clinicians based on the articles' abstracts. You MUST provide a yes or no answer. You will be penalized for answers that are not a clear yes or no.\\n\\n### Process ###\\n1. Carefully read the provided clinical question. \\n2. Analyze the given article abstract in the context of the question.\\n3. Determine if the abstract contains information potentially relevant to answering the question. \\n4. Provide a definitive yes or no answer. Do not hedge or equivocate.\\n\\n### Evaluation ###\\nYour performance will be evaluated on:\\n- Ability to identify abstracts with information relevant to the clinical question\\n- Providing a clear, unambiguous yes or no answer \\n- Avoiding reliance on stereotypes or biases in your determination\\n- Adherence to the required answer format\\n\\nYou MUST provide a yes or no answer. Any other response will be penalized.\\n\"}, {'role': 'user', 'content': '\\n### Question ###\\nClinical question: \"Is Hirschsprung disease a mendelian or a multifactorial disorder?\"\\n\\n### Abstract ###\\nHomeotic (Hox) genes are usually clustered and arranged in the same order as \\nthey are expressed along the anteroposterior body axis of metazoans. The \\nmechanistic explanation for this colinearity has been elusive, and it may well \\nbe that a single and universal cause does not exist. The Hox-gene complex \\n(HOM-C) has been rearranged differently in several Drosophila species, producing \\na striking diversity of Hox gene organizations. We investigated the genomic and \\nfunctional consequences of the two HOM-C splits present in Drosophila buzzatii. \\nFirstly, we sequenced two regions of the D. buzzatii genome, one containing the \\ngenes labial and abdominal A, and another one including proboscipedia, and \\ncompared their organization with that of D. melanogaster and D. pseudoobscura in \\norder to map precisely the two splits. Then, a plethora of conserved noncoding \\nsequences, which are putative enhancers, were identified around the three Hox \\ngenes closer to the splits. The position and order of these enhancers are \\nconserved, with minor exceptions, between the three Drosophila species. Finally, \\nwe analyzed the expression patterns of the same three genes in embryos and \\nimaginal discs of four Drosophila species with different Hox-gene organizations. \\nThe results show that their expression patterns are conserved despite the HOM-C \\nsplits. We conclude that, in Drosophila, Hox-gene clustering is not an absolute \\nrequirement for proper function. Rather, the organization of Hox genes is \\nmodular, and their clustering seems the result of phylogenetic inertia more than \\nfunctional necessity.\\n\\n### Answer ###\\n'}], 'temperature': 0.0, 'extra_body': {}}'\n",
      "\u001b[0m\n",
      "\n",
      "\n",
      "\n",
      "\n",
      "\n",
      "\n",
      "Scoring responses: 100%|██████████| 1/1 [00:07<00:00,  7.44s/it]\n",
      "\u001b[92m23:40:57 - LiteLLM:INFO\u001b[0m: utils.py:3341 - Wrapper: Completed Call, calling success_handler\n",
      "\u001b[92m23:40:58 - LiteLLM:INFO\u001b[0m: utils.py:1298 - \u001b[92m\n",
      "\n",
      "POST Request Sent from LiteLLM:\n",
      "curl -X POST \\\n",
      "https://api.openai.com/v1/ \\\n",
      "-d '{'model': 'gpt-3.5-turbo', 'messages': [{'role': 'system', 'content': '\\n### Instruction ###\\nYou are an expert medical researcher tasked with summarizing relevant excerpts from biomedical literature to provide background information necessary to answer clinicians\\' questions. Your summary should be concise yet informative, capturing the key points from the provided context.\\n\\n### Process ###\\n1. Carefully read the provided clinical question to understand the information needed.\\n2. Analyze the given context, which includes excerpts from biomedical literature along with relevance scores.\\n3. Identify the most pertinent information from the context in relation to the question.\\n4. Summarize the key points from the relevant excerpts, considering their relevance scores.\\n5. Synthesize the individual summaries into a coherent overview addressing the question.\\n6. If the context is not sufficient to answer the question, indicate that more information is needed.\\n\\n### Format ###\\nQuestion: <question>\\nSummary: <summary_of_relevant_information>\\nRelevant Excerpts: <excerpts_in_order_of_relevance>\\n\\n### Evaluation ###\\nYour performance will be evaluated on:\\n- Ability to identify and summarize relevant information from the provided context\\n- Synthesis of individual excerpt summaries into a coherent overview\\n- Consideration of excerpt relevance scores in the final summary\\n- Clarity and conciseness of the summary\\n- Adherence to the specified response format\\n\\nYou MUST provide a summary that directly addresses the given question using the most relevant excerpts from the context. If the provided context is insufficient to answer the question, state \"Insufficient information to answer the question.\"\\n'}, {'role': 'user', 'content': '\\n### Question ###\\nAre the Fanconi anemia genes a part of the same signalling pathway?\\n\\n### Context ###\\nFanconi anemia (FA) proteins function in a DNA damage response pathway that \\nappears to be part of the network including breast cancer susceptibility gene \\nproducts, BRCA1 and BRCA2. In response to DNA damage or replication signals, a \\nnuclear FA core complex of at least 6 FA proteins (FANCA, FANCC, FANCE, FANCF, \\nFANCG and FANCL) is activated and leads to monoubiquitination of the downstream \\nFA protein, FANCD2. One puzzling question for this pathway is the role of BRCA2. \\nA previous study has proposed that BRCA2 could be identical to two FA proteins: \\nFANCD1, which functions either downstream or in a parallel pathway; and FANCB, \\nwhich functions upstream of the FANCD2 monoubiquitination. Now, a new study \\nshows that the real FANCB protein is not BRCA2, but a previously uncharacterized \\ncomponent of the FA core complex, FAAP95, suggesting that BRCA2 does not act \\nupstream of the FA pathway. Interestingly, the newly discovered FANCB gene is \\nX-linked and subject to X-inactivation. The presence of a single active copy of \\nFANCB and its essentiality for a functional FA-BRCA pathway make it a \\npotentially vulnerable component of the cellular machinery that maintains \\ngenomic integrity. (Score: 0.6261179496661498)\\n\\n### Summary ###\\n'}], 'temperature': 0.0, 'extra_body': {}}'\n",
      "\u001b[0m\n",
      "\n"
     ]
    },
    {
     "name": "stdout",
     "output_type": "stream",
     "text": [
      "\u001b[2m2024-06-10 23:40:58\u001b[0m [\u001b[32m\u001b[1mdebug    \u001b[0m] \u001b[1mInitialized classification model\u001b[0m \u001b[36mdevice\u001b[0m=\u001b[35mdevice(type='mps')\u001b[0m \u001b[36mmodel\u001b[0m=\u001b[35mModel(path='ProtectAI/distilroberta-base-rejection-v1', subfolder='', revision='65584967c3f22ff7723e5370c65e0e76791e6055', onnx_path='ProtectAI/distilroberta-base-rejection-v1', onnx_revision='65584967c3f22ff7723e5370c65e0e76791e6055', onnx_subfolder='onnx', onnx_filename='model.onnx', kwargs={}, pipeline_kwargs={'batch_size': 1, 'device': device(type='mps'), 'return_token_type_ids': False, 'max_length': 128, 'truncation': True}, tokenizer_kwargs={})\u001b[0m\n",
      "\u001b[2m2024-06-10 23:40:59\u001b[0m [\u001b[32m\u001b[1mdebug    \u001b[0m] \u001b[1mInitialized model             \u001b[0m \u001b[36mdevice\u001b[0m=\u001b[35mdevice(type='mps')\u001b[0m \u001b[36mmodel\u001b[0m=\u001b[35mModel(path='BAAI/bge-base-en-v1.5', subfolder='', revision='a5beb1e3e68b9ab74eb54cfd186867f64f240e1a', onnx_path='BAAI/bge-base-en-v1.5', onnx_revision='a5beb1e3e68b9ab74eb54cfd186867f64f240e1a', onnx_subfolder='onnx', onnx_filename='model.onnx', kwargs={}, pipeline_kwargs={'batch_size': 1, 'device': device(type='mps')}, tokenizer_kwargs={})\u001b[0m\n",
      "\u001b[2m2024-06-10 23:40:59\u001b[0m [\u001b[32m\u001b[1mdebug    \u001b[0m] \u001b[1mInitialized model             \u001b[0m \u001b[36mdevice\u001b[0m=\u001b[35mdevice(type='mps')\u001b[0m \u001b[36mmodel\u001b[0m=\u001b[35mModel(path='BAAI/bge-base-en-v1.5', subfolder='', revision='a5beb1e3e68b9ab74eb54cfd186867f64f240e1a', onnx_path='BAAI/bge-base-en-v1.5', onnx_revision='a5beb1e3e68b9ab74eb54cfd186867f64f240e1a', onnx_subfolder='onnx', onnx_filename='model.onnx', kwargs={}, pipeline_kwargs={'batch_size': 1, 'device': device(type='mps')}, tokenizer_kwargs={})\u001b[0m\n",
      "\u001b[2m2024-06-10 23:40:59\u001b[0m [\u001b[32m\u001b[1mdebug    \u001b[0m] \u001b[1mInitialized model             \u001b[0m \u001b[36mdevice\u001b[0m=\u001b[35mdevice(type='mps')\u001b[0m \u001b[36mmodel\u001b[0m=\u001b[35mModel(path='BAAI/bge-base-en-v1.5', subfolder='', revision='a5beb1e3e68b9ab74eb54cfd186867f64f240e1a', onnx_path='BAAI/bge-base-en-v1.5', onnx_revision='a5beb1e3e68b9ab74eb54cfd186867f64f240e1a', onnx_subfolder='onnx', onnx_filename='model.onnx', kwargs={}, pipeline_kwargs={'batch_size': 1, 'device': device(type='mps')}, tokenizer_kwargs={})\u001b[0m\n",
      "\u001b[2m2024-06-10 23:40:59\u001b[0m [\u001b[32m\u001b[1mdebug    \u001b[0m] \u001b[1mInitialized model             \u001b[0m \u001b[36mdevice\u001b[0m=\u001b[35mdevice(type='mps')\u001b[0m \u001b[36mmodel\u001b[0m=\u001b[35mModel(path='BAAI/bge-base-en-v1.5', subfolder='', revision='a5beb1e3e68b9ab74eb54cfd186867f64f240e1a', onnx_path='BAAI/bge-base-en-v1.5', onnx_revision='a5beb1e3e68b9ab74eb54cfd186867f64f240e1a', onnx_subfolder='onnx', onnx_filename='model.onnx', kwargs={}, pipeline_kwargs={'batch_size': 1, 'device': device(type='mps')}, tokenizer_kwargs={})\u001b[0m\n",
      "\u001b[2m2024-06-10 23:40:59\u001b[0m [\u001b[32m\u001b[1mdebug    \u001b[0m] \u001b[1mInitialized model             \u001b[0m \u001b[36mdevice\u001b[0m=\u001b[35mdevice(type='mps')\u001b[0m \u001b[36mmodel\u001b[0m=\u001b[35mModel(path='BAAI/bge-base-en-v1.5', subfolder='', revision='a5beb1e3e68b9ab74eb54cfd186867f64f240e1a', onnx_path='BAAI/bge-base-en-v1.5', onnx_revision='a5beb1e3e68b9ab74eb54cfd186867f64f240e1a', onnx_subfolder='onnx', onnx_filename='model.onnx', kwargs={}, pipeline_kwargs={'batch_size': 1, 'device': device(type='mps')}, tokenizer_kwargs={})\u001b[0m\n",
      "\u001b[2m2024-06-10 23:40:59\u001b[0m [\u001b[32m\u001b[1mdebug    \u001b[0m] \u001b[1mNo entity types provided, using default\u001b[0m \u001b[36mdefault_entity_types\u001b[0m=\u001b[35m['CREDIT_CARD', 'CRYPTO', 'EMAIL_ADDRESS', 'IBAN_CODE', 'IP_ADDRESS', 'PERSON', 'PHONE_NUMBER', 'US_SSN', 'US_BANK_NUMBER', 'CREDIT_CARD_RE', 'UUID', 'EMAIL_ADDRESS_RE', 'US_SSN_RE']\u001b[0m\n",
      "\u001b[2m2024-06-10 23:40:59\u001b[0m [\u001b[32m\u001b[1mdebug    \u001b[0m] \u001b[1mNo entity types provided, using default\u001b[0m \u001b[36mdefault_entity_types\u001b[0m=\u001b[35m['CREDIT_CARD', 'CRYPTO', 'EMAIL_ADDRESS', 'IBAN_CODE', 'IP_ADDRESS', 'PERSON', 'PHONE_NUMBER', 'US_SSN', 'US_BANK_NUMBER', 'CREDIT_CARD_RE', 'UUID', 'EMAIL_ADDRESS_RE', 'US_SSN_RE']\u001b[0m\n",
      "\u001b[2m2024-06-10 23:40:59\u001b[0m [\u001b[32m\u001b[1mdebug    \u001b[0m] \u001b[1mNo entity types provided, using default\u001b[0m \u001b[36mdefault_entity_types\u001b[0m=\u001b[35m['CREDIT_CARD', 'CRYPTO', 'EMAIL_ADDRESS', 'IBAN_CODE', 'IP_ADDRESS', 'PERSON', 'PHONE_NUMBER', 'US_SSN', 'US_BANK_NUMBER', 'CREDIT_CARD_RE', 'UUID', 'EMAIL_ADDRESS_RE', 'US_SSN_RE']\u001b[0m\n",
      "\u001b[2m2024-06-10 23:40:59\u001b[0m [\u001b[32m\u001b[1mdebug    \u001b[0m] \u001b[1mNo entity types provided, using default\u001b[0m \u001b[36mdefault_entity_types\u001b[0m=\u001b[35m['CREDIT_CARD', 'CRYPTO', 'EMAIL_ADDRESS', 'IBAN_CODE', 'IP_ADDRESS', 'PERSON', 'PHONE_NUMBER', 'US_SSN', 'US_BANK_NUMBER', 'CREDIT_CARD_RE', 'UUID', 'EMAIL_ADDRESS_RE', 'US_SSN_RE']\u001b[0m\n",
      "\u001b[2m2024-06-10 23:40:59\u001b[0m [\u001b[32m\u001b[1mdebug    \u001b[0m] \u001b[1mNo entity types provided, using default\u001b[0m \u001b[36mdefault_entity_types\u001b[0m=\u001b[35m['CREDIT_CARD', 'CRYPTO', 'EMAIL_ADDRESS', 'IBAN_CODE', 'IP_ADDRESS', 'PERSON', 'PHONE_NUMBER', 'US_SSN', 'US_BANK_NUMBER', 'CREDIT_CARD_RE', 'UUID', 'EMAIL_ADDRESS_RE', 'US_SSN_RE']\u001b[0m\n",
      "\u001b[2m2024-06-10 23:41:00\u001b[0m [\u001b[33m\u001b[1mwarning  \u001b[0m] \u001b[1mResult is not similar to the prompt\u001b[0m \u001b[36msimilarity_score\u001b[0m=\u001b[35m0.48802942\u001b[0m\n",
      "\u001b[2m2024-06-10 23:41:00\u001b[0m [\u001b[32m\u001b[1mdebug    \u001b[0m] \u001b[1mScanner completed             \u001b[0m \u001b[36melapsed_time_seconds\u001b[0m=\u001b[35m3.918032\u001b[0m \u001b[36mis_valid\u001b[0m=\u001b[35mFalse\u001b[0m \u001b[36mscanner\u001b[0m=\u001b[35mRelevance\u001b[0m\n"
     ]
    },
    {
     "name": "stderr",
     "output_type": "stream",
     "text": [
      "Asking to truncate to max_length but no maximum length is provided and the model has no predefined maximum length. Default to no truncation.\n"
     ]
    },
    {
     "name": "stdout",
     "output_type": "stream",
     "text": [
      "\u001b[2m2024-06-10 23:41:00\u001b[0m [\u001b[32m\u001b[1mdebug    \u001b[0m] \u001b[1mInitialized model             \u001b[0m \u001b[36mdevice\u001b[0m=\u001b[35mdevice(type='mps')\u001b[0m \u001b[36mmodel\u001b[0m=\u001b[35mModel(path='BAAI/bge-base-en-v1.5', subfolder='', revision='a5beb1e3e68b9ab74eb54cfd186867f64f240e1a', onnx_path='BAAI/bge-base-en-v1.5', onnx_revision='a5beb1e3e68b9ab74eb54cfd186867f64f240e1a', onnx_subfolder='onnx', onnx_filename='model.onnx', kwargs={}, pipeline_kwargs={'batch_size': 1, 'device': device(type='mps')}, tokenizer_kwargs={})\u001b[0m\n",
      "\u001b[2m2024-06-10 23:41:00\u001b[0m [\u001b[32m\u001b[1mdebug    \u001b[0m] \u001b[1mNo entity types provided, using default\u001b[0m \u001b[36mdefault_entity_types\u001b[0m=\u001b[35m['CREDIT_CARD', 'CRYPTO', 'EMAIL_ADDRESS', 'IBAN_CODE', 'IP_ADDRESS', 'PERSON', 'PHONE_NUMBER', 'US_SSN', 'US_BANK_NUMBER', 'CREDIT_CARD_RE', 'UUID', 'EMAIL_ADDRESS_RE', 'US_SSN_RE']\u001b[0m\n"
     ]
    },
    {
     "name": "stderr",
     "output_type": "stream",
     "text": [
      "\n",
      "\n",
      "\n",
      "\n",
      "\n",
      "\n",
      "Scoring responses: 100%|██████████| 1/1 [00:09<00:00,  9.92s/it]\n",
      "\u001b[92m23:41:03 - LiteLLM:INFO\u001b[0m: utils.py:3341 - Wrapper: Completed Call, calling success_handler\n",
      "\u001b[92m23:41:03 - LiteLLM:INFO\u001b[0m: utils.py:1298 - \u001b[92m\n",
      "\n",
      "POST Request Sent from LiteLLM:\n",
      "curl -X POST \\\n",
      "https://api.openai.com/v1/ \\\n",
      "-d '{'model': 'gpt-3.5-turbo', 'messages': [{'role': 'system', 'content': '\\n### Instruction ###\\nYou are an expert medical assistant. Your task is to provide accurate, concise answers to medical questions based on summaries of relevant biomedical literature. You MUST ensure responses are clear, informative, unbiased, and avoid stereotypes. Answer in a natural, human-like manner. You will be penalized for answers that are unclear, inaccurate, biased, or overly verbose.\\n\\n### Process ###\\n1. Carefully analyze the provided question to understand the key information needed. \\n2. Review the summary of relevant excerpts from biomedical literature.\\n3. Identify the most pertinent information in the summary for answering the question.\\n4. Synthesize the key points into a coherent, concise answer.\\n5. If the summary lacks sufficient information to conclusively answer the question, state \"There is insufficient information provided to conclusively answer the question.\"\\n\\n### Format ###\\nQuestion: <question>\\nAnswer: <final_answer_based_on_summary>\\n\\n### Example ###\\nQuestion: Is Hirschsprung disease a mendelian or a multifactorial disorder?\\n\\nSummary: Hirschsprung disease, particularly in the context of Mowat-Wilson syndrome (MWS) associated with ZFHX1B mutations or deletions, shows variations in enteric neural plexus abnormalities. The pathologies in MWS are attributed to variations in ZFHX1B abnormalities and epigenetic factors.\\n\\nRelevant Excerpts: \\n- Patients with ZFHX1B mutations or deletions develop multiple congenital anomalies including Hirschsprung disease, known as Mowat-Wilson syndrome (MWS). (Score: 0.6024968654169915)\\n\\nAnswer: Based on the summary, Hirschsprung disease in Mowat-Wilson syndrome appears to have both genetic and multifactorial components. Variations in ZFHX1B abnormalities suggest a genetic basis, while the role of epigenetic factors points to a multifactorial etiology. However, the provided information is limited in conclusively determining if Hirschsprung disease more broadly is purely Mendelian or multifactorial.\\n\\n### Evaluation ###\\nYour performance will be evaluated on:\\n- Accuracy and relevance of the answer based on the provided summary\\n- Clarity and conciseness of the response \\n- Ability to identify when the summary is insufficient to conclusively answer the question\\n- Avoidance of bias and stereotyping\\n- Adherence to the specified format\\n\\nYou MUST provide an answer that directly addresses the question using only the information in the summary. If the summary is insufficient, state that conclusively answering is not possible. Produce the answer in a clear, natural style.\\n'}, {'role': 'user', 'content': '\\n### Question ###\\nAre the Fanconi anemia genes a part of the same signalling pathway?\\n\\n### Summary ###\\nQuestion: Are the Fanconi anemia genes a part of the same signalling pathway?\\nSummary: The Fanconi anemia genes, including FANCA, FANCC, FANCE, FANCF, FANCG, and FANCL, are part of a DNA damage response pathway that interacts with BRCA1 and BRCA2. While a previous study suggested BRCA2 could be identical to FANCD1 and FANCB, a new study identified FANCB as a distinct component (FAAP95) of the FA core complex, indicating that BRCA2 does not act upstream of the FA pathway. The newly discovered FANCB gene is X-linked and crucial for genomic integrity. (Score: 0.6261179496661498)\\nRelevant Excerpts:\\n- Fanconi anemia (FA) proteins function in a DNA damage response pathway that includes FANCA, FANCC, FANCE, FANCF, FANCG, and FANCL, interacting with BRCA1 and BRCA2.\\n- A previous study proposed that BRCA2 could be identical to FANCD1 and FANCB, but a new study revealed FANCB as a distinct component (FAAP95) of the FA core complex, indicating BRCA2 does not act upstream of the FA pathway.\\n- The newly discovered FANCB gene is X-linked, subject to X-inactivation, and essential for maintaining genomic integrity.\\n\\n### Answer ###\\n'}], 'temperature': 0.0, 'extra_body': {}}'\n",
      "\u001b[0m\n",
      "\n"
     ]
    },
    {
     "name": "stdout",
     "output_type": "stream",
     "text": [
      "\u001b[2m2024-06-10 23:41:03\u001b[0m [\u001b[32m\u001b[1mdebug    \u001b[0m] \u001b[1mInitialized classification model\u001b[0m \u001b[36mdevice\u001b[0m=\u001b[35mdevice(type='mps')\u001b[0m \u001b[36mmodel\u001b[0m=\u001b[35mModel(path='ProtectAI/distilroberta-base-rejection-v1', subfolder='', revision='65584967c3f22ff7723e5370c65e0e76791e6055', onnx_path='ProtectAI/distilroberta-base-rejection-v1', onnx_revision='65584967c3f22ff7723e5370c65e0e76791e6055', onnx_subfolder='onnx', onnx_filename='model.onnx', kwargs={}, pipeline_kwargs={'batch_size': 1, 'device': device(type='mps'), 'return_token_type_ids': False, 'max_length': 128, 'truncation': True}, tokenizer_kwargs={})\u001b[0m\n"
     ]
    },
    {
     "name": "stderr",
     "output_type": "stream",
     "text": [
      "Scoring responses: 100%|██████████| 1/1 [00:08<00:00,  8.12s/it]\n",
      "\u001b[92m23:41:06 - LiteLLM:INFO\u001b[0m: utils.py:3341 - Wrapper: Completed Call, calling success_handler\n"
     ]
    },
    {
     "name": "stdout",
     "output_type": "stream",
     "text": [
      "\u001b[2m2024-06-10 23:41:06\u001b[0m [\u001b[32m\u001b[1mdebug    \u001b[0m] \u001b[1mNo sensitive data found in the output\u001b[0m\n",
      "\u001b[2m2024-06-10 23:41:06\u001b[0m [\u001b[32m\u001b[1mdebug    \u001b[0m] \u001b[1mScanner completed             \u001b[0m \u001b[36melapsed_time_seconds\u001b[0m=\u001b[35m6.00361\u001b[0m \u001b[36mis_valid\u001b[0m=\u001b[35mTrue\u001b[0m \u001b[36mscanner\u001b[0m=\u001b[35mSensitive\u001b[0m\n",
      "\u001b[2m2024-06-10 23:41:06\u001b[0m [\u001b[32m\u001b[1minfo     \u001b[0m] \u001b[1mScanned output                \u001b[0m \u001b[36melapsed_time_seconds\u001b[0m=\u001b[35m11.463628\u001b[0m \u001b[36mscores\u001b[0m=\u001b[35m{'NoRefusal': 0.0, 'Relevance': 0.51, 'Sensitive': 0.0}\u001b[0m\n",
      "\u001b[2m2024-06-10 23:41:06\u001b[0m [\u001b[32m\u001b[1mdebug    \u001b[0m] \u001b[1mInitialized NER model         \u001b[0m \u001b[36mdevice\u001b[0m=\u001b[35mdevice(type='mps')\u001b[0m \u001b[36mmodel\u001b[0m=\u001b[35mModel(path='Isotonic/deberta-v3-base_finetuned_ai4privacy_v2', subfolder='', revision='9ea992753ab2686be4a8f64605ccc7be197ad794', onnx_path='Isotonic/deberta-v3-base_finetuned_ai4privacy_v2', onnx_revision='9ea992753ab2686be4a8f64605ccc7be197ad794', onnx_subfolder='onnx', onnx_filename='model.onnx', kwargs={}, pipeline_kwargs={'batch_size': 1, 'device': device(type='mps'), 'aggregation_strategy': 'simple', 'ignore_labels': ['O', 'CARDINAL']}, tokenizer_kwargs={'model_input_names': ['input_ids', 'attention_mask']})\u001b[0m\n",
      "\u001b[2m2024-06-10 23:41:06\u001b[0m [\u001b[32m\u001b[1mdebug    \u001b[0m] \u001b[1mInitialized NER model         \u001b[0m \u001b[36mdevice\u001b[0m=\u001b[35mdevice(type='mps')\u001b[0m \u001b[36mmodel\u001b[0m=\u001b[35mModel(path='Isotonic/deberta-v3-base_finetuned_ai4privacy_v2', subfolder='', revision='9ea992753ab2686be4a8f64605ccc7be197ad794', onnx_path='Isotonic/deberta-v3-base_finetuned_ai4privacy_v2', onnx_revision='9ea992753ab2686be4a8f64605ccc7be197ad794', onnx_subfolder='onnx', onnx_filename='model.onnx', kwargs={}, pipeline_kwargs={'batch_size': 1, 'device': device(type='mps'), 'aggregation_strategy': 'simple', 'ignore_labels': ['O', 'CARDINAL']}, tokenizer_kwargs={'model_input_names': ['input_ids', 'attention_mask']})\u001b[0m\n",
      "\u001b[2m2024-06-10 23:41:06\u001b[0m [\u001b[32m\u001b[1mdebug    \u001b[0m] \u001b[1mInitialized NER model         \u001b[0m \u001b[36mdevice\u001b[0m=\u001b[35mdevice(type='mps')\u001b[0m \u001b[36mmodel\u001b[0m=\u001b[35mModel(path='Isotonic/deberta-v3-base_finetuned_ai4privacy_v2', subfolder='', revision='9ea992753ab2686be4a8f64605ccc7be197ad794', onnx_path='Isotonic/deberta-v3-base_finetuned_ai4privacy_v2', onnx_revision='9ea992753ab2686be4a8f64605ccc7be197ad794', onnx_subfolder='onnx', onnx_filename='model.onnx', kwargs={}, pipeline_kwargs={'batch_size': 1, 'device': device(type='mps'), 'aggregation_strategy': 'simple', 'ignore_labels': ['O', 'CARDINAL']}, tokenizer_kwargs={'model_input_names': ['input_ids', 'attention_mask']})\u001b[0m\n",
      "\u001b[2m2024-06-10 23:41:06\u001b[0m [\u001b[32m\u001b[1mdebug    \u001b[0m] \u001b[1mInitialized NER model         \u001b[0m \u001b[36mdevice\u001b[0m=\u001b[35mdevice(type='mps')\u001b[0m \u001b[36mmodel\u001b[0m=\u001b[35mModel(path='Isotonic/deberta-v3-base_finetuned_ai4privacy_v2', subfolder='', revision='9ea992753ab2686be4a8f64605ccc7be197ad794', onnx_path='Isotonic/deberta-v3-base_finetuned_ai4privacy_v2', onnx_revision='9ea992753ab2686be4a8f64605ccc7be197ad794', onnx_subfolder='onnx', onnx_filename='model.onnx', kwargs={}, pipeline_kwargs={'batch_size': 1, 'device': device(type='mps'), 'aggregation_strategy': 'simple', 'ignore_labels': ['O', 'CARDINAL']}, tokenizer_kwargs={'model_input_names': ['input_ids', 'attention_mask']})\u001b[0m\n",
      "\u001b[2m2024-06-10 23:41:06\u001b[0m [\u001b[32m\u001b[1mdebug    \u001b[0m] \u001b[1mInitialized NER model         \u001b[0m \u001b[36mdevice\u001b[0m=\u001b[35mdevice(type='mps')\u001b[0m \u001b[36mmodel\u001b[0m=\u001b[35mModel(path='Isotonic/deberta-v3-base_finetuned_ai4privacy_v2', subfolder='', revision='9ea992753ab2686be4a8f64605ccc7be197ad794', onnx_path='Isotonic/deberta-v3-base_finetuned_ai4privacy_v2', onnx_revision='9ea992753ab2686be4a8f64605ccc7be197ad794', onnx_subfolder='onnx', onnx_filename='model.onnx', kwargs={}, pipeline_kwargs={'batch_size': 1, 'device': device(type='mps'), 'aggregation_strategy': 'simple', 'ignore_labels': ['O', 'CARDINAL']}, tokenizer_kwargs={'model_input_names': ['input_ids', 'attention_mask']})\u001b[0m\n",
      "\u001b[2m2024-06-10 23:41:06\u001b[0m [\u001b[32m\u001b[1mdebug    \u001b[0m] \u001b[1mInitialized NER model         \u001b[0m \u001b[36mdevice\u001b[0m=\u001b[35mdevice(type='mps')\u001b[0m \u001b[36mmodel\u001b[0m=\u001b[35mModel(path='Isotonic/deberta-v3-base_finetuned_ai4privacy_v2', subfolder='', revision='9ea992753ab2686be4a8f64605ccc7be197ad794', onnx_path='Isotonic/deberta-v3-base_finetuned_ai4privacy_v2', onnx_revision='9ea992753ab2686be4a8f64605ccc7be197ad794', onnx_subfolder='onnx', onnx_filename='model.onnx', kwargs={}, pipeline_kwargs={'batch_size': 1, 'device': device(type='mps'), 'aggregation_strategy': 'simple', 'ignore_labels': ['O', 'CARDINAL']}, tokenizer_kwargs={'model_input_names': ['input_ids', 'attention_mask']})\u001b[0m\n"
     ]
    },
    {
     "data": {
      "text/html": [
       "<pre style=\"white-space:pre;overflow-x:auto;line-height:normal;font-family:Menlo,'DejaVu Sans Mono',consolas,'Courier New',monospace\">Evaluated <span style=\"color: #008080; text-decoration-color: #008080; font-weight: bold\">1</span> of <span style=\"color: #008080; text-decoration-color: #008080; font-weight: bold\">10</span> examples\n",
       "</pre>\n"
      ],
      "text/plain": [
       "Evaluated \u001b[1;36m1\u001b[0m of \u001b[1;36m10\u001b[0m examples\n"
      ]
     },
     "metadata": {},
     "output_type": "display_data"
    },
    {
     "name": "stdout",
     "output_type": "stream",
     "text": [
      "\u001b[2m2024-06-10 23:41:06\u001b[0m [\u001b[32m\u001b[1mdebug    \u001b[0m] \u001b[1mInitialized classification model\u001b[0m \u001b[36mdevice\u001b[0m=\u001b[35mdevice(type='mps')\u001b[0m \u001b[36mmodel\u001b[0m=\u001b[35mModel(path='ProtectAI/distilroberta-base-rejection-v1', subfolder='', revision='65584967c3f22ff7723e5370c65e0e76791e6055', onnx_path='ProtectAI/distilroberta-base-rejection-v1', onnx_revision='65584967c3f22ff7723e5370c65e0e76791e6055', onnx_subfolder='onnx', onnx_filename='model.onnx', kwargs={}, pipeline_kwargs={'batch_size': 1, 'device': device(type='mps'), 'return_token_type_ids': False, 'max_length': 128, 'truncation': True}, tokenizer_kwargs={})\u001b[0m\n"
     ]
    },
    {
     "name": "stderr",
     "output_type": "stream",
     "text": [
      "Retrieving responses: 100%|██████████| 1/1 [00:00<00:00, 8322.03it/s]\n",
      "Scoring responses:   0%|          | 0/1 [00:00<?, ?it/s]"
     ]
    },
    {
     "name": "stdout",
     "output_type": "stream",
     "text": [
      "\u001b[2m2024-06-10 23:41:12\u001b[0m [\u001b[32m\u001b[1mdebug    \u001b[0m] \u001b[1mLoaded regex pattern          \u001b[0m \u001b[36mgroup_name\u001b[0m=\u001b[35mCREDIT_CARD_RE\u001b[0m\n",
      "\u001b[2m2024-06-10 23:41:12\u001b[0m [\u001b[32m\u001b[1mdebug    \u001b[0m] \u001b[1mLoaded regex pattern          \u001b[0m \u001b[36mgroup_name\u001b[0m=\u001b[35mCREDIT_CARD_RE\u001b[0m\n",
      "\u001b[2m2024-06-10 23:41:12\u001b[0m [\u001b[32m\u001b[1mdebug    \u001b[0m] \u001b[1mLoaded regex pattern          \u001b[0m \u001b[36mgroup_name\u001b[0m=\u001b[35mUUID\u001b[0m\n",
      "\u001b[2m2024-06-10 23:41:12\u001b[0m [\u001b[32m\u001b[1mdebug    \u001b[0m] \u001b[1mLoaded regex pattern          \u001b[0m \u001b[36mgroup_name\u001b[0m=\u001b[35mCREDIT_CARD_RE\u001b[0m\n",
      "\u001b[2m2024-06-10 23:41:12\u001b[0m [\u001b[32m\u001b[1mdebug    \u001b[0m] \u001b[1mLoaded regex pattern          \u001b[0m \u001b[36mgroup_name\u001b[0m=\u001b[35mCREDIT_CARD_RE\u001b[0m\n",
      "\u001b[2m2024-06-10 23:41:12\u001b[0m [\u001b[32m\u001b[1mdebug    \u001b[0m] \u001b[1mLoaded regex pattern          \u001b[0m \u001b[36mgroup_name\u001b[0m=\u001b[35mCREDIT_CARD_RE\u001b[0m\n",
      "\u001b[2m2024-06-10 23:41:12\u001b[0m [\u001b[32m\u001b[1mdebug    \u001b[0m] \u001b[1mLoaded regex pattern          \u001b[0m \u001b[36mgroup_name\u001b[0m=\u001b[35mCREDIT_CARD_RE\u001b[0m\n",
      "\u001b[2m2024-06-10 23:41:12\u001b[0m [\u001b[32m\u001b[1mdebug    \u001b[0m] \u001b[1mLoaded regex pattern          \u001b[0m \u001b[36mgroup_name\u001b[0m=\u001b[35mUUID\u001b[0m\n",
      "\u001b[2m2024-06-10 23:41:12\u001b[0m [\u001b[32m\u001b[1mdebug    \u001b[0m] \u001b[1mLoaded regex pattern          \u001b[0m \u001b[36mgroup_name\u001b[0m=\u001b[35mEMAIL_ADDRESS_RE\u001b[0m\n",
      "\u001b[2m2024-06-10 23:41:12\u001b[0m [\u001b[32m\u001b[1mdebug    \u001b[0m] \u001b[1mLoaded regex pattern          \u001b[0m \u001b[36mgroup_name\u001b[0m=\u001b[35mUUID\u001b[0m\n",
      "\u001b[2m2024-06-10 23:41:12\u001b[0m [\u001b[32m\u001b[1mdebug    \u001b[0m] \u001b[1mLoaded regex pattern          \u001b[0m \u001b[36mgroup_name\u001b[0m=\u001b[35mUUID\u001b[0m\n",
      "\u001b[2m2024-06-10 23:41:12\u001b[0m [\u001b[32m\u001b[1mdebug    \u001b[0m] \u001b[1mLoaded regex pattern          \u001b[0m \u001b[36mgroup_name\u001b[0m=\u001b[35mUUID\u001b[0m\n",
      "\u001b[2m2024-06-10 23:41:12\u001b[0m [\u001b[32m\u001b[1mdebug    \u001b[0m] \u001b[1mLoaded regex pattern          \u001b[0m \u001b[36mgroup_name\u001b[0m=\u001b[35mUUID\u001b[0m\n",
      "\u001b[2m2024-06-10 23:41:12\u001b[0m [\u001b[32m\u001b[1mdebug    \u001b[0m] \u001b[1mLoaded regex pattern          \u001b[0m \u001b[36mgroup_name\u001b[0m=\u001b[35mEMAIL_ADDRESS_RE\u001b[0m\n",
      "\u001b[2m2024-06-10 23:41:12\u001b[0m [\u001b[32m\u001b[1mdebug    \u001b[0m] \u001b[1mLoaded regex pattern          \u001b[0m \u001b[36mgroup_name\u001b[0m=\u001b[35mUS_SSN_RE\u001b[0m\n",
      "\u001b[2m2024-06-10 23:41:12\u001b[0m [\u001b[32m\u001b[1mdebug    \u001b[0m] \u001b[1mLoaded regex pattern          \u001b[0m \u001b[36mgroup_name\u001b[0m=\u001b[35mEMAIL_ADDRESS_RE\u001b[0m\n",
      "\u001b[2m2024-06-10 23:41:12\u001b[0m [\u001b[32m\u001b[1mdebug    \u001b[0m] \u001b[1mLoaded regex pattern          \u001b[0m \u001b[36mgroup_name\u001b[0m=\u001b[35mEMAIL_ADDRESS_RE\u001b[0m\n",
      "\u001b[2m2024-06-10 23:41:12\u001b[0m [\u001b[32m\u001b[1mdebug    \u001b[0m] \u001b[1mLoaded regex pattern          \u001b[0m \u001b[36mgroup_name\u001b[0m=\u001b[35mEMAIL_ADDRESS_RE\u001b[0m\n",
      "\u001b[2m2024-06-10 23:41:12\u001b[0m [\u001b[32m\u001b[1mdebug    \u001b[0m] \u001b[1mLoaded regex pattern          \u001b[0m \u001b[36mgroup_name\u001b[0m=\u001b[35mEMAIL_ADDRESS_RE\u001b[0m\n",
      "\u001b[2m2024-06-10 23:41:12\u001b[0m [\u001b[32m\u001b[1mdebug    \u001b[0m] \u001b[1mLoaded regex pattern          \u001b[0m \u001b[36mgroup_name\u001b[0m=\u001b[35mUS_SSN_RE\u001b[0m\n",
      "\u001b[2m2024-06-10 23:41:12\u001b[0m [\u001b[32m\u001b[1mdebug    \u001b[0m] \u001b[1mLoaded regex pattern          \u001b[0m \u001b[36mgroup_name\u001b[0m=\u001b[35mBTC_ADDRESS\u001b[0m\n",
      "\u001b[2m2024-06-10 23:41:12\u001b[0m [\u001b[32m\u001b[1mdebug    \u001b[0m] \u001b[1mLoaded regex pattern          \u001b[0m \u001b[36mgroup_name\u001b[0m=\u001b[35mUS_SSN_RE\u001b[0m\n",
      "\u001b[2m2024-06-10 23:41:12\u001b[0m [\u001b[32m\u001b[1mdebug    \u001b[0m] \u001b[1mLoaded regex pattern          \u001b[0m \u001b[36mgroup_name\u001b[0m=\u001b[35mUS_SSN_RE\u001b[0m\n",
      "\u001b[2m2024-06-10 23:41:12\u001b[0m [\u001b[32m\u001b[1mdebug    \u001b[0m] \u001b[1mLoaded regex pattern          \u001b[0m \u001b[36mgroup_name\u001b[0m=\u001b[35mUS_SSN_RE\u001b[0m\n",
      "\u001b[2m2024-06-10 23:41:12\u001b[0m [\u001b[32m\u001b[1mdebug    \u001b[0m] \u001b[1mLoaded regex pattern          \u001b[0m \u001b[36mgroup_name\u001b[0m=\u001b[35mUS_SSN_RE\u001b[0m\n",
      "\u001b[2m2024-06-10 23:41:12\u001b[0m [\u001b[32m\u001b[1mdebug    \u001b[0m] \u001b[1mLoaded regex pattern          \u001b[0m \u001b[36mgroup_name\u001b[0m=\u001b[35mBTC_ADDRESS\u001b[0m\n",
      "\u001b[2m2024-06-10 23:41:12\u001b[0m [\u001b[32m\u001b[1mdebug    \u001b[0m] \u001b[1mLoaded regex pattern          \u001b[0m \u001b[36mgroup_name\u001b[0m=\u001b[35mURL_RE\u001b[0m\n",
      "\u001b[2m2024-06-10 23:41:12\u001b[0m [\u001b[32m\u001b[1mdebug    \u001b[0m] \u001b[1mLoaded regex pattern          \u001b[0m \u001b[36mgroup_name\u001b[0m=\u001b[35mBTC_ADDRESS\u001b[0m\n",
      "\u001b[2m2024-06-10 23:41:12\u001b[0m [\u001b[32m\u001b[1mdebug    \u001b[0m] \u001b[1mLoaded regex pattern          \u001b[0m \u001b[36mgroup_name\u001b[0m=\u001b[35mBTC_ADDRESS\u001b[0m\n",
      "\u001b[2m2024-06-10 23:41:12\u001b[0m [\u001b[32m\u001b[1mdebug    \u001b[0m] \u001b[1mLoaded regex pattern          \u001b[0m \u001b[36mgroup_name\u001b[0m=\u001b[35mBTC_ADDRESS\u001b[0m\n",
      "\u001b[2m2024-06-10 23:41:12\u001b[0m [\u001b[32m\u001b[1mdebug    \u001b[0m] \u001b[1mLoaded regex pattern          \u001b[0m \u001b[36mgroup_name\u001b[0m=\u001b[35mBTC_ADDRESS\u001b[0m\n",
      "\u001b[2m2024-06-10 23:41:12\u001b[0m [\u001b[32m\u001b[1mdebug    \u001b[0m] \u001b[1mLoaded regex pattern          \u001b[0m \u001b[36mgroup_name\u001b[0m=\u001b[35mURL_RE\u001b[0m\n",
      "\u001b[2m2024-06-10 23:41:12\u001b[0m [\u001b[32m\u001b[1mdebug    \u001b[0m] \u001b[1mLoaded regex pattern          \u001b[0m \u001b[36mgroup_name\u001b[0m=\u001b[35mCREDIT_CARD\u001b[0m\n",
      "\u001b[2m2024-06-10 23:41:12\u001b[0m [\u001b[32m\u001b[1mdebug    \u001b[0m] \u001b[1mLoaded regex pattern          \u001b[0m \u001b[36mgroup_name\u001b[0m=\u001b[35mURL_RE\u001b[0m\n",
      "\u001b[2m2024-06-10 23:41:12\u001b[0m [\u001b[32m\u001b[1mdebug    \u001b[0m] \u001b[1mLoaded regex pattern          \u001b[0m \u001b[36mgroup_name\u001b[0m=\u001b[35mURL_RE\u001b[0m\n",
      "\u001b[2m2024-06-10 23:41:12\u001b[0m [\u001b[32m\u001b[1mdebug    \u001b[0m] \u001b[1mLoaded regex pattern          \u001b[0m \u001b[36mgroup_name\u001b[0m=\u001b[35mURL_RE\u001b[0m\n",
      "\u001b[2m2024-06-10 23:41:12\u001b[0m [\u001b[32m\u001b[1mdebug    \u001b[0m] \u001b[1mLoaded regex pattern          \u001b[0m \u001b[36mgroup_name\u001b[0m=\u001b[35mURL_RE\u001b[0m\n",
      "\u001b[2m2024-06-10 23:41:12\u001b[0m [\u001b[32m\u001b[1mdebug    \u001b[0m] \u001b[1mLoaded regex pattern          \u001b[0m \u001b[36mgroup_name\u001b[0m=\u001b[35mCREDIT_CARD\u001b[0m\n",
      "\u001b[2m2024-06-10 23:41:12\u001b[0m [\u001b[32m\u001b[1mdebug    \u001b[0m] \u001b[1mLoaded regex pattern          \u001b[0m \u001b[36mgroup_name\u001b[0m=\u001b[35mEMAIL_ADDRESS_RE\u001b[0m\n",
      "\u001b[2m2024-06-10 23:41:12\u001b[0m [\u001b[32m\u001b[1mdebug    \u001b[0m] \u001b[1mLoaded regex pattern          \u001b[0m \u001b[36mgroup_name\u001b[0m=\u001b[35mCREDIT_CARD\u001b[0m\n",
      "\u001b[2m2024-06-10 23:41:12\u001b[0m [\u001b[32m\u001b[1mdebug    \u001b[0m] \u001b[1mLoaded regex pattern          \u001b[0m \u001b[36mgroup_name\u001b[0m=\u001b[35mCREDIT_CARD\u001b[0m\n",
      "\u001b[2m2024-06-10 23:41:12\u001b[0m [\u001b[32m\u001b[1mdebug    \u001b[0m] \u001b[1mLoaded regex pattern          \u001b[0m \u001b[36mgroup_name\u001b[0m=\u001b[35mCREDIT_CARD\u001b[0m\n",
      "\u001b[2m2024-06-10 23:41:12\u001b[0m [\u001b[32m\u001b[1mdebug    \u001b[0m] \u001b[1mLoaded regex pattern          \u001b[0m \u001b[36mgroup_name\u001b[0m=\u001b[35mCREDIT_CARD\u001b[0m\n",
      "\u001b[2m2024-06-10 23:41:12\u001b[0m [\u001b[32m\u001b[1mdebug    \u001b[0m] \u001b[1mLoaded regex pattern          \u001b[0m \u001b[36mgroup_name\u001b[0m=\u001b[35mEMAIL_ADDRESS_RE\u001b[0m\n",
      "\u001b[2m2024-06-10 23:41:12\u001b[0m [\u001b[32m\u001b[1mdebug    \u001b[0m] \u001b[1mLoaded regex pattern          \u001b[0m \u001b[36mgroup_name\u001b[0m=\u001b[35mPHONE_NUMBER_ZH\u001b[0m\n",
      "\u001b[2m2024-06-10 23:41:12\u001b[0m [\u001b[32m\u001b[1mdebug    \u001b[0m] \u001b[1mLoaded regex pattern          \u001b[0m \u001b[36mgroup_name\u001b[0m=\u001b[35mEMAIL_ADDRESS_RE\u001b[0m\n",
      "\u001b[2m2024-06-10 23:41:12\u001b[0m [\u001b[32m\u001b[1mdebug    \u001b[0m] \u001b[1mLoaded regex pattern          \u001b[0m \u001b[36mgroup_name\u001b[0m=\u001b[35mEMAIL_ADDRESS_RE\u001b[0m\n",
      "\u001b[2m2024-06-10 23:41:12\u001b[0m [\u001b[32m\u001b[1mdebug    \u001b[0m] \u001b[1mLoaded regex pattern          \u001b[0m \u001b[36mgroup_name\u001b[0m=\u001b[35mEMAIL_ADDRESS_RE\u001b[0m\n",
      "\u001b[2m2024-06-10 23:41:12\u001b[0m [\u001b[32m\u001b[1mdebug    \u001b[0m] \u001b[1mLoaded regex pattern          \u001b[0m \u001b[36mgroup_name\u001b[0m=\u001b[35mEMAIL_ADDRESS_RE\u001b[0m\n",
      "\u001b[2m2024-06-10 23:41:12\u001b[0m [\u001b[32m\u001b[1mdebug    \u001b[0m] \u001b[1mLoaded regex pattern          \u001b[0m \u001b[36mgroup_name\u001b[0m=\u001b[35mPHONE_NUMBER_ZH\u001b[0m\n",
      "\u001b[2m2024-06-10 23:41:12\u001b[0m [\u001b[32m\u001b[1mdebug    \u001b[0m] \u001b[1mLoaded regex pattern          \u001b[0m \u001b[36mgroup_name\u001b[0m=\u001b[35mPHONE_NUMBER_WITH_EXT\u001b[0m\n",
      "\u001b[2m2024-06-10 23:41:12\u001b[0m [\u001b[32m\u001b[1mdebug    \u001b[0m] \u001b[1mLoaded regex pattern          \u001b[0m \u001b[36mgroup_name\u001b[0m=\u001b[35mPHONE_NUMBER_ZH\u001b[0m\n",
      "\u001b[2m2024-06-10 23:41:12\u001b[0m [\u001b[32m\u001b[1mdebug    \u001b[0m] \u001b[1mLoaded regex pattern          \u001b[0m \u001b[36mgroup_name\u001b[0m=\u001b[35mPHONE_NUMBER_ZH\u001b[0m\n",
      "\u001b[2m2024-06-10 23:41:12\u001b[0m [\u001b[32m\u001b[1mdebug    \u001b[0m] \u001b[1mLoaded regex pattern          \u001b[0m \u001b[36mgroup_name\u001b[0m=\u001b[35mPHONE_NUMBER_ZH\u001b[0m\n",
      "\u001b[2m2024-06-10 23:41:12\u001b[0m [\u001b[32m\u001b[1mdebug    \u001b[0m] \u001b[1mLoaded regex pattern          \u001b[0m \u001b[36mgroup_name\u001b[0m=\u001b[35mPHONE_NUMBER_ZH\u001b[0m\n",
      "\u001b[2m2024-06-10 23:41:12\u001b[0m [\u001b[32m\u001b[1mdebug    \u001b[0m] \u001b[1mLoaded regex pattern          \u001b[0m \u001b[36mgroup_name\u001b[0m=\u001b[35mPHONE_NUMBER_WITH_EXT\u001b[0m\n",
      "\u001b[2m2024-06-10 23:41:12\u001b[0m [\u001b[32m\u001b[1mdebug    \u001b[0m] \u001b[1mLoaded regex pattern          \u001b[0m \u001b[36mgroup_name\u001b[0m=\u001b[35mDATE_RE\u001b[0m\n",
      "\u001b[2m2024-06-10 23:41:12\u001b[0m [\u001b[32m\u001b[1mdebug    \u001b[0m] \u001b[1mLoaded regex pattern          \u001b[0m \u001b[36mgroup_name\u001b[0m=\u001b[35mPHONE_NUMBER_WITH_EXT\u001b[0m\n",
      "\u001b[2m2024-06-10 23:41:12\u001b[0m [\u001b[32m\u001b[1mdebug    \u001b[0m] \u001b[1mLoaded regex pattern          \u001b[0m \u001b[36mgroup_name\u001b[0m=\u001b[35mPHONE_NUMBER_WITH_EXT\u001b[0m\n",
      "\u001b[2m2024-06-10 23:41:12\u001b[0m [\u001b[32m\u001b[1mdebug    \u001b[0m] \u001b[1mLoaded regex pattern          \u001b[0m \u001b[36mgroup_name\u001b[0m=\u001b[35mPHONE_NUMBER_WITH_EXT\u001b[0m\n",
      "\u001b[2m2024-06-10 23:41:12\u001b[0m [\u001b[32m\u001b[1mdebug    \u001b[0m] \u001b[1mLoaded regex pattern          \u001b[0m \u001b[36mgroup_name\u001b[0m=\u001b[35mPHONE_NUMBER_WITH_EXT\u001b[0m\n",
      "\u001b[2m2024-06-10 23:41:12\u001b[0m [\u001b[32m\u001b[1mdebug    \u001b[0m] \u001b[1mLoaded regex pattern          \u001b[0m \u001b[36mgroup_name\u001b[0m=\u001b[35mDATE_RE\u001b[0m\n",
      "\u001b[2m2024-06-10 23:41:12\u001b[0m [\u001b[32m\u001b[1mdebug    \u001b[0m] \u001b[1mLoaded regex pattern          \u001b[0m \u001b[36mgroup_name\u001b[0m=\u001b[35mTIME_RE\u001b[0m\n",
      "\u001b[2m2024-06-10 23:41:12\u001b[0m [\u001b[32m\u001b[1mdebug    \u001b[0m] \u001b[1mLoaded regex pattern          \u001b[0m \u001b[36mgroup_name\u001b[0m=\u001b[35mDATE_RE\u001b[0m\n",
      "\u001b[2m2024-06-10 23:41:12\u001b[0m [\u001b[32m\u001b[1mdebug    \u001b[0m] \u001b[1mLoaded regex pattern          \u001b[0m \u001b[36mgroup_name\u001b[0m=\u001b[35mDATE_RE\u001b[0m\n",
      "\u001b[2m2024-06-10 23:41:12\u001b[0m [\u001b[32m\u001b[1mdebug    \u001b[0m] \u001b[1mLoaded regex pattern          \u001b[0m \u001b[36mgroup_name\u001b[0m=\u001b[35mDATE_RE\u001b[0m\n",
      "\u001b[2m2024-06-10 23:41:12\u001b[0m [\u001b[32m\u001b[1mdebug    \u001b[0m] \u001b[1mLoaded regex pattern          \u001b[0m \u001b[36mgroup_name\u001b[0m=\u001b[35mDATE_RE\u001b[0m\n",
      "\u001b[2m2024-06-10 23:41:12\u001b[0m [\u001b[32m\u001b[1mdebug    \u001b[0m] \u001b[1mLoaded regex pattern          \u001b[0m \u001b[36mgroup_name\u001b[0m=\u001b[35mTIME_RE\u001b[0m\n",
      "\u001b[2m2024-06-10 23:41:12\u001b[0m [\u001b[32m\u001b[1mdebug    \u001b[0m] \u001b[1mLoaded regex pattern          \u001b[0m \u001b[36mgroup_name\u001b[0m=\u001b[35mHEX_COLOR\u001b[0m\n",
      "\u001b[2m2024-06-10 23:41:12\u001b[0m [\u001b[32m\u001b[1mdebug    \u001b[0m] \u001b[1mLoaded regex pattern          \u001b[0m \u001b[36mgroup_name\u001b[0m=\u001b[35mTIME_RE\u001b[0m\n",
      "\u001b[2m2024-06-10 23:41:12\u001b[0m [\u001b[32m\u001b[1mdebug    \u001b[0m] \u001b[1mLoaded regex pattern          \u001b[0m \u001b[36mgroup_name\u001b[0m=\u001b[35mTIME_RE\u001b[0m\n",
      "\u001b[2m2024-06-10 23:41:12\u001b[0m [\u001b[32m\u001b[1mdebug    \u001b[0m] \u001b[1mLoaded regex pattern          \u001b[0m \u001b[36mgroup_name\u001b[0m=\u001b[35mHEX_COLOR\u001b[0m\n",
      "\u001b[2m2024-06-10 23:41:12\u001b[0m [\u001b[32m\u001b[1mdebug    \u001b[0m] \u001b[1mLoaded regex pattern          \u001b[0m \u001b[36mgroup_name\u001b[0m=\u001b[35mTIME_RE\u001b[0m\n",
      "\u001b[2m2024-06-10 23:41:12\u001b[0m [\u001b[32m\u001b[1mdebug    \u001b[0m] \u001b[1mLoaded regex pattern          \u001b[0m \u001b[36mgroup_name\u001b[0m=\u001b[35mHEX_COLOR\u001b[0m\n",
      "\u001b[2m2024-06-10 23:41:12\u001b[0m [\u001b[32m\u001b[1mdebug    \u001b[0m] \u001b[1mLoaded regex pattern          \u001b[0m \u001b[36mgroup_name\u001b[0m=\u001b[35mPRICE_RE\u001b[0m\n",
      "\u001b[2m2024-06-10 23:41:12\u001b[0m [\u001b[32m\u001b[1mdebug    \u001b[0m] \u001b[1mLoaded regex pattern          \u001b[0m \u001b[36mgroup_name\u001b[0m=\u001b[35mHEX_COLOR\u001b[0m\n",
      "\u001b[2m2024-06-10 23:41:12\u001b[0m [\u001b[32m\u001b[1mdebug    \u001b[0m] \u001b[1mLoaded regex pattern          \u001b[0m \u001b[36mgroup_name\u001b[0m=\u001b[35mTIME_RE\u001b[0m\n",
      "\u001b[2m2024-06-10 23:41:12\u001b[0m [\u001b[32m\u001b[1mdebug    \u001b[0m] \u001b[1mLoaded regex pattern          \u001b[0m \u001b[36mgroup_name\u001b[0m=\u001b[35mPRICE_RE\u001b[0m\n",
      "\u001b[2m2024-06-10 23:41:12\u001b[0m [\u001b[32m\u001b[1mdebug    \u001b[0m] \u001b[1mLoaded regex pattern          \u001b[0m \u001b[36mgroup_name\u001b[0m=\u001b[35mHEX_COLOR\u001b[0m\n",
      "\u001b[2m2024-06-10 23:41:12\u001b[0m [\u001b[32m\u001b[1mdebug    \u001b[0m] \u001b[1mLoaded regex pattern          \u001b[0m \u001b[36mgroup_name\u001b[0m=\u001b[35mPRICE_RE\u001b[0m\n",
      "\u001b[2m2024-06-10 23:41:12\u001b[0m [\u001b[32m\u001b[1mdebug    \u001b[0m] \u001b[1mLoaded regex pattern          \u001b[0m \u001b[36mgroup_name\u001b[0m=\u001b[35mPO_BOX_RE\u001b[0m\n",
      "\u001b[2m2024-06-10 23:41:12\u001b[0m [\u001b[32m\u001b[1mdebug    \u001b[0m] \u001b[1mLoaded regex pattern          \u001b[0m \u001b[36mgroup_name\u001b[0m=\u001b[35mPRICE_RE\u001b[0m\n",
      "\u001b[2m2024-06-10 23:41:12\u001b[0m [\u001b[32m\u001b[1mdebug    \u001b[0m] \u001b[1mLoaded regex pattern          \u001b[0m \u001b[36mgroup_name\u001b[0m=\u001b[35mHEX_COLOR\u001b[0m\n",
      "\u001b[2m2024-06-10 23:41:12\u001b[0m [\u001b[32m\u001b[1mdebug    \u001b[0m] \u001b[1mLoaded regex pattern          \u001b[0m \u001b[36mgroup_name\u001b[0m=\u001b[35mPO_BOX_RE\u001b[0m\n",
      "\u001b[2m2024-06-10 23:41:12\u001b[0m [\u001b[32m\u001b[1mdebug    \u001b[0m] \u001b[1mLoaded regex pattern          \u001b[0m \u001b[36mgroup_name\u001b[0m=\u001b[35mPRICE_RE\u001b[0m\n",
      "\u001b[2m2024-06-10 23:41:12\u001b[0m [\u001b[32m\u001b[1mdebug    \u001b[0m] \u001b[1mLoaded regex pattern          \u001b[0m \u001b[36mgroup_name\u001b[0m=\u001b[35mPO_BOX_RE\u001b[0m\n",
      "\u001b[2m2024-06-10 23:41:12\u001b[0m [\u001b[32m\u001b[1mdebug    \u001b[0m] \u001b[1mLoaded regex pattern          \u001b[0m \u001b[36mgroup_name\u001b[0m=\u001b[35mPO_BOX_RE\u001b[0m\n",
      "\u001b[2m2024-06-10 23:41:12\u001b[0m [\u001b[32m\u001b[1mdebug    \u001b[0m] \u001b[1mLoaded regex pattern          \u001b[0m \u001b[36mgroup_name\u001b[0m=\u001b[35mPRICE_RE\u001b[0m\n",
      "\u001b[2m2024-06-10 23:41:12\u001b[0m [\u001b[32m\u001b[1mdebug    \u001b[0m] \u001b[1mLoaded regex pattern          \u001b[0m \u001b[36mgroup_name\u001b[0m=\u001b[35mPO_BOX_RE\u001b[0m\n",
      "\u001b[2m2024-06-10 23:41:12\u001b[0m [\u001b[32m\u001b[1mdebug    \u001b[0m] \u001b[1mLoaded regex pattern          \u001b[0m \u001b[36mgroup_name\u001b[0m=\u001b[35mPO_BOX_RE\u001b[0m\n"
     ]
    },
    {
     "name": "stderr",
     "output_type": "stream",
     "text": [
      "Scoring responses: 100%|██████████| 1/1 [00:11<00:00, 11.44s/it]\n"
     ]
    },
    {
     "name": "stdout",
     "output_type": "stream",
     "text": [
      "\u001b[2m2024-06-10 23:41:20\u001b[0m [\u001b[32m\u001b[1mdebug    \u001b[0m] \u001b[1mInitialized classification model\u001b[0m \u001b[36mdevice\u001b[0m=\u001b[35mdevice(type='mps')\u001b[0m \u001b[36mmodel\u001b[0m=\u001b[35mModel(path='ProtectAI/distilroberta-base-rejection-v1', subfolder='', revision='65584967c3f22ff7723e5370c65e0e76791e6055', onnx_path='ProtectAI/distilroberta-base-rejection-v1', onnx_revision='65584967c3f22ff7723e5370c65e0e76791e6055', onnx_subfolder='onnx', onnx_filename='model.onnx', kwargs={}, pipeline_kwargs={'batch_size': 1, 'device': device(type='mps'), 'return_token_type_ids': False, 'max_length': 128, 'truncation': True}, tokenizer_kwargs={})\u001b[0m\n",
      "\u001b[2m2024-06-10 23:41:32\u001b[0m [\u001b[32m\u001b[1mdebug    \u001b[0m] \u001b[1mNo rejection detected         \u001b[0m \u001b[36mhighest_score\u001b[0m=\u001b[35m0.05\u001b[0m\n",
      "\u001b[2m2024-06-10 23:41:32\u001b[0m [\u001b[32m\u001b[1mdebug    \u001b[0m] \u001b[1mNo rejection detected         \u001b[0m \u001b[36mhighest_score\u001b[0m=\u001b[35m0.0\u001b[0m\n",
      "\u001b[2m2024-06-10 23:41:32\u001b[0m [\u001b[32m\u001b[1mdebug    \u001b[0m] \u001b[1mNo rejection detected         \u001b[0m \u001b[36mhighest_score\u001b[0m=\u001b[35m0.0\u001b[0m\n",
      "\u001b[2m2024-06-10 23:41:32\u001b[0m [\u001b[32m\u001b[1mdebug    \u001b[0m] \u001b[1mScanner completed             \u001b[0m \u001b[36melapsed_time_seconds\u001b[0m=\u001b[35m15.559175\u001b[0m \u001b[36mis_valid\u001b[0m=\u001b[35mTrue\u001b[0m \u001b[36mscanner\u001b[0m=\u001b[35mNoRefusal\u001b[0m\n",
      "\u001b[2m2024-06-10 23:41:32\u001b[0m [\u001b[32m\u001b[1mdebug    \u001b[0m] \u001b[1mScanner completed             \u001b[0m \u001b[36melapsed_time_seconds\u001b[0m=\u001b[35m15.575551\u001b[0m \u001b[36mis_valid\u001b[0m=\u001b[35mTrue\u001b[0m \u001b[36mscanner\u001b[0m=\u001b[35mNoRefusal\u001b[0m\n",
      "\u001b[2m2024-06-10 23:41:32\u001b[0m [\u001b[32m\u001b[1mdebug    \u001b[0m] \u001b[1mScanner completed             \u001b[0m \u001b[36melapsed_time_seconds\u001b[0m=\u001b[35m15.577451\u001b[0m \u001b[36mis_valid\u001b[0m=\u001b[35mTrue\u001b[0m \u001b[36mscanner\u001b[0m=\u001b[35mNoRefusal\u001b[0m\n",
      "\u001b[2m2024-06-10 23:41:32\u001b[0m [\u001b[32m\u001b[1mdebug    \u001b[0m] \u001b[1mNo rejection detected         \u001b[0m \u001b[36mhighest_score\u001b[0m=\u001b[35m0.0\u001b[0m\n",
      "\u001b[2m2024-06-10 23:41:32\u001b[0m [\u001b[32m\u001b[1mdebug    \u001b[0m] \u001b[1mNo rejection detected         \u001b[0m \u001b[36mhighest_score\u001b[0m=\u001b[35m0.0\u001b[0m\n",
      "\u001b[2m2024-06-10 23:41:32\u001b[0m [\u001b[32m\u001b[1mdebug    \u001b[0m] \u001b[1mScanner completed             \u001b[0m \u001b[36melapsed_time_seconds\u001b[0m=\u001b[35m15.698867\u001b[0m \u001b[36mis_valid\u001b[0m=\u001b[35mTrue\u001b[0m \u001b[36mscanner\u001b[0m=\u001b[35mNoRefusal\u001b[0m\n",
      "\u001b[2m2024-06-10 23:41:32\u001b[0m [\u001b[32m\u001b[1mdebug    \u001b[0m] \u001b[1mScanner completed             \u001b[0m \u001b[36melapsed_time_seconds\u001b[0m=\u001b[35m15.691889\u001b[0m \u001b[36mis_valid\u001b[0m=\u001b[35mTrue\u001b[0m \u001b[36mscanner\u001b[0m=\u001b[35mNoRefusal\u001b[0m\n",
      "\u001b[2m2024-06-10 23:41:32\u001b[0m [\u001b[32m\u001b[1mdebug    \u001b[0m] \u001b[1mNo rejection detected         \u001b[0m \u001b[36mhighest_score\u001b[0m=\u001b[35m0.0\u001b[0m\n",
      "\u001b[2m2024-06-10 23:41:32\u001b[0m [\u001b[32m\u001b[1mdebug    \u001b[0m] \u001b[1mScanner completed             \u001b[0m \u001b[36melapsed_time_seconds\u001b[0m=\u001b[35m15.87625\u001b[0m \u001b[36mis_valid\u001b[0m=\u001b[35mTrue\u001b[0m \u001b[36mscanner\u001b[0m=\u001b[35mNoRefusal\u001b[0m\n",
      "\u001b[2m2024-06-10 23:41:32\u001b[0m [\u001b[32m\u001b[1mdebug    \u001b[0m] \u001b[1mInitialized model             \u001b[0m \u001b[36mdevice\u001b[0m=\u001b[35mdevice(type='mps')\u001b[0m \u001b[36mmodel\u001b[0m=\u001b[35mModel(path='BAAI/bge-base-en-v1.5', subfolder='', revision='a5beb1e3e68b9ab74eb54cfd186867f64f240e1a', onnx_path='BAAI/bge-base-en-v1.5', onnx_revision='a5beb1e3e68b9ab74eb54cfd186867f64f240e1a', onnx_subfolder='onnx', onnx_filename='model.onnx', kwargs={}, pipeline_kwargs={'batch_size': 1, 'device': device(type='mps')}, tokenizer_kwargs={})\u001b[0m\n",
      "\u001b[2m2024-06-10 23:41:32\u001b[0m [\u001b[32m\u001b[1mdebug    \u001b[0m] \u001b[1mInitialized model             \u001b[0m \u001b[36mdevice\u001b[0m=\u001b[35mdevice(type='mps')\u001b[0m \u001b[36mmodel\u001b[0m=\u001b[35mModel(path='BAAI/bge-base-en-v1.5', subfolder='', revision='a5beb1e3e68b9ab74eb54cfd186867f64f240e1a', onnx_path='BAAI/bge-base-en-v1.5', onnx_revision='a5beb1e3e68b9ab74eb54cfd186867f64f240e1a', onnx_subfolder='onnx', onnx_filename='model.onnx', kwargs={}, pipeline_kwargs={'batch_size': 1, 'device': device(type='mps')}, tokenizer_kwargs={})\u001b[0m\n",
      "\u001b[2m2024-06-10 23:41:32\u001b[0m [\u001b[32m\u001b[1mdebug    \u001b[0m] \u001b[1mNo entity types provided, using default\u001b[0m \u001b[36mdefault_entity_types\u001b[0m=\u001b[35m['CREDIT_CARD', 'CRYPTO', 'EMAIL_ADDRESS', 'IBAN_CODE', 'IP_ADDRESS', 'PERSON', 'PHONE_NUMBER', 'US_SSN', 'US_BANK_NUMBER', 'CREDIT_CARD_RE', 'UUID', 'EMAIL_ADDRESS_RE', 'US_SSN_RE']\u001b[0m\n",
      "\u001b[2m2024-06-10 23:41:32\u001b[0m [\u001b[32m\u001b[1mdebug    \u001b[0m] \u001b[1mNo entity types provided, using default\u001b[0m \u001b[36mdefault_entity_types\u001b[0m=\u001b[35m['CREDIT_CARD', 'CRYPTO', 'EMAIL_ADDRESS', 'IBAN_CODE', 'IP_ADDRESS', 'PERSON', 'PHONE_NUMBER', 'US_SSN', 'US_BANK_NUMBER', 'CREDIT_CARD_RE', 'UUID', 'EMAIL_ADDRESS_RE', 'US_SSN_RE']\u001b[0m\n",
      "\u001b[2m2024-06-10 23:41:37\u001b[0m [\u001b[32m\u001b[1mdebug    \u001b[0m] \u001b[1mInitialized NER model         \u001b[0m \u001b[36mdevice\u001b[0m=\u001b[35mdevice(type='mps')\u001b[0m \u001b[36mmodel\u001b[0m=\u001b[35mModel(path='Isotonic/deberta-v3-base_finetuned_ai4privacy_v2', subfolder='', revision='9ea992753ab2686be4a8f64605ccc7be197ad794', onnx_path='Isotonic/deberta-v3-base_finetuned_ai4privacy_v2', onnx_revision='9ea992753ab2686be4a8f64605ccc7be197ad794', onnx_subfolder='onnx', onnx_filename='model.onnx', kwargs={}, pipeline_kwargs={'batch_size': 1, 'device': device(type='mps'), 'aggregation_strategy': 'simple', 'ignore_labels': ['O', 'CARDINAL']}, tokenizer_kwargs={'model_input_names': ['input_ids', 'attention_mask']})\u001b[0m\n",
      "\u001b[2m2024-06-10 23:41:37\u001b[0m [\u001b[32m\u001b[1mdebug    \u001b[0m] \u001b[1mInitialized NER model         \u001b[0m \u001b[36mdevice\u001b[0m=\u001b[35mdevice(type='mps')\u001b[0m \u001b[36mmodel\u001b[0m=\u001b[35mModel(path='Isotonic/deberta-v3-base_finetuned_ai4privacy_v2', subfolder='', revision='9ea992753ab2686be4a8f64605ccc7be197ad794', onnx_path='Isotonic/deberta-v3-base_finetuned_ai4privacy_v2', onnx_revision='9ea992753ab2686be4a8f64605ccc7be197ad794', onnx_subfolder='onnx', onnx_filename='model.onnx', kwargs={}, pipeline_kwargs={'batch_size': 1, 'device': device(type='mps'), 'aggregation_strategy': 'simple', 'ignore_labels': ['O', 'CARDINAL']}, tokenizer_kwargs={'model_input_names': ['input_ids', 'attention_mask']})\u001b[0m\n",
      "\u001b[2m2024-06-10 23:41:44\u001b[0m [\u001b[32m\u001b[1mdebug    \u001b[0m] \u001b[1mInitialized model             \u001b[0m \u001b[36mdevice\u001b[0m=\u001b[35mdevice(type='mps')\u001b[0m \u001b[36mmodel\u001b[0m=\u001b[35mModel(path='BAAI/bge-base-en-v1.5', subfolder='', revision='a5beb1e3e68b9ab74eb54cfd186867f64f240e1a', onnx_path='BAAI/bge-base-en-v1.5', onnx_revision='a5beb1e3e68b9ab74eb54cfd186867f64f240e1a', onnx_subfolder='onnx', onnx_filename='model.onnx', kwargs={}, pipeline_kwargs={'batch_size': 1, 'device': device(type='mps')}, tokenizer_kwargs={})\u001b[0m\n",
      "\u001b[2m2024-06-10 23:41:44\u001b[0m [\u001b[32m\u001b[1mdebug    \u001b[0m] \u001b[1mNo entity types provided, using default\u001b[0m \u001b[36mdefault_entity_types\u001b[0m=\u001b[35m['CREDIT_CARD', 'CRYPTO', 'EMAIL_ADDRESS', 'IBAN_CODE', 'IP_ADDRESS', 'PERSON', 'PHONE_NUMBER', 'US_SSN', 'US_BANK_NUMBER', 'CREDIT_CARD_RE', 'UUID', 'EMAIL_ADDRESS_RE', 'US_SSN_RE']\u001b[0m\n",
      "\u001b[2m2024-06-10 23:41:46\u001b[0m [\u001b[32m\u001b[1mdebug    \u001b[0m] \u001b[1mInitialized NER model         \u001b[0m \u001b[36mdevice\u001b[0m=\u001b[35mdevice(type='mps')\u001b[0m \u001b[36mmodel\u001b[0m=\u001b[35mModel(path='Isotonic/deberta-v3-base_finetuned_ai4privacy_v2', subfolder='', revision='9ea992753ab2686be4a8f64605ccc7be197ad794', onnx_path='Isotonic/deberta-v3-base_finetuned_ai4privacy_v2', onnx_revision='9ea992753ab2686be4a8f64605ccc7be197ad794', onnx_subfolder='onnx', onnx_filename='model.onnx', kwargs={}, pipeline_kwargs={'batch_size': 1, 'device': device(type='mps'), 'aggregation_strategy': 'simple', 'ignore_labels': ['O', 'CARDINAL']}, tokenizer_kwargs={'model_input_names': ['input_ids', 'attention_mask']})\u001b[0m\n",
      "\u001b[2m2024-06-10 23:41:48\u001b[0m [\u001b[32m\u001b[1mdebug    \u001b[0m] \u001b[1mLoaded regex pattern          \u001b[0m \u001b[36mgroup_name\u001b[0m=\u001b[35mCREDIT_CARD_RE\u001b[0m\n",
      "\u001b[2m2024-06-10 23:41:48\u001b[0m [\u001b[32m\u001b[1mdebug    \u001b[0m] \u001b[1mLoaded regex pattern          \u001b[0m \u001b[36mgroup_name\u001b[0m=\u001b[35mCREDIT_CARD_RE\u001b[0m\n",
      "\u001b[2m2024-06-10 23:41:48\u001b[0m [\u001b[32m\u001b[1mdebug    \u001b[0m] \u001b[1mLoaded regex pattern          \u001b[0m \u001b[36mgroup_name\u001b[0m=\u001b[35mUUID\u001b[0m\n",
      "\u001b[2m2024-06-10 23:41:48\u001b[0m [\u001b[32m\u001b[1mdebug    \u001b[0m] \u001b[1mLoaded regex pattern          \u001b[0m \u001b[36mgroup_name\u001b[0m=\u001b[35mUUID\u001b[0m\n",
      "\u001b[2m2024-06-10 23:41:48\u001b[0m [\u001b[32m\u001b[1mdebug    \u001b[0m] \u001b[1mLoaded regex pattern          \u001b[0m \u001b[36mgroup_name\u001b[0m=\u001b[35mEMAIL_ADDRESS_RE\u001b[0m\n",
      "\u001b[2m2024-06-10 23:41:48\u001b[0m [\u001b[32m\u001b[1mdebug    \u001b[0m] \u001b[1mLoaded regex pattern          \u001b[0m \u001b[36mgroup_name\u001b[0m=\u001b[35mEMAIL_ADDRESS_RE\u001b[0m\n",
      "\u001b[2m2024-06-10 23:41:48\u001b[0m [\u001b[32m\u001b[1mdebug    \u001b[0m] \u001b[1mLoaded regex pattern          \u001b[0m \u001b[36mgroup_name\u001b[0m=\u001b[35mUS_SSN_RE\u001b[0m\n",
      "\u001b[2m2024-06-10 23:41:48\u001b[0m [\u001b[32m\u001b[1mdebug    \u001b[0m] \u001b[1mLoaded regex pattern          \u001b[0m \u001b[36mgroup_name\u001b[0m=\u001b[35mUS_SSN_RE\u001b[0m\n",
      "\u001b[2m2024-06-10 23:41:48\u001b[0m [\u001b[32m\u001b[1mdebug    \u001b[0m] \u001b[1mLoaded regex pattern          \u001b[0m \u001b[36mgroup_name\u001b[0m=\u001b[35mBTC_ADDRESS\u001b[0m\n",
      "\u001b[2m2024-06-10 23:41:48\u001b[0m [\u001b[32m\u001b[1mdebug    \u001b[0m] \u001b[1mLoaded regex pattern          \u001b[0m \u001b[36mgroup_name\u001b[0m=\u001b[35mBTC_ADDRESS\u001b[0m\n",
      "\u001b[2m2024-06-10 23:41:48\u001b[0m [\u001b[32m\u001b[1mdebug    \u001b[0m] \u001b[1mLoaded regex pattern          \u001b[0m \u001b[36mgroup_name\u001b[0m=\u001b[35mURL_RE\u001b[0m\n",
      "\u001b[2m2024-06-10 23:41:48\u001b[0m [\u001b[32m\u001b[1mdebug    \u001b[0m] \u001b[1mLoaded regex pattern          \u001b[0m \u001b[36mgroup_name\u001b[0m=\u001b[35mURL_RE\u001b[0m\n",
      "\u001b[2m2024-06-10 23:41:48\u001b[0m [\u001b[32m\u001b[1mdebug    \u001b[0m] \u001b[1mLoaded regex pattern          \u001b[0m \u001b[36mgroup_name\u001b[0m=\u001b[35mCREDIT_CARD\u001b[0m\n",
      "\u001b[2m2024-06-10 23:41:48\u001b[0m [\u001b[32m\u001b[1mdebug    \u001b[0m] \u001b[1mLoaded regex pattern          \u001b[0m \u001b[36mgroup_name\u001b[0m=\u001b[35mCREDIT_CARD\u001b[0m\n",
      "\u001b[2m2024-06-10 23:41:48\u001b[0m [\u001b[32m\u001b[1mdebug    \u001b[0m] \u001b[1mLoaded regex pattern          \u001b[0m \u001b[36mgroup_name\u001b[0m=\u001b[35mEMAIL_ADDRESS_RE\u001b[0m\n",
      "\u001b[2m2024-06-10 23:41:48\u001b[0m [\u001b[32m\u001b[1mdebug    \u001b[0m] \u001b[1mLoaded regex pattern          \u001b[0m \u001b[36mgroup_name\u001b[0m=\u001b[35mEMAIL_ADDRESS_RE\u001b[0m\n",
      "\u001b[2m2024-06-10 23:41:48\u001b[0m [\u001b[32m\u001b[1mdebug    \u001b[0m] \u001b[1mLoaded regex pattern          \u001b[0m \u001b[36mgroup_name\u001b[0m=\u001b[35mPHONE_NUMBER_ZH\u001b[0m\n",
      "\u001b[2m2024-06-10 23:41:48\u001b[0m [\u001b[32m\u001b[1mdebug    \u001b[0m] \u001b[1mLoaded regex pattern          \u001b[0m \u001b[36mgroup_name\u001b[0m=\u001b[35mPHONE_NUMBER_ZH\u001b[0m\n",
      "\u001b[2m2024-06-10 23:41:48\u001b[0m [\u001b[32m\u001b[1mdebug    \u001b[0m] \u001b[1mLoaded regex pattern          \u001b[0m \u001b[36mgroup_name\u001b[0m=\u001b[35mPHONE_NUMBER_WITH_EXT\u001b[0m\n",
      "\u001b[2m2024-06-10 23:41:48\u001b[0m [\u001b[32m\u001b[1mdebug    \u001b[0m] \u001b[1mLoaded regex pattern          \u001b[0m \u001b[36mgroup_name\u001b[0m=\u001b[35mPHONE_NUMBER_WITH_EXT\u001b[0m\n",
      "\u001b[2m2024-06-10 23:41:48\u001b[0m [\u001b[32m\u001b[1mdebug    \u001b[0m] \u001b[1mLoaded regex pattern          \u001b[0m \u001b[36mgroup_name\u001b[0m=\u001b[35mDATE_RE\u001b[0m\n",
      "\u001b[2m2024-06-10 23:41:48\u001b[0m [\u001b[32m\u001b[1mdebug    \u001b[0m] \u001b[1mLoaded regex pattern          \u001b[0m \u001b[36mgroup_name\u001b[0m=\u001b[35mDATE_RE\u001b[0m\n",
      "\u001b[2m2024-06-10 23:41:48\u001b[0m [\u001b[32m\u001b[1mdebug    \u001b[0m] \u001b[1mLoaded regex pattern          \u001b[0m \u001b[36mgroup_name\u001b[0m=\u001b[35mTIME_RE\u001b[0m\n",
      "\u001b[2m2024-06-10 23:41:48\u001b[0m [\u001b[32m\u001b[1mdebug    \u001b[0m] \u001b[1mLoaded regex pattern          \u001b[0m \u001b[36mgroup_name\u001b[0m=\u001b[35mTIME_RE\u001b[0m\n",
      "\u001b[2m2024-06-10 23:41:48\u001b[0m [\u001b[32m\u001b[1mdebug    \u001b[0m] \u001b[1mLoaded regex pattern          \u001b[0m \u001b[36mgroup_name\u001b[0m=\u001b[35mHEX_COLOR\u001b[0m\n",
      "\u001b[2m2024-06-10 23:41:48\u001b[0m [\u001b[32m\u001b[1mdebug    \u001b[0m] \u001b[1mLoaded regex pattern          \u001b[0m \u001b[36mgroup_name\u001b[0m=\u001b[35mHEX_COLOR\u001b[0m\n",
      "\u001b[2m2024-06-10 23:41:48\u001b[0m [\u001b[32m\u001b[1mdebug    \u001b[0m] \u001b[1mLoaded regex pattern          \u001b[0m \u001b[36mgroup_name\u001b[0m=\u001b[35mPRICE_RE\u001b[0m\n",
      "\u001b[2m2024-06-10 23:41:48\u001b[0m [\u001b[32m\u001b[1mdebug    \u001b[0m] \u001b[1mLoaded regex pattern          \u001b[0m \u001b[36mgroup_name\u001b[0m=\u001b[35mPRICE_RE\u001b[0m\n",
      "\u001b[2m2024-06-10 23:41:48\u001b[0m [\u001b[32m\u001b[1mdebug    \u001b[0m] \u001b[1mLoaded regex pattern          \u001b[0m \u001b[36mgroup_name\u001b[0m=\u001b[35mPO_BOX_RE\u001b[0m\n",
      "\u001b[2m2024-06-10 23:41:48\u001b[0m [\u001b[32m\u001b[1mdebug    \u001b[0m] \u001b[1mLoaded regex pattern          \u001b[0m \u001b[36mgroup_name\u001b[0m=\u001b[35mPO_BOX_RE\u001b[0m\n",
      "\u001b[2m2024-06-10 23:42:03\u001b[0m [\u001b[32m\u001b[1mdebug    \u001b[0m] \u001b[1mLoaded regex pattern          \u001b[0m \u001b[36mgroup_name\u001b[0m=\u001b[35mCREDIT_CARD_RE\u001b[0m\n",
      "\u001b[2m2024-06-10 23:42:03\u001b[0m [\u001b[32m\u001b[1mdebug    \u001b[0m] \u001b[1mLoaded regex pattern          \u001b[0m \u001b[36mgroup_name\u001b[0m=\u001b[35mUUID\u001b[0m\n",
      "\u001b[2m2024-06-10 23:42:03\u001b[0m [\u001b[32m\u001b[1mdebug    \u001b[0m] \u001b[1mLoaded regex pattern          \u001b[0m \u001b[36mgroup_name\u001b[0m=\u001b[35mEMAIL_ADDRESS_RE\u001b[0m\n",
      "\u001b[2m2024-06-10 23:42:03\u001b[0m [\u001b[32m\u001b[1mdebug    \u001b[0m] \u001b[1mLoaded regex pattern          \u001b[0m \u001b[36mgroup_name\u001b[0m=\u001b[35mUS_SSN_RE\u001b[0m\n",
      "\u001b[2m2024-06-10 23:42:03\u001b[0m [\u001b[32m\u001b[1mdebug    \u001b[0m] \u001b[1mLoaded regex pattern          \u001b[0m \u001b[36mgroup_name\u001b[0m=\u001b[35mBTC_ADDRESS\u001b[0m\n",
      "\u001b[2m2024-06-10 23:42:03\u001b[0m [\u001b[32m\u001b[1mdebug    \u001b[0m] \u001b[1mLoaded regex pattern          \u001b[0m \u001b[36mgroup_name\u001b[0m=\u001b[35mURL_RE\u001b[0m\n",
      "\u001b[2m2024-06-10 23:42:03\u001b[0m [\u001b[32m\u001b[1mdebug    \u001b[0m] \u001b[1mLoaded regex pattern          \u001b[0m \u001b[36mgroup_name\u001b[0m=\u001b[35mCREDIT_CARD\u001b[0m\n",
      "\u001b[2m2024-06-10 23:42:03\u001b[0m [\u001b[32m\u001b[1mdebug    \u001b[0m] \u001b[1mLoaded regex pattern          \u001b[0m \u001b[36mgroup_name\u001b[0m=\u001b[35mEMAIL_ADDRESS_RE\u001b[0m\n",
      "\u001b[2m2024-06-10 23:42:03\u001b[0m [\u001b[32m\u001b[1mdebug    \u001b[0m] \u001b[1mLoaded regex pattern          \u001b[0m \u001b[36mgroup_name\u001b[0m=\u001b[35mPHONE_NUMBER_ZH\u001b[0m\n",
      "\u001b[2m2024-06-10 23:42:03\u001b[0m [\u001b[32m\u001b[1mdebug    \u001b[0m] \u001b[1mLoaded regex pattern          \u001b[0m \u001b[36mgroup_name\u001b[0m=\u001b[35mPHONE_NUMBER_WITH_EXT\u001b[0m\n",
      "\u001b[2m2024-06-10 23:42:03\u001b[0m [\u001b[32m\u001b[1mdebug    \u001b[0m] \u001b[1mLoaded regex pattern          \u001b[0m \u001b[36mgroup_name\u001b[0m=\u001b[35mDATE_RE\u001b[0m\n",
      "\u001b[2m2024-06-10 23:42:03\u001b[0m [\u001b[32m\u001b[1mdebug    \u001b[0m] \u001b[1mLoaded regex pattern          \u001b[0m \u001b[36mgroup_name\u001b[0m=\u001b[35mTIME_RE\u001b[0m\n",
      "\u001b[2m2024-06-10 23:42:03\u001b[0m [\u001b[32m\u001b[1mdebug    \u001b[0m] \u001b[1mLoaded regex pattern          \u001b[0m \u001b[36mgroup_name\u001b[0m=\u001b[35mHEX_COLOR\u001b[0m\n",
      "\u001b[2m2024-06-10 23:42:03\u001b[0m [\u001b[32m\u001b[1mdebug    \u001b[0m] \u001b[1mLoaded regex pattern          \u001b[0m \u001b[36mgroup_name\u001b[0m=\u001b[35mPRICE_RE\u001b[0m\n",
      "\u001b[2m2024-06-10 23:42:03\u001b[0m [\u001b[32m\u001b[1mdebug    \u001b[0m] \u001b[1mLoaded regex pattern          \u001b[0m \u001b[36mgroup_name\u001b[0m=\u001b[35mPO_BOX_RE\u001b[0m\n",
      "\u001b[2m2024-06-10 23:42:15\u001b[0m [\u001b[32m\u001b[1mdebug    \u001b[0m] \u001b[1mNo rejection detected         \u001b[0m \u001b[36mhighest_score\u001b[0m=\u001b[35m0.0\u001b[0m\n",
      "\u001b[2m2024-06-10 23:42:15\u001b[0m [\u001b[32m\u001b[1mdebug    \u001b[0m] \u001b[1mScanner completed             \u001b[0m \u001b[36melapsed_time_seconds\u001b[0m=\u001b[35m25.730315\u001b[0m \u001b[36mis_valid\u001b[0m=\u001b[35mTrue\u001b[0m \u001b[36mscanner\u001b[0m=\u001b[35mNoRefusal\u001b[0m\n",
      "\u001b[2m2024-06-10 23:42:15\u001b[0m [\u001b[32m\u001b[1mdebug    \u001b[0m] \u001b[1mNo rejection detected         \u001b[0m \u001b[36mhighest_score\u001b[0m=\u001b[35m0.0\u001b[0m\n",
      "\u001b[2m2024-06-10 23:42:15\u001b[0m [\u001b[32m\u001b[1mdebug    \u001b[0m] \u001b[1mScanner completed             \u001b[0m \u001b[36melapsed_time_seconds\u001b[0m=\u001b[35m25.92653\u001b[0m \u001b[36mis_valid\u001b[0m=\u001b[35mTrue\u001b[0m \u001b[36mscanner\u001b[0m=\u001b[35mNoRefusal\u001b[0m\n",
      "\u001b[2m2024-06-10 23:42:22\u001b[0m [\u001b[32m\u001b[1mdebug    \u001b[0m] \u001b[1mResult is similar to the prompt\u001b[0m \u001b[36msimilarity_score\u001b[0m=\u001b[35m0.8794174\u001b[0m\n",
      "\u001b[2m2024-06-10 23:42:22\u001b[0m [\u001b[32m\u001b[1mdebug    \u001b[0m] \u001b[1mResult is similar to the prompt\u001b[0m \u001b[36msimilarity_score\u001b[0m=\u001b[35m0.77483165\u001b[0m\n",
      "\u001b[2m2024-06-10 23:42:22\u001b[0m [\u001b[32m\u001b[1mdebug    \u001b[0m] \u001b[1mResult is similar to the prompt\u001b[0m \u001b[36msimilarity_score\u001b[0m=\u001b[35m0.7403106\u001b[0m\n",
      "\u001b[2m2024-06-10 23:42:22\u001b[0m [\u001b[32m\u001b[1mdebug    \u001b[0m] \u001b[1mResult is similar to the prompt\u001b[0m \u001b[36msimilarity_score\u001b[0m=\u001b[35m0.7370204\u001b[0m\n",
      "\u001b[2m2024-06-10 23:42:22\u001b[0m [\u001b[32m\u001b[1mdebug    \u001b[0m] \u001b[1mScanner completed             \u001b[0m \u001b[36melapsed_time_seconds\u001b[0m=\u001b[35m50.664529\u001b[0m \u001b[36mis_valid\u001b[0m=\u001b[35mTrue\u001b[0m \u001b[36mscanner\u001b[0m=\u001b[35mRelevance\u001b[0m\n",
      "\u001b[2m2024-06-10 23:42:22\u001b[0m [\u001b[32m\u001b[1mdebug    \u001b[0m] \u001b[1mScanner completed             \u001b[0m \u001b[36melapsed_time_seconds\u001b[0m=\u001b[35m50.774491\u001b[0m \u001b[36mis_valid\u001b[0m=\u001b[35mTrue\u001b[0m \u001b[36mscanner\u001b[0m=\u001b[35mRelevance\u001b[0m\n",
      "\u001b[2m2024-06-10 23:42:22\u001b[0m [\u001b[32m\u001b[1mdebug    \u001b[0m] \u001b[1mScanner completed             \u001b[0m \u001b[36melapsed_time_seconds\u001b[0m=\u001b[35m50.668135\u001b[0m \u001b[36mis_valid\u001b[0m=\u001b[35mTrue\u001b[0m \u001b[36mscanner\u001b[0m=\u001b[35mRelevance\u001b[0m\n",
      "\u001b[2m2024-06-10 23:42:22\u001b[0m [\u001b[32m\u001b[1mdebug    \u001b[0m] \u001b[1mScanner completed             \u001b[0m \u001b[36melapsed_time_seconds\u001b[0m=\u001b[35m50.777718\u001b[0m \u001b[36mis_valid\u001b[0m=\u001b[35mTrue\u001b[0m \u001b[36mscanner\u001b[0m=\u001b[35mRelevance\u001b[0m\n",
      "\u001b[2m2024-06-10 23:42:22\u001b[0m [\u001b[32m\u001b[1mdebug    \u001b[0m] \u001b[1mResult is similar to the prompt\u001b[0m \u001b[36msimilarity_score\u001b[0m=\u001b[35m0.8843143\u001b[0m\n",
      "\u001b[2m2024-06-10 23:42:22\u001b[0m [\u001b[32m\u001b[1mdebug    \u001b[0m] \u001b[1mResult is similar to the prompt\u001b[0m \u001b[36msimilarity_score\u001b[0m=\u001b[35m0.78431827\u001b[0m\n",
      "\u001b[2m2024-06-10 23:42:23\u001b[0m [\u001b[32m\u001b[1mdebug    \u001b[0m] \u001b[1mScanner completed             \u001b[0m \u001b[36melapsed_time_seconds\u001b[0m=\u001b[35m50.755717\u001b[0m \u001b[36mis_valid\u001b[0m=\u001b[35mTrue\u001b[0m \u001b[36mscanner\u001b[0m=\u001b[35mRelevance\u001b[0m\n",
      "\u001b[2m2024-06-10 23:42:23\u001b[0m [\u001b[32m\u001b[1mdebug    \u001b[0m] \u001b[1mScanner completed             \u001b[0m \u001b[36melapsed_time_seconds\u001b[0m=\u001b[35m51.047513\u001b[0m \u001b[36mis_valid\u001b[0m=\u001b[35mTrue\u001b[0m \u001b[36mscanner\u001b[0m=\u001b[35mRelevance\u001b[0m\n",
      "\u001b[2m2024-06-10 23:42:23\u001b[0m [\u001b[32m\u001b[1mdebug    \u001b[0m] \u001b[1mNo rejection detected         \u001b[0m \u001b[36mhighest_score\u001b[0m=\u001b[35m0.0\u001b[0m\n",
      "\u001b[2m2024-06-10 23:42:23\u001b[0m [\u001b[32m\u001b[1mdebug    \u001b[0m] \u001b[1mScanner completed             \u001b[0m \u001b[36melapsed_time_seconds\u001b[0m=\u001b[35m19.113069\u001b[0m \u001b[36mis_valid\u001b[0m=\u001b[35mTrue\u001b[0m \u001b[36mscanner\u001b[0m=\u001b[35mNoRefusal\u001b[0m\n"
     ]
    },
    {
     "name": "stderr",
     "output_type": "stream",
     "text": [
      "Asking to truncate to max_length but no maximum length is provided and the model has no predefined maximum length. Default to no truncation.\n",
      "Asking to truncate to max_length but no maximum length is provided and the model has no predefined maximum length. Default to no truncation.\n",
      "Asking to truncate to max_length but no maximum length is provided and the model has no predefined maximum length. Default to no truncation.\n",
      "Asking to truncate to max_length but no maximum length is provided and the model has no predefined maximum length. Default to no truncation.\n",
      "Asking to truncate to max_length but no maximum length is provided and the model has no predefined maximum length. Default to no truncation.\n",
      "Asking to truncate to max_length but no maximum length is provided and the model has no predefined maximum length. Default to no truncation.\n"
     ]
    },
    {
     "name": "stdout",
     "output_type": "stream",
     "text": [
      "\u001b[2m2024-06-10 23:42:45\u001b[0m [\u001b[32m\u001b[1mdebug    \u001b[0m] \u001b[1mResult is similar to the prompt\u001b[0m \u001b[36msimilarity_score\u001b[0m=\u001b[35m0.8046054\u001b[0m\n",
      "\u001b[2m2024-06-10 23:42:45\u001b[0m [\u001b[32m\u001b[1mdebug    \u001b[0m] \u001b[1mScanner completed             \u001b[0m \u001b[36melapsed_time_seconds\u001b[0m=\u001b[35m30.019465\u001b[0m \u001b[36mis_valid\u001b[0m=\u001b[35mTrue\u001b[0m \u001b[36mscanner\u001b[0m=\u001b[35mRelevance\u001b[0m\n"
     ]
    },
    {
     "name": "stderr",
     "output_type": "stream",
     "text": [
      "Asking to truncate to max_length but no maximum length is provided and the model has no predefined maximum length. Default to no truncation.\n"
     ]
    },
    {
     "name": "stdout",
     "output_type": "stream",
     "text": [
      "\u001b[2m2024-06-10 23:42:50\u001b[0m [\u001b[32m\u001b[1mdebug    \u001b[0m] \u001b[1mResult is similar to the prompt\u001b[0m \u001b[36msimilarity_score\u001b[0m=\u001b[35m0.83699644\u001b[0m\n",
      "\u001b[2m2024-06-10 23:42:50\u001b[0m [\u001b[32m\u001b[1mdebug    \u001b[0m] \u001b[1mScanner completed             \u001b[0m \u001b[36melapsed_time_seconds\u001b[0m=\u001b[35m35.301057\u001b[0m \u001b[36mis_valid\u001b[0m=\u001b[35mTrue\u001b[0m \u001b[36mscanner\u001b[0m=\u001b[35mRelevance\u001b[0m\n"
     ]
    },
    {
     "name": "stderr",
     "output_type": "stream",
     "text": [
      "Asking to truncate to max_length but no maximum length is provided and the model has no predefined maximum length. Default to no truncation.\n"
     ]
    },
    {
     "name": "stdout",
     "output_type": "stream",
     "text": [
      "\u001b[2m2024-06-10 23:43:11\u001b[0m [\u001b[32m\u001b[1mdebug    \u001b[0m] \u001b[1mResult is similar to the prompt\u001b[0m \u001b[36msimilarity_score\u001b[0m=\u001b[35m0.84559655\u001b[0m\n",
      "\u001b[2m2024-06-10 23:43:11\u001b[0m [\u001b[32m\u001b[1mdebug    \u001b[0m] \u001b[1mScanner completed             \u001b[0m \u001b[36melapsed_time_seconds\u001b[0m=\u001b[35m47.764896\u001b[0m \u001b[36mis_valid\u001b[0m=\u001b[35mTrue\u001b[0m \u001b[36mscanner\u001b[0m=\u001b[35mRelevance\u001b[0m\n"
     ]
    },
    {
     "name": "stderr",
     "output_type": "stream",
     "text": [
      "Asking to truncate to max_length but no maximum length is provided and the model has no predefined maximum length. Default to no truncation.\n"
     ]
    },
    {
     "name": "stdout",
     "output_type": "stream",
     "text": [
      "\u001b[2m2024-06-10 23:43:16\u001b[0m [\u001b[32m\u001b[1mdebug    \u001b[0m] \u001b[1mNo sensitive data found in the output\u001b[0m\n",
      "\u001b[2m2024-06-10 23:43:16\u001b[0m [\u001b[32m\u001b[1mdebug    \u001b[0m] \u001b[1mScanner completed             \u001b[0m \u001b[36melapsed_time_seconds\u001b[0m=\u001b[35m53.399463\u001b[0m \u001b[36mis_valid\u001b[0m=\u001b[35mTrue\u001b[0m \u001b[36mscanner\u001b[0m=\u001b[35mSensitive\u001b[0m\n",
      "\u001b[2m2024-06-10 23:43:16\u001b[0m [\u001b[32m\u001b[1minfo     \u001b[0m] \u001b[1mScanned output                \u001b[0m \u001b[36melapsed_time_seconds\u001b[0m=\u001b[35m119.820852\u001b[0m \u001b[36mscores\u001b[0m=\u001b[35m{'NoRefusal': 0.0, 'Relevance': 0.0, 'Sensitive': 0.0}\u001b[0m\n",
      "\u001b[2m2024-06-10 23:43:16\u001b[0m [\u001b[33m\u001b[1mwarning  \u001b[0m] \u001b[1mFound sensitive data in the output\u001b[0m \u001b[36mresults\u001b[0m=\u001b[35m[type: PERSON, start: 55, end: 58, score: 0.7200000286102295, type: PERSON, start: 58, end: 64, score: 0.6100000143051147]\u001b[0m\n",
      "\u001b[2m2024-06-10 23:43:16\u001b[0m [\u001b[32m\u001b[1mdebug    \u001b[0m] \u001b[1mScanner completed             \u001b[0m \u001b[36melapsed_time_seconds\u001b[0m=\u001b[35m53.295529\u001b[0m \u001b[36mis_valid\u001b[0m=\u001b[35mFalse\u001b[0m \u001b[36mscanner\u001b[0m=\u001b[35mSensitive\u001b[0m\n",
      "\u001b[2m2024-06-10 23:43:16\u001b[0m [\u001b[32m\u001b[1minfo     \u001b[0m] \u001b[1mScanned output                \u001b[0m \u001b[36melapsed_time_seconds\u001b[0m=\u001b[35m119.935433\u001b[0m \u001b[36mscores\u001b[0m=\u001b[35m{'NoRefusal': 0.0, 'Relevance': 0.0, 'Sensitive': 1.0}\u001b[0m\n",
      "\u001b[2m2024-06-10 23:43:16\u001b[0m [\u001b[32m\u001b[1mdebug    \u001b[0m] \u001b[1mIgnoring entity               \u001b[0m \u001b[36mentity_group\u001b[0m=\u001b[35mLOCATION\u001b[0m\n",
      "\u001b[2m2024-06-10 23:43:16\u001b[0m [\u001b[32m\u001b[1mdebug    \u001b[0m] \u001b[1mIgnoring entity               \u001b[0m \u001b[36mentity_group\u001b[0m=\u001b[35mLOCATION\u001b[0m\n",
      "\u001b[2m2024-06-10 23:43:16\u001b[0m [\u001b[32m\u001b[1mdebug    \u001b[0m] \u001b[1mIgnoring entity               \u001b[0m \u001b[36mentity_group\u001b[0m=\u001b[35mLOCATION\u001b[0m\n",
      "\u001b[2m2024-06-10 23:43:16\u001b[0m [\u001b[32m\u001b[1mdebug    \u001b[0m] \u001b[1mNo sensitive data found in the output\u001b[0m\n",
      "\u001b[2m2024-06-10 23:43:16\u001b[0m [\u001b[32m\u001b[1mdebug    \u001b[0m] \u001b[1mNo sensitive data found in the output\u001b[0m\n",
      "\u001b[2m2024-06-10 23:43:16\u001b[0m [\u001b[32m\u001b[1mdebug    \u001b[0m] \u001b[1mScanner completed             \u001b[0m \u001b[36melapsed_time_seconds\u001b[0m=\u001b[35m53.611589\u001b[0m \u001b[36mis_valid\u001b[0m=\u001b[35mTrue\u001b[0m \u001b[36mscanner\u001b[0m=\u001b[35mSensitive\u001b[0m\n",
      "\u001b[2m2024-06-10 23:43:16\u001b[0m [\u001b[32m\u001b[1mdebug    \u001b[0m] \u001b[1mScanner completed             \u001b[0m \u001b[36melapsed_time_seconds\u001b[0m=\u001b[35m53.41023\u001b[0m \u001b[36mis_valid\u001b[0m=\u001b[35mTrue\u001b[0m \u001b[36mscanner\u001b[0m=\u001b[35mSensitive\u001b[0m\n",
      "\u001b[2m2024-06-10 23:43:16\u001b[0m [\u001b[32m\u001b[1minfo     \u001b[0m] \u001b[1mScanned output                \u001b[0m \u001b[36melapsed_time_seconds\u001b[0m=\u001b[35m119.977561\u001b[0m \u001b[36mscores\u001b[0m=\u001b[35m{'NoRefusal': 0.0, 'Relevance': 0.0, 'Sensitive': 0.0}\u001b[0m\n",
      "\u001b[2m2024-06-10 23:43:16\u001b[0m [\u001b[32m\u001b[1minfo     \u001b[0m] \u001b[1mScanned output                \u001b[0m \u001b[36melapsed_time_seconds\u001b[0m=\u001b[35m119.969336\u001b[0m \u001b[36mscores\u001b[0m=\u001b[35m{'NoRefusal': 0.0, 'Relevance': 0.0, 'Sensitive': 0.0}\u001b[0m\n",
      "\u001b[2m2024-06-10 23:43:16\u001b[0m [\u001b[33m\u001b[1mwarning  \u001b[0m] \u001b[1mFound unrecognized label, returning entity as is\u001b[0m \u001b[36mlabel\u001b[0m=\u001b[35mCURRENCY\u001b[0m\n",
      "\u001b[2m2024-06-10 23:43:16\u001b[0m [\u001b[32m\u001b[1mdebug    \u001b[0m] \u001b[1mIgnoring entity               \u001b[0m \u001b[36mentity_group\u001b[0m=\u001b[35mCURRENCY\u001b[0m\n",
      "\u001b[2m2024-06-10 23:43:16\u001b[0m [\u001b[33m\u001b[1mwarning  \u001b[0m] \u001b[1mFound sensitive data in the output\u001b[0m \u001b[36mresults\u001b[0m=\u001b[35m[type: PERSON, start: 172, end: 174, score: 0.6899999976158142, type: PERSON, start: 174, end: 176, score: 0.6700000166893005]\u001b[0m\n",
      "\u001b[2m2024-06-10 23:43:16\u001b[0m [\u001b[32m\u001b[1mdebug    \u001b[0m] \u001b[1mScanner completed             \u001b[0m \u001b[36melapsed_time_seconds\u001b[0m=\u001b[35m53.521336\u001b[0m \u001b[36mis_valid\u001b[0m=\u001b[35mFalse\u001b[0m \u001b[36mscanner\u001b[0m=\u001b[35mSensitive\u001b[0m\n",
      "\u001b[2m2024-06-10 23:43:16\u001b[0m [\u001b[32m\u001b[1minfo     \u001b[0m] \u001b[1mScanned output                \u001b[0m \u001b[36melapsed_time_seconds\u001b[0m=\u001b[35m120.042774\u001b[0m \u001b[36mscores\u001b[0m=\u001b[35m{'NoRefusal': 0.0, 'Relevance': 0.0, 'Sensitive': 1.0}\u001b[0m\n",
      "\u001b[2m2024-06-10 23:43:17\u001b[0m [\u001b[32m\u001b[1mdebug    \u001b[0m] \u001b[1mIgnoring entity               \u001b[0m \u001b[36mentity_group\u001b[0m=\u001b[35mLOCATION\u001b[0m\n",
      "\u001b[2m2024-06-10 23:43:17\u001b[0m [\u001b[32m\u001b[1mdebug    \u001b[0m] \u001b[1mIgnoring entity               \u001b[0m \u001b[36mentity_group\u001b[0m=\u001b[35mLOCATION\u001b[0m\n",
      "\u001b[2m2024-06-10 23:43:17\u001b[0m [\u001b[32m\u001b[1mdebug    \u001b[0m] \u001b[1mIgnoring entity               \u001b[0m \u001b[36mentity_group\u001b[0m=\u001b[35mLOCATION\u001b[0m\n",
      "\u001b[2m2024-06-10 23:43:17\u001b[0m [\u001b[32m\u001b[1mdebug    \u001b[0m] \u001b[1mNo sensitive data found in the output\u001b[0m\n",
      "\u001b[2m2024-06-10 23:43:17\u001b[0m [\u001b[32m\u001b[1mdebug    \u001b[0m] \u001b[1mScanner completed             \u001b[0m \u001b[36melapsed_time_seconds\u001b[0m=\u001b[35m53.977706\u001b[0m \u001b[36mis_valid\u001b[0m=\u001b[35mTrue\u001b[0m \u001b[36mscanner\u001b[0m=\u001b[35mSensitive\u001b[0m\n",
      "\u001b[2m2024-06-10 23:43:17\u001b[0m [\u001b[32m\u001b[1minfo     \u001b[0m] \u001b[1mScanned output                \u001b[0m \u001b[36melapsed_time_seconds\u001b[0m=\u001b[35m120.656698\u001b[0m \u001b[36mscores\u001b[0m=\u001b[35m{'NoRefusal': 0.0, 'Relevance': 0.0, 'Sensitive': 0.0}\u001b[0m\n"
     ]
    },
    {
     "data": {
      "text/html": [
       "<pre style=\"white-space:pre;overflow-x:auto;line-height:normal;font-family:Menlo,'DejaVu Sans Mono',consolas,'Courier New',monospace\">Evaluated <span style=\"color: #008080; text-decoration-color: #008080; font-weight: bold\">2</span> of <span style=\"color: #008080; text-decoration-color: #008080; font-weight: bold\">10</span> examples\n",
       "</pre>\n"
      ],
      "text/plain": [
       "Evaluated \u001b[1;36m2\u001b[0m of \u001b[1;36m10\u001b[0m examples\n"
      ]
     },
     "metadata": {},
     "output_type": "display_data"
    },
    {
     "data": {
      "text/html": [
       "<pre style=\"white-space:pre;overflow-x:auto;line-height:normal;font-family:Menlo,'DejaVu Sans Mono',consolas,'Courier New',monospace\">Evaluated <span style=\"color: #008080; text-decoration-color: #008080; font-weight: bold\">3</span> of <span style=\"color: #008080; text-decoration-color: #008080; font-weight: bold\">10</span> examples\n",
       "</pre>\n"
      ],
      "text/plain": [
       "Evaluated \u001b[1;36m3\u001b[0m of \u001b[1;36m10\u001b[0m examples\n"
      ]
     },
     "metadata": {},
     "output_type": "display_data"
    },
    {
     "data": {
      "text/html": [
       "<pre style=\"white-space:pre;overflow-x:auto;line-height:normal;font-family:Menlo,'DejaVu Sans Mono',consolas,'Courier New',monospace\">Evaluated <span style=\"color: #008080; text-decoration-color: #008080; font-weight: bold\">4</span> of <span style=\"color: #008080; text-decoration-color: #008080; font-weight: bold\">10</span> examples\n",
       "</pre>\n"
      ],
      "text/plain": [
       "Evaluated \u001b[1;36m4\u001b[0m of \u001b[1;36m10\u001b[0m examples\n"
      ]
     },
     "metadata": {},
     "output_type": "display_data"
    },
    {
     "data": {
      "text/html": [
       "<pre style=\"white-space:pre;overflow-x:auto;line-height:normal;font-family:Menlo,'DejaVu Sans Mono',consolas,'Courier New',monospace\">Evaluated <span style=\"color: #008080; text-decoration-color: #008080; font-weight: bold\">5</span> of <span style=\"color: #008080; text-decoration-color: #008080; font-weight: bold\">10</span> examples\n",
       "</pre>\n"
      ],
      "text/plain": [
       "Evaluated \u001b[1;36m5\u001b[0m of \u001b[1;36m10\u001b[0m examples\n"
      ]
     },
     "metadata": {},
     "output_type": "display_data"
    },
    {
     "data": {
      "text/html": [
       "<pre style=\"white-space:pre;overflow-x:auto;line-height:normal;font-family:Menlo,'DejaVu Sans Mono',consolas,'Courier New',monospace\">Evaluated <span style=\"color: #008080; text-decoration-color: #008080; font-weight: bold\">6</span> of <span style=\"color: #008080; text-decoration-color: #008080; font-weight: bold\">10</span> examples\n",
       "</pre>\n"
      ],
      "text/plain": [
       "Evaluated \u001b[1;36m6\u001b[0m of \u001b[1;36m10\u001b[0m examples\n"
      ]
     },
     "metadata": {},
     "output_type": "display_data"
    },
    {
     "data": {
      "text/html": [
       "<pre style=\"white-space:pre;overflow-x:auto;line-height:normal;font-family:Menlo,'DejaVu Sans Mono',consolas,'Courier New',monospace\">Evaluated <span style=\"color: #008080; text-decoration-color: #008080; font-weight: bold\">7</span> of <span style=\"color: #008080; text-decoration-color: #008080; font-weight: bold\">10</span> examples\n",
       "</pre>\n"
      ],
      "text/plain": [
       "Evaluated \u001b[1;36m7\u001b[0m of \u001b[1;36m10\u001b[0m examples\n"
      ]
     },
     "metadata": {},
     "output_type": "display_data"
    },
    {
     "name": "stdout",
     "output_type": "stream",
     "text": [
      "\u001b[2m2024-06-10 23:43:31\u001b[0m [\u001b[33m\u001b[1mwarning  \u001b[0m] \u001b[1mFound unrecognized label, returning entity as is\u001b[0m \u001b[36mlabel\u001b[0m=\u001b[35mCURRENCY\u001b[0m\n",
      "\u001b[2m2024-06-10 23:43:31\u001b[0m [\u001b[32m\u001b[1mdebug    \u001b[0m] \u001b[1mIgnoring entity               \u001b[0m \u001b[36mentity_group\u001b[0m=\u001b[35mCURRENCY\u001b[0m\n",
      "\u001b[2m2024-06-10 23:43:31\u001b[0m [\u001b[33m\u001b[1mwarning  \u001b[0m] \u001b[1mFound unrecognized label, returning entity as is\u001b[0m \u001b[36mlabel\u001b[0m=\u001b[35mCURRENCY\u001b[0m\n",
      "\u001b[2m2024-06-10 23:43:31\u001b[0m [\u001b[32m\u001b[1mdebug    \u001b[0m] \u001b[1mIgnoring entity               \u001b[0m \u001b[36mentity_group\u001b[0m=\u001b[35mCURRENCY\u001b[0m\n",
      "\u001b[2m2024-06-10 23:43:31\u001b[0m [\u001b[32m\u001b[1mdebug    \u001b[0m] \u001b[1mNo sensitive data found in the output\u001b[0m\n",
      "\u001b[2m2024-06-10 23:43:31\u001b[0m [\u001b[32m\u001b[1mdebug    \u001b[0m] \u001b[1mScanner completed             \u001b[0m \u001b[36melapsed_time_seconds\u001b[0m=\u001b[35m46.247075\u001b[0m \u001b[36mis_valid\u001b[0m=\u001b[35mTrue\u001b[0m \u001b[36mscanner\u001b[0m=\u001b[35mSensitive\u001b[0m\n",
      "\u001b[2m2024-06-10 23:43:31\u001b[0m [\u001b[32m\u001b[1minfo     \u001b[0m] \u001b[1mScanned output                \u001b[0m \u001b[36melapsed_time_seconds\u001b[0m=\u001b[35m102.002173\u001b[0m \u001b[36mscores\u001b[0m=\u001b[35m{'NoRefusal': 0.0, 'Relevance': 0.0, 'Sensitive': 0.0}\u001b[0m\n",
      "\u001b[2m2024-06-10 23:43:31\u001b[0m [\u001b[33m\u001b[1mwarning  \u001b[0m] \u001b[1mFound unrecognized label, returning entity as is\u001b[0m \u001b[36mlabel\u001b[0m=\u001b[35mEYECOLOR\u001b[0m\n",
      "\u001b[2m2024-06-10 23:43:31\u001b[0m [\u001b[32m\u001b[1mdebug    \u001b[0m] \u001b[1mIgnoring entity               \u001b[0m \u001b[36mentity_group\u001b[0m=\u001b[35mEYECOLOR\u001b[0m\n",
      "\u001b[2m2024-06-10 23:43:31\u001b[0m [\u001b[32m\u001b[1mdebug    \u001b[0m] \u001b[1mNo sensitive data found in the output\u001b[0m\n",
      "\u001b[2m2024-06-10 23:43:31\u001b[0m [\u001b[32m\u001b[1mdebug    \u001b[0m] \u001b[1mScanner completed             \u001b[0m \u001b[36melapsed_time_seconds\u001b[0m=\u001b[35m41.027894\u001b[0m \u001b[36mis_valid\u001b[0m=\u001b[35mTrue\u001b[0m \u001b[36mscanner\u001b[0m=\u001b[35mSensitive\u001b[0m\n",
      "\u001b[2m2024-06-10 23:43:31\u001b[0m [\u001b[32m\u001b[1minfo     \u001b[0m] \u001b[1mScanned output                \u001b[0m \u001b[36melapsed_time_seconds\u001b[0m=\u001b[35m102.260248\u001b[0m \u001b[36mscores\u001b[0m=\u001b[35m{'NoRefusal': 0.0, 'Relevance': 0.0, 'Sensitive': 0.0}\u001b[0m\n"
     ]
    },
    {
     "data": {
      "text/html": [
       "<pre style=\"white-space:pre;overflow-x:auto;line-height:normal;font-family:Menlo,'DejaVu Sans Mono',consolas,'Courier New',monospace\">Evaluated <span style=\"color: #008080; text-decoration-color: #008080; font-weight: bold\">8</span> of <span style=\"color: #008080; text-decoration-color: #008080; font-weight: bold\">10</span> examples\n",
       "</pre>\n"
      ],
      "text/plain": [
       "Evaluated \u001b[1;36m8\u001b[0m of \u001b[1;36m10\u001b[0m examples\n"
      ]
     },
     "metadata": {},
     "output_type": "display_data"
    },
    {
     "data": {
      "text/html": [
       "<pre style=\"white-space:pre;overflow-x:auto;line-height:normal;font-family:Menlo,'DejaVu Sans Mono',consolas,'Courier New',monospace\">Evaluated <span style=\"color: #008080; text-decoration-color: #008080; font-weight: bold\">9</span> of <span style=\"color: #008080; text-decoration-color: #008080; font-weight: bold\">10</span> examples\n",
       "</pre>\n"
      ],
      "text/plain": [
       "Evaluated \u001b[1;36m9\u001b[0m of \u001b[1;36m10\u001b[0m examples\n"
      ]
     },
     "metadata": {},
     "output_type": "display_data"
    },
    {
     "name": "stdout",
     "output_type": "stream",
     "text": [
      "\u001b[2m2024-06-10 23:43:32\u001b[0m [\u001b[32m\u001b[1mdebug    \u001b[0m] \u001b[1mIgnoring entity               \u001b[0m \u001b[36mentity_group\u001b[0m=\u001b[35mORGANIZATION\u001b[0m\n",
      "\u001b[2m2024-06-10 23:43:32\u001b[0m [\u001b[32m\u001b[1mdebug    \u001b[0m] \u001b[1mIgnoring entity               \u001b[0m \u001b[36mentity_group\u001b[0m=\u001b[35mORGANIZATION\u001b[0m\n",
      "\u001b[2m2024-06-10 23:43:32\u001b[0m [\u001b[32m\u001b[1mdebug    \u001b[0m] \u001b[1mNo sensitive data found in the output\u001b[0m\n",
      "\u001b[2m2024-06-10 23:43:32\u001b[0m [\u001b[32m\u001b[1mdebug    \u001b[0m] \u001b[1mScanner completed             \u001b[0m \u001b[36melapsed_time_seconds\u001b[0m=\u001b[35m21.117702\u001b[0m \u001b[36mis_valid\u001b[0m=\u001b[35mTrue\u001b[0m \u001b[36mscanner\u001b[0m=\u001b[35mSensitive\u001b[0m\n",
      "\u001b[2m2024-06-10 23:43:32\u001b[0m [\u001b[32m\u001b[1minfo     \u001b[0m] \u001b[1mScanned output                \u001b[0m \u001b[36melapsed_time_seconds\u001b[0m=\u001b[35m87.997612\u001b[0m \u001b[36mscores\u001b[0m=\u001b[35m{'NoRefusal': 0.0, 'Relevance': 0.0, 'Sensitive': 0.0}\u001b[0m\n"
     ]
    },
    {
     "data": {
      "text/html": [
       "<pre style=\"white-space:pre;overflow-x:auto;line-height:normal;font-family:Menlo,'DejaVu Sans Mono',consolas,'Courier New',monospace\">Evaluated <span style=\"color: #008080; text-decoration-color: #008080; font-weight: bold\">10</span> of <span style=\"color: #008080; text-decoration-color: #008080; font-weight: bold\">10</span> examples\n",
       "</pre>\n"
      ],
      "text/plain": [
       "Evaluated \u001b[1;36m10\u001b[0m of \u001b[1;36m10\u001b[0m examples\n"
      ]
     },
     "metadata": {},
     "output_type": "display_data"
    },
    {
     "data": {
      "text/html": [
       "<pre style=\"white-space:pre;overflow-x:auto;line-height:normal;font-family:Menlo,'DejaVu Sans Mono',consolas,'Courier New',monospace\">Evaluation summary\n",
       "<span style=\"font-weight: bold\">{</span>\n",
       "    <span style=\"color: #008000; text-decoration-color: #008000\">'TonicValidateScorer'</span>: <span style=\"font-weight: bold\">{</span>\n",
       "        <span style=\"color: #008000; text-decoration-color: #008000\">'answer_similarity'</span>: <span style=\"font-weight: bold\">{</span><span style=\"color: #008000; text-decoration-color: #008000\">'mean'</span>: <span style=\"color: #008080; text-decoration-color: #008080; font-weight: bold\">1.3</span><span style=\"font-weight: bold\">}</span>,\n",
       "        <span style=\"color: #008000; text-decoration-color: #008000\">'augmentation_precision'</span>: <span style=\"font-weight: bold\">{</span><span style=\"color: #008000; text-decoration-color: #008000\">'mean'</span>: <span style=\"color: #008080; text-decoration-color: #008080; font-weight: bold\">0.3</span><span style=\"font-weight: bold\">}</span>,\n",
       "        <span style=\"color: #008000; text-decoration-color: #008000\">'answer_consistency'</span>: <span style=\"font-weight: bold\">{</span><span style=\"color: #008000; text-decoration-color: #008000\">'mean'</span>: <span style=\"color: #008080; text-decoration-color: #008080; font-weight: bold\">0.44666666666666666</span><span style=\"font-weight: bold\">}</span>\n",
       "    <span style=\"font-weight: bold\">}</span>,\n",
       "    <span style=\"color: #008000; text-decoration-color: #008000\">'LLMGuardScorer'</span>: <span style=\"font-weight: bold\">{</span>\n",
       "        <span style=\"color: #008000; text-decoration-color: #008000\">'results_valid'</span>: <span style=\"font-weight: bold\">{</span>\n",
       "            <span style=\"color: #008000; text-decoration-color: #008000\">'NoRefusal'</span>: <span style=\"font-weight: bold\">{</span><span style=\"color: #008000; text-decoration-color: #008000\">'true_count'</span>: <span style=\"color: #008080; text-decoration-color: #008080; font-weight: bold\">10</span>, <span style=\"color: #008000; text-decoration-color: #008000\">'true_fraction'</span>: <span style=\"color: #008080; text-decoration-color: #008080; font-weight: bold\">1.0</span><span style=\"font-weight: bold\">}</span>,\n",
       "            <span style=\"color: #008000; text-decoration-color: #008000\">'Relevance'</span>: <span style=\"font-weight: bold\">{</span><span style=\"color: #008000; text-decoration-color: #008000\">'true_count'</span>: <span style=\"color: #008080; text-decoration-color: #008080; font-weight: bold\">9</span>, <span style=\"color: #008000; text-decoration-color: #008000\">'true_fraction'</span>: <span style=\"color: #008080; text-decoration-color: #008080; font-weight: bold\">0.9</span><span style=\"font-weight: bold\">}</span>,\n",
       "            <span style=\"color: #008000; text-decoration-color: #008000\">'Sensitive'</span>: <span style=\"font-weight: bold\">{</span><span style=\"color: #008000; text-decoration-color: #008000\">'true_count'</span>: <span style=\"color: #008080; text-decoration-color: #008080; font-weight: bold\">8</span>, <span style=\"color: #008000; text-decoration-color: #008000\">'true_fraction'</span>: <span style=\"color: #008080; text-decoration-color: #008080; font-weight: bold\">0.8</span><span style=\"font-weight: bold\">}</span>\n",
       "        <span style=\"font-weight: bold\">}</span>,\n",
       "        <span style=\"color: #008000; text-decoration-color: #008000\">'results_score'</span>: <span style=\"font-weight: bold\">{</span>\n",
       "            <span style=\"color: #008000; text-decoration-color: #008000\">'NoRefusal'</span>: <span style=\"font-weight: bold\">{</span><span style=\"color: #008000; text-decoration-color: #008000\">'mean'</span>: <span style=\"color: #008080; text-decoration-color: #008080; font-weight: bold\">0.0</span><span style=\"font-weight: bold\">}</span>,\n",
       "            <span style=\"color: #008000; text-decoration-color: #008000\">'Relevance'</span>: <span style=\"font-weight: bold\">{</span><span style=\"color: #008000; text-decoration-color: #008000\">'mean'</span>: <span style=\"color: #008080; text-decoration-color: #008080; font-weight: bold\">0.051000000000000004</span><span style=\"font-weight: bold\">}</span>,\n",
       "            <span style=\"color: #008000; text-decoration-color: #008000\">'Sensitive'</span>: <span style=\"font-weight: bold\">{</span><span style=\"color: #008000; text-decoration-color: #008000\">'mean'</span>: <span style=\"color: #008080; text-decoration-color: #008080; font-weight: bold\">0.2</span><span style=\"font-weight: bold\">}</span>\n",
       "        <span style=\"font-weight: bold\">}</span>\n",
       "    <span style=\"font-weight: bold\">}</span>,\n",
       "    <span style=\"color: #008000; text-decoration-color: #008000\">'model_latency'</span>: <span style=\"font-weight: bold\">{</span><span style=\"color: #008000; text-decoration-color: #008000\">'mean'</span>: <span style=\"color: #008080; text-decoration-color: #008080; font-weight: bold\">21.244274926185607</span><span style=\"font-weight: bold\">}</span>\n",
       "<span style=\"font-weight: bold\">}</span>\n",
       "</pre>\n"
      ],
      "text/plain": [
       "Evaluation summary\n",
       "\u001b[1m{\u001b[0m\n",
       "    \u001b[32m'TonicValidateScorer'\u001b[0m: \u001b[1m{\u001b[0m\n",
       "        \u001b[32m'answer_similarity'\u001b[0m: \u001b[1m{\u001b[0m\u001b[32m'mean'\u001b[0m: \u001b[1;36m1.3\u001b[0m\u001b[1m}\u001b[0m,\n",
       "        \u001b[32m'augmentation_precision'\u001b[0m: \u001b[1m{\u001b[0m\u001b[32m'mean'\u001b[0m: \u001b[1;36m0.3\u001b[0m\u001b[1m}\u001b[0m,\n",
       "        \u001b[32m'answer_consistency'\u001b[0m: \u001b[1m{\u001b[0m\u001b[32m'mean'\u001b[0m: \u001b[1;36m0.44666666666666666\u001b[0m\u001b[1m}\u001b[0m\n",
       "    \u001b[1m}\u001b[0m,\n",
       "    \u001b[32m'LLMGuardScorer'\u001b[0m: \u001b[1m{\u001b[0m\n",
       "        \u001b[32m'results_valid'\u001b[0m: \u001b[1m{\u001b[0m\n",
       "            \u001b[32m'NoRefusal'\u001b[0m: \u001b[1m{\u001b[0m\u001b[32m'true_count'\u001b[0m: \u001b[1;36m10\u001b[0m, \u001b[32m'true_fraction'\u001b[0m: \u001b[1;36m1.0\u001b[0m\u001b[1m}\u001b[0m,\n",
       "            \u001b[32m'Relevance'\u001b[0m: \u001b[1m{\u001b[0m\u001b[32m'true_count'\u001b[0m: \u001b[1;36m9\u001b[0m, \u001b[32m'true_fraction'\u001b[0m: \u001b[1;36m0.9\u001b[0m\u001b[1m}\u001b[0m,\n",
       "            \u001b[32m'Sensitive'\u001b[0m: \u001b[1m{\u001b[0m\u001b[32m'true_count'\u001b[0m: \u001b[1;36m8\u001b[0m, \u001b[32m'true_fraction'\u001b[0m: \u001b[1;36m0.8\u001b[0m\u001b[1m}\u001b[0m\n",
       "        \u001b[1m}\u001b[0m,\n",
       "        \u001b[32m'results_score'\u001b[0m: \u001b[1m{\u001b[0m\n",
       "            \u001b[32m'NoRefusal'\u001b[0m: \u001b[1m{\u001b[0m\u001b[32m'mean'\u001b[0m: \u001b[1;36m0.0\u001b[0m\u001b[1m}\u001b[0m,\n",
       "            \u001b[32m'Relevance'\u001b[0m: \u001b[1m{\u001b[0m\u001b[32m'mean'\u001b[0m: \u001b[1;36m0.051000000000000004\u001b[0m\u001b[1m}\u001b[0m,\n",
       "            \u001b[32m'Sensitive'\u001b[0m: \u001b[1m{\u001b[0m\u001b[32m'mean'\u001b[0m: \u001b[1;36m0.2\u001b[0m\u001b[1m}\u001b[0m\n",
       "        \u001b[1m}\u001b[0m\n",
       "    \u001b[1m}\u001b[0m,\n",
       "    \u001b[32m'model_latency'\u001b[0m: \u001b[1m{\u001b[0m\u001b[32m'mean'\u001b[0m: \u001b[1;36m21.244274926185607\u001b[0m\u001b[1m}\u001b[0m\n",
       "\u001b[1m}\u001b[0m\n"
      ]
     },
     "metadata": {},
     "output_type": "display_data"
    },
    {
     "name": "stdout",
     "output_type": "stream",
     "text": [
      "🍩 https://wandb.ai/a-sh0ts/bioasq-rag-data/r/call/c20f29bd-453c-4f80-9d5e-b58c4f7afe7a\n"
     ]
    },
    {
     "data": {
      "text/plain": [
       "{'TonicValidateScorer': {'answer_similarity': {'mean': 1.3},\n",
       "  'augmentation_precision': {'mean': 0.3},\n",
       "  'answer_consistency': {'mean': 0.44666666666666666}},\n",
       " 'LLMGuardScorer': {'results_valid': {'NoRefusal': {'true_count': 10,\n",
       "    'true_fraction': 1.0},\n",
       "   'Relevance': {'true_count': 9, 'true_fraction': 0.9},\n",
       "   'Sensitive': {'true_count': 8, 'true_fraction': 0.8}},\n",
       "  'results_score': {'NoRefusal': {'mean': 0.0},\n",
       "   'Relevance': {'mean': 0.051000000000000004},\n",
       "   'Sensitive': {'mean': 0.2}}},\n",
       " 'model_latency': {'mean': 21.244274926185607}}"
      ]
     },
     "execution_count": 41,
     "metadata": {},
     "output_type": "execute_result"
    }
   ],
   "source": [
    "evaluation = weave.Evaluation(dataset=sub_qap, scorers=scorers)\n",
    "await evaluation.evaluate(rag_model)"
   ]
  },
  {
   "cell_type": "code",
   "execution_count": null,
   "metadata": {},
   "outputs": [],
   "source": []
  }
 ],
 "metadata": {
  "kernelspec": {
   "display_name": ".venv",
   "language": "python",
   "name": "python3"
  },
  "language_info": {
   "codemirror_mode": {
    "name": "ipython",
    "version": 3
   },
   "file_extension": ".py",
   "mimetype": "text/x-python",
   "name": "python",
   "nbconvert_exporter": "python",
   "pygments_lexer": "ipython3",
   "version": "3.10.12"
  }
 },
 "nbformat": 4,
 "nbformat_minor": 2
}
